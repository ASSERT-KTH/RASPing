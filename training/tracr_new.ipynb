{
 "cells": [
  {
   "cell_type": "code",
   "execution_count": 1,
   "metadata": {},
   "outputs": [],
   "source": [
    "from tracr.rasp import rasp\n",
    "\n",
    "def make_sort_unique(vals: rasp.SOp, keys: rasp.SOp) -> rasp.SOp:\n",
    "  \"\"\"Returns vals sorted by < relation on keys.\n",
    "\n",
    "  Only supports unique keys.\n",
    "\n",
    "  Example usage:\n",
    "    sort = make_sort(rasp.tokens, rasp.tokens)\n",
    "    sort([2, 4, 3, 1])\n",
    "    >> [1, 2, 3, 4]\n",
    "\n",
    "  Args:\n",
    "    vals: Values to sort.\n",
    "    keys: Keys for sorting.\n",
    "  \"\"\"\n",
    "  smaller = rasp.Select(keys, keys, rasp.Comparison.LT).named(\"smaller\")\n",
    "  target_pos = rasp.SelectorWidth(smaller).named(\"target_pos\")\n",
    "  sel_new = rasp.Select(target_pos, rasp.indices, rasp.Comparison.EQ)\n",
    "  return rasp.Aggregate(sel_new, vals).named(\"sort\")\n",
    "\n",
    "\n",
    "def make_sort(vals: rasp.SOp, keys: rasp.SOp, *, max_seq_len: int,\n",
    "              min_key: float) -> rasp.SOp:\n",
    "  \"\"\"Returns vals sorted by < relation on keys, which don't need to be unique.\n",
    "\n",
    "  The implementation differs from the RASP paper, as it avoids using\n",
    "  compositions of selectors to break ties. Instead, it uses the arguments\n",
    "  max_seq_len and min_key to ensure the keys are unique.\n",
    "\n",
    "  Note that this approach only works for numerical keys.\n",
    "\n",
    "  Example usage:\n",
    "    sort = make_sort(rasp.tokens, rasp.tokens, 5, 1)\n",
    "    sort([2, 4, 3, 1])\n",
    "    >> [1, 2, 3, 4]\n",
    "    sort([2, 4, 1, 2])\n",
    "    >> [1, 2, 2, 4]\n",
    "\n",
    "  Args:\n",
    "    vals: Values to sort.\n",
    "    keys: Keys for sorting.\n",
    "    max_seq_len: Maximum sequence length (used to ensure keys are unique)\n",
    "    min_key: Minimum key value (used to ensure keys are unique)\n",
    "\n",
    "  Returns:\n",
    "    Output SOp of sort program.\n",
    "  \"\"\"\n",
    "  keys = rasp.SequenceMap(lambda x, i: x + min_key * i / max_seq_len, keys,\n",
    "                          rasp.indices)\n",
    "  return make_sort_unique(vals, keys)\n"
   ]
  },
  {
   "cell_type": "code",
   "execution_count": 2,
   "metadata": {},
   "outputs": [
    {
     "name": "stdout",
     "output_type": "stream",
     "text": [
      "TransformerConfig(num_heads=1, num_layers=3, key_size=27, mlp_hidden_size=25, dropout_rate=0.0, activation_function=<jax._src.custom_derivatives.custom_jvp object at 0x76723c6b76e0>, layer_norm=False, causal=False)\n"
     ]
    }
   ],
   "source": [
    "from tracr.compiler import compiling\n",
    "\n",
    "sort = make_sort(rasp.tokens, rasp.tokens, max_seq_len=20, min_key=1)\n",
    "bos = \"BOS\"\n",
    "max_seq_len=5\n",
    "model = compiling.compile_rasp_to_model(\n",
    "    sort,\n",
    "    vocab={10, 20, 30, 40, 50},\n",
    "    max_seq_len=max_seq_len,\n",
    "    compiler_bos=bos,\n",
    ")\n",
    "print(model.model_config)"
   ]
  },
  {
   "cell_type": "code",
   "execution_count": 3,
   "metadata": {},
   "outputs": [],
   "source": [
    "from tracr.rasp import rasp\n",
    "\n",
    "def make_sort_unique_buggy(vals: rasp.SOp, keys: rasp.SOp) -> rasp.SOp:\n",
    "  \"\"\"Returns vals sorted by < relation on keys.\n",
    "\n",
    "  Only supports unique keys.\n",
    "\n",
    "  Example usage:\n",
    "    sort = make_sort(rasp.tokens, rasp.tokens)\n",
    "    sort([2, 4, 3, 1])\n",
    "    >> [1, 2, 3, 4]\n",
    "\n",
    "  Args:\n",
    "    vals: Values to sort.\n",
    "    keys: Keys for sorting.\n",
    "  \"\"\"\n",
    "  # BUG: GT instead of LT, resulting in descending order instead of ascending\n",
    "  smaller = rasp.Select(keys, keys, rasp.Comparison.GT).named(\"smaller\")\n",
    "  target_pos = rasp.SelectorWidth(smaller).named(\"target_pos\")\n",
    "  sel_new = rasp.Select(target_pos, rasp.indices, rasp.Comparison.EQ)\n",
    "  return rasp.Aggregate(sel_new, vals).named(\"sort\")\n",
    "\n",
    "\n",
    "def make_sort_buggy(vals: rasp.SOp, keys: rasp.SOp, *, max_seq_len: int,\n",
    "              min_key: float) -> rasp.SOp:\n",
    "  \"\"\"Returns vals sorted by < relation on keys, which don't need to be unique.\n",
    "\n",
    "  The implementation differs from the RASP paper, as it avoids using\n",
    "  compositions of selectors to break ties. Instead, it uses the arguments\n",
    "  max_seq_len and min_key to ensure the keys are unique.\n",
    "\n",
    "  Note that this approach only works for numerical keys.\n",
    "\n",
    "  Example usage:\n",
    "    sort = make_sort(rasp.tokens, rasp.tokens, 5, 1)\n",
    "    sort([2, 4, 3, 1])\n",
    "    >> [1, 2, 3, 4]\n",
    "    sort([2, 4, 1, 2])\n",
    "    >> [1, 2, 2, 4]\n",
    "\n",
    "  Args:\n",
    "    vals: Values to sort.\n",
    "    keys: Keys for sorting.\n",
    "    max_seq_len: Maximum sequence length (used to ensure keys are unique)\n",
    "    min_key: Minimum key value (used to ensure keys are unique)\n",
    "\n",
    "  Returns:\n",
    "    Output SOp of sort program.\n",
    "  \"\"\"\n",
    "  keys = rasp.SequenceMap(lambda x, i: x + min_key * i / max_seq_len, keys,\n",
    "                          rasp.indices)\n",
    "  return make_sort_unique_buggy(vals, keys)"
   ]
  },
  {
   "cell_type": "code",
   "execution_count": 13,
   "metadata": {},
   "outputs": [
    {
     "name": "stdout",
     "output_type": "stream",
     "text": [
      "TransformerConfig(num_heads=1, num_layers=3, key_size=27, mlp_hidden_size=25, dropout_rate=0.0, activation_function=<jax._src.custom_derivatives.custom_jvp object at 0x76723c6b76e0>, layer_norm=False, causal=False)\n",
      "TransformerConfig(num_heads=1, num_layers=3, key_size=27, mlp_hidden_size=25, dropout_rate=0.0, activation_function=<jax._src.custom_derivatives.custom_jvp object at 0x76723c6b76e0>, layer_norm=False, causal=False)\n"
     ]
    }
   ],
   "source": [
    "from tracr.compiler import compiling\n",
    "\n",
    "sort = make_sort(rasp.tokens, rasp.tokens, max_seq_len=20, min_key=1)\n",
    "bos = \"BOS\"\n",
    "max_seq_len=5\n",
    "model = compiling.compile_rasp_to_model(\n",
    "    sort,\n",
    "    vocab={10, 20, 30, 40, 50},\n",
    "    max_seq_len=max_seq_len,\n",
    "    compiler_bos=bos,\n",
    ")\n",
    "print(model.model_config)\n",
    "\n",
    "\n",
    "buggy_sort = make_sort_buggy(rasp.tokens, rasp.tokens, max_seq_len=20, min_key=1)\n",
    "bos = \"BOS\"\n",
    "max_seq_len=5\n",
    "buggy_model = compiling.compile_rasp_to_model(\n",
    "    buggy_sort,\n",
    "    vocab={10, 20, 30, 40, 50},\n",
    "    max_seq_len=max_seq_len,\n",
    "    compiler_bos=bos,\n",
    ")\n",
    "print(buggy_model.model_config)"
   ]
  },
  {
   "cell_type": "code",
   "execution_count": 14,
   "metadata": {},
   "outputs": [
    {
     "name": "stdout",
     "output_type": "stream",
     "text": [
      "(1000, 6)\n",
      "(860, 6)\n",
      "(774, 6) (86, 6)\n"
     ]
    }
   ],
   "source": [
    "import numpy as np\n",
    "import jax\n",
    "\n",
    "acceptedTokens = [10, 20, 30, 40, 50]\n",
    "maxSeqLength = max_seq_len\n",
    "size = 1000\n",
    "X = []\n",
    "Y = []\n",
    "\n",
    "for i in range(size):\n",
    "    # TODO: implement padding for training\n",
    "    # inputLength = np.random.randint(2, maxSeqLength+1)  #Uniformly distributed between 2 and max length\n",
    "    inputLength = maxSeqLength\n",
    "\n",
    "    inputSeq = []\n",
    "    outputSeq = []\n",
    "    for t in np.random.choice(acceptedTokens, inputLength):\n",
    "        inputSeq.append(t)\n",
    "        outputSeq.append(t)\n",
    "\n",
    "    inputSeq.insert(0, bos)\n",
    "    outputSeq.sort()\n",
    "    outputSeq.insert(0, 10) # The output_encoder does has a None bos_encoding, so we use the input_encoder's\n",
    "\n",
    "    inputSeq = jax.numpy.array(model.input_encoder.encode(inputSeq))\n",
    "    outputSeq = jax.numpy.array(model.output_encoder.encode(outputSeq))\n",
    "\n",
    "    X.append(inputSeq)\n",
    "    Y.append(outputSeq)\n",
    "\n",
    "X = jax.numpy.array(X)\n",
    "Y = jax.numpy.array(Y)\n",
    "\n",
    "X, Y\n",
    "print(X.shape)\n",
    "\n",
    "# Remove duplicates from X, and the corresponding Y\n",
    "X, indices = np.unique(X, return_index=True, axis=0)\n",
    "Y = Y[indices]\n",
    "print(X.shape)\n",
    "\n",
    "# Split test and validation\n",
    "split = int(X.shape[0] * 0.90)\n",
    "X_train, X_test = X[:split], X[split:]\n",
    "Y_train, Y_test = Y[:split], Y[split:]\n",
    "print(X_train.shape, X_test.shape)"
   ]
  },
  {
   "cell_type": "code",
   "execution_count": 15,
   "metadata": {},
   "outputs": [],
   "source": [
    "import haiku as hk\n",
    "import jax\n",
    "\n",
    "params = model.params\n",
    "hk_model = hk.transform(model.get_compiled_model)\n",
    "hk_model = hk_model.apply(params, jax.random.PRNGKey(42))\n",
    "hk_model.use_unembed_argmax = False"
   ]
  },
  {
   "cell_type": "code",
   "execution_count": 16,
   "metadata": {},
   "outputs": [],
   "source": [
    "def forward(x):\n",
    "    return hk_model(x)\n",
    "\n",
    "forward = hk.without_apply_rng(hk.transform(forward))"
   ]
  },
  {
   "cell_type": "code",
   "execution_count": 17,
   "metadata": {},
   "outputs": [
    {
     "name": "stdout",
     "output_type": "stream",
     "text": [
      "Encoding map:\n",
      "{10: 0, 20: 1, 30: 2, 40: 3, 50: 4, 'BOS': 5, 'compiler_pad': 6}\n",
      "Example input and output:\n",
      "[5 0 0 0 0 3]\n",
      "[0 0 0 0 0 3]\n",
      "Example forward pass:\n",
      "[[[2.6479832e-04 0.0000000e+00 0.0000000e+00 6.6199580e-05 0.0000000e+00]\n",
      "  [9.9993372e-01 0.0000000e+00 0.0000000e+00 4.3849981e-09 0.0000000e+00]\n",
      "  [9.9993372e-01 0.0000000e+00 0.0000000e+00 4.3849981e-09 0.0000000e+00]\n",
      "  [9.9993372e-01 0.0000000e+00 0.0000000e+00 4.3849981e-09 0.0000000e+00]\n",
      "  [9.9993372e-01 0.0000000e+00 0.0000000e+00 4.3849981e-09 0.0000000e+00]\n",
      "  [1.7539833e-08 0.0000000e+00 0.0000000e+00 9.9993372e-01 0.0000000e+00]]]\n",
      "[0 0 0 0 0 3]\n",
      "Example forward pass with model wrapper:\n",
      "['BOS', 20, 30, 40, 40, 50]\n"
     ]
    }
   ],
   "source": [
    "print(\"Encoding map:\")\n",
    "print(model.input_encoder.encoding_map)\n",
    "\n",
    "print(\"Example input and output:\")\n",
    "print(X_train[0])\n",
    "print(Y_train[0])\n",
    "\n",
    "print(\"Example forward pass:\")\n",
    "output = forward.apply(model.params, jax.numpy.array([X_train[0]]))\n",
    "print(output.unembedded_output)\n",
    "print(output.unembedded_output.argmax(axis=-1)[0])\n",
    "\n",
    "print(\"Example forward pass with model wrapper:\")\n",
    "print(model.apply([bos, 40, 50, 20, 30, 40]).decoded)"
   ]
  },
  {
   "cell_type": "code",
   "execution_count": 18,
   "metadata": {},
   "outputs": [],
   "source": [
    "import jax\n",
    "import optax\n",
    "import jax.numpy as jnp\n",
    "\n",
    "from typing import NamedTuple\n",
    "\n",
    "@jax.jit\n",
    "def cross_entropy(logits, labels):\n",
    "  return -jnp.sum(labels * jax.nn.log_softmax(logits)) / logits.shape[0]\n",
    "\n",
    "# TODO: ignore first position and apply softmax after ignoring first position\n",
    "@jax.jit\n",
    "def loss_fn(params, x, y):\n",
    "  logits = forward.apply(params, x).unembedded_output\n",
    "  labels = jax.nn.one_hot(y, logits.shape[-1])\n",
    "  return cross_entropy(logits, labels)\n",
    "\n",
    "class TrainingState(NamedTuple):\n",
    "  params: hk.Params\n",
    "  opt_state: optax.OptState\n",
    "\n",
    "# FIXME: jax.jit is not working due to some problem with vmap\n",
    "# @jax.jit\n",
    "def update(optimiser, state: TrainingState, x, y) -> TrainingState:\n",
    "  \"\"\"Learning rule (stochastic gradient descent).\"\"\"\n",
    "  grads = jax.grad(loss_fn)(state.params, x, y)\n",
    "  updates, opt_state = optimiser.update(grads, state.opt_state)\n",
    "  params = optax.apply_updates(state.params, updates)\n",
    "  # TODO: perhaps use incremental updates with average params\n",
    "  return TrainingState(params, opt_state)"
   ]
  },
  {
   "cell_type": "code",
   "execution_count": 19,
   "metadata": {},
   "outputs": [],
   "source": [
    "import tqdm\n",
    "import matplotlib.pyplot as plt\n",
    "\n",
    "def train(initial_params, X, Y, n_epochs=1, batch_size=8, lr=0.0001, plot=False):\n",
    "    losses = []  # to store the loss values\n",
    "\n",
    "    optimiser = optax.adam(lr)\n",
    "    state = TrainingState(initial_params, optimiser.init(params))\n",
    "\n",
    "    for _ in tqdm.trange(n_epochs):\n",
    "        for i in range(0, len(X), batch_size):\n",
    "            x = X[i:i + batch_size]\n",
    "            y = Y[i:i + batch_size]\n",
    "            state = update(optimiser, state, x, y)\n",
    "            \n",
    "        # Compute loss every epoch\n",
    "        if plot:\n",
    "            loss = loss_fn(state.params, X, Y)\n",
    "            losses.append(loss)\n",
    "\n",
    "    if plot:\n",
    "        # plot the loss values\n",
    "        plt.plot(losses)\n",
    "        plt.xlabel('Epoch')\n",
    "        plt.ylabel('Loss')\n",
    "        plt.title('Training Loss')\n",
    "        plt.show()\n",
    "\n",
    "    return state.params"
   ]
  },
  {
   "cell_type": "code",
   "execution_count": 20,
   "metadata": {},
   "outputs": [],
   "source": [
    "def evaluate(params, X, Y):\n",
    "    \"\"\"\n",
    "    Computes the accuracy (exact-match) of the model on the given data (X) and labels (Y).\n",
    "    \"\"\"\n",
    "    correct = 0\n",
    "    for x, y in zip(X, Y):\n",
    "        logits = forward.apply(params, jax.numpy.array([x])).unembedded_output\n",
    "        pred = jnp.argmax(logits, axis=-1)[0]\n",
    "        correct += jnp.all(pred[1:] == y[1:])\n",
    "    return correct / len(X)"
   ]
  },
  {
   "cell_type": "code",
   "execution_count": 22,
   "metadata": {},
   "outputs": [
    {
     "name": "stdout",
     "output_type": "stream",
     "text": [
      "Correct model:  1.0\n",
      "Buggy model:  0.0\n"
     ]
    }
   ],
   "source": [
    "print(\"Correct model: \", evaluate(model.params, X_test, Y_test))\n",
    "print(\"Buggy model: \", evaluate(buggy_model.params, X_test, Y_test))"
   ]
  },
  {
   "cell_type": "code",
   "execution_count": 23,
   "metadata": {},
   "outputs": [
    {
     "name": "stderr",
     "output_type": "stream",
     "text": [
      "100%|██████████| 5000/5000 [13:17<00:00,  6.27it/s]\n"
     ]
    },
    {
     "data": {
      "image/png": "[encoded data removed]",
      "text/plain": [
       "<Figure size 640x480 with 1 Axes>"
      ]
     },
     "metadata": {},
     "output_type": "display_data"
    }
   ],
   "source": [
    "new_params = train(buggy_model.params, X_train, Y_train, n_epochs=5000, batch_size=256, lr=1e-5, plot=True)"
   ]
  },
  {
   "cell_type": "code",
   "execution_count": 24,
   "metadata": {},
   "outputs": [
    {
     "name": "stdout",
     "output_type": "stream",
     "text": [
      "[5 4 2 2 4 0]\n",
      "[0 0 2 2 4 4]\n",
      "[0 0 2 2 4 4]\n"
     ]
    }
   ],
   "source": [
    "print(X_test[0])\n",
    "print(Y_test[0])\n",
    "\n",
    "print(forward.apply(new_params, jax.numpy.array([X_test[0]])).unembedded_output.argmax(axis=-1)[0])"
   ]
  },
  {
   "cell_type": "code",
   "execution_count": 25,
   "metadata": {},
   "outputs": [
    {
     "data": {
      "text/plain": [
       "Array(0.29069766, dtype=float32, weak_type=True)"
      ]
     },
     "execution_count": 25,
     "metadata": {},
     "output_type": "execute_result"
    }
   ],
   "source": [
    "evaluate(new_params, X_test, Y_test)"
   ]
  },
  {
   "cell_type": "code",
   "execution_count": 26,
   "metadata": {},
   "outputs": [],
   "source": [
    "def initialize_normal(params, mean=0.0, std=1.0):\n",
    "    return jax.tree_util.tree_map(\n",
    "        lambda p: jax.random.normal(jax.random.PRNGKey(42), p.shape) * std + mean,\n",
    "        params\n",
    "    )\n",
    "\n",
    "random_params = initialize_normal(model.params)"
   ]
  },
  {
   "cell_type": "code",
   "execution_count": 27,
   "metadata": {},
   "outputs": [
    {
     "data": {
      "text/plain": [
       "Array(0., dtype=float32, weak_type=True)"
      ]
     },
     "execution_count": 27,
     "metadata": {},
     "output_type": "execute_result"
    }
   ],
   "source": [
    "evaluate(random_params, X_test, Y_test)"
   ]
  },
  {
   "cell_type": "code",
   "execution_count": 28,
   "metadata": {},
   "outputs": [
    {
     "name": "stdout",
     "output_type": "stream",
     "text": [
      "[5 4 2 2 4 0]\n",
      "[0 0 2 2 4 4]\n",
      "[1 0 2 1 2 1]\n"
     ]
    }
   ],
   "source": [
    "print(X_test[0])\n",
    "print(Y_test[0])\n",
    "\n",
    "print(forward.apply(random_params, jax.numpy.array([X_test[0]])).unembedded_output.argmax(axis=-1)[0])"
   ]
  },
  {
   "cell_type": "code",
   "execution_count": 33,
   "metadata": {},
   "outputs": [
    {
     "name": "stderr",
     "output_type": "stream",
     "text": [
      "  0%|          | 0/100 [00:00<?, ?it/s]"
     ]
    },
    {
     "name": "stderr",
     "output_type": "stream",
     "text": [
      "100%|██████████| 100/100 [00:13<00:00,  7.24it/s]\n"
     ]
    },
    {
     "name": "stdout",
     "output_type": "stream",
     "text": [
      "   n_epochs  batch_size  learning_rate accuracy\n",
      "0       100         256        0.00001      0.0\n"
     ]
    }
   ],
   "source": [
    "import pandas as pd\n",
    "\n",
    "# Define the hyper-parameter values to search\n",
    "n_epochs_values = [100]\n",
    "batch_size_values = [256]\n",
    "learning_rate_values = [1e-5]\n",
    "\n",
    "# Create an empty DataFrame to store the results\n",
    "results = []\n",
    "\n",
    "# Perform hyper-parameter search\n",
    "for n_epochs in n_epochs_values:\n",
    "    for batch_size in batch_size_values:\n",
    "        for learning_rate in learning_rate_values:\n",
    "            # Train the model with the current hyper-parameters\n",
    "            trained_params = train(random_params, X_train, Y_train, n_epochs=n_epochs, batch_size=batch_size, lr=learning_rate)\n",
    "            \n",
    "            # Evaluate the model on the test set\n",
    "            accuracy = evaluate(trained_params, X_test, Y_test)\n",
    "            \n",
    "            # Append the results to the DataFrame\n",
    "            results.append({\"n_epochs\": n_epochs, \"batch_size\": batch_size, \"learning_rate\": learning_rate, \"accuracy\": accuracy})\n",
    "\n",
    "# Print the results\n",
    "print(pd.DataFrame(results).to_string())"
   ]
  },
  {
   "cell_type": "code",
   "execution_count": 34,
   "metadata": {},
   "outputs": [
    {
     "name": "stdout",
     "output_type": "stream",
     "text": [
      "[5 4 2 2 4 0]\n",
      "[0 0 2 2 4 4]\n",
      "[0 0 0 0 0 0]\n"
     ]
    }
   ],
   "source": [
    "print(X_test[0])\n",
    "print(Y_test[0])\n",
    "\n",
    "print(forward.apply(trained_params, jax.numpy.array([X_test[0]])).unembedded_output.argmax(axis=-1)[0])"
   ]
  },
  {
   "cell_type": "code",
   "execution_count": 35,
   "metadata": {},
   "outputs": [
    {
     "data": {
      "text/plain": [
       "{'pos_embed': {'embeddings': Array([[nan, nan, nan, nan, nan, nan, nan, nan, nan, nan, nan, nan, nan,\n",
       "          nan, nan, nan, nan, nan, nan, nan, nan, nan, nan, nan, nan, nan,\n",
       "          nan, nan, nan, nan, nan, nan, nan, nan, nan, nan, nan, nan, nan,\n",
       "          nan, nan, nan, nan, nan, nan, nan, nan, nan, nan, nan],\n",
       "         [nan, nan, nan, nan, nan, nan, nan, nan, nan, nan, nan, nan, nan,\n",
       "          nan, nan, nan, nan, nan, nan, nan, nan, nan, nan, nan, nan, nan,\n",
       "          nan, nan, nan, nan, nan, nan, nan, nan, nan, nan, nan, nan, nan,\n",
       "          nan, nan, nan, nan, nan, nan, nan, nan, nan, nan, nan],\n",
       "         [nan, nan, nan, nan, nan, nan, nan, nan, nan, nan, nan, nan, nan,\n",
       "          nan, nan, nan, nan, nan, nan, nan, nan, nan, nan, nan, nan, nan,\n",
       "          nan, nan, nan, nan, nan, nan, nan, nan, nan, nan, nan, nan, nan,\n",
       "          nan, nan, nan, nan, nan, nan, nan, nan, nan, nan, nan],\n",
       "         [nan, nan, nan, nan, nan, nan, nan, nan, nan, nan, nan, nan, nan,\n",
       "          nan, nan, nan, nan, nan, nan, nan, nan, nan, nan, nan, nan, nan,\n",
       "          nan, nan, nan, nan, nan, nan, nan, nan, nan, nan, nan, nan, nan,\n",
       "          nan, nan, nan, nan, nan, nan, nan, nan, nan, nan, nan],\n",
       "         [nan, nan, nan, nan, nan, nan, nan, nan, nan, nan, nan, nan, nan,\n",
       "          nan, nan, nan, nan, nan, nan, nan, nan, nan, nan, nan, nan, nan,\n",
       "          nan, nan, nan, nan, nan, nan, nan, nan, nan, nan, nan, nan, nan,\n",
       "          nan, nan, nan, nan, nan, nan, nan, nan, nan, nan, nan],\n",
       "         [nan, nan, nan, nan, nan, nan, nan, nan, nan, nan, nan, nan, nan,\n",
       "          nan, nan, nan, nan, nan, nan, nan, nan, nan, nan, nan, nan, nan,\n",
       "          nan, nan, nan, nan, nan, nan, nan, nan, nan, nan, nan, nan, nan,\n",
       "          nan, nan, nan, nan, nan, nan, nan, nan, nan, nan, nan]],      dtype=float32)},\n",
       " 'token_embed': {'embeddings': Array([[        nan,         nan,         nan,         nan,         nan,\n",
       "                  nan,         nan,         nan,         nan,         nan,\n",
       "                  nan,         nan,         nan,         nan,         nan,\n",
       "                  nan,         nan,         nan,         nan,         nan,\n",
       "                  nan,         nan,         nan,         nan,         nan,\n",
       "                  nan,         nan,         nan,         nan,         nan,\n",
       "                  nan,         nan,         nan,         nan,         nan,\n",
       "                  nan,         nan,         nan,         nan,         nan,\n",
       "                  nan,         nan,         nan,         nan,         nan,\n",
       "                  nan,         nan,         nan,         nan,         nan],\n",
       "         [        nan,         nan,         nan,         nan,         nan,\n",
       "                  nan,         nan,         nan,         nan,         nan,\n",
       "                  nan,         nan,         nan,         nan,         nan,\n",
       "                  nan,         nan,         nan,         nan,         nan,\n",
       "                  nan,         nan,         nan,         nan,         nan,\n",
       "                  nan,         nan,         nan,         nan,         nan,\n",
       "                  nan,         nan,         nan,         nan,         nan,\n",
       "                  nan,         nan,         nan,         nan,         nan,\n",
       "                  nan,         nan,         nan,         nan,         nan,\n",
       "                  nan,         nan,         nan,         nan,         nan],\n",
       "         [        nan,         nan,         nan,         nan,         nan,\n",
       "                  nan,         nan,         nan,         nan,         nan,\n",
       "                  nan,         nan,         nan,         nan,         nan,\n",
       "                  nan,         nan,         nan,         nan,         nan,\n",
       "                  nan,         nan,         nan,         nan,         nan,\n",
       "                  nan,         nan,         nan,         nan,         nan,\n",
       "                  nan,         nan,         nan,         nan,         nan,\n",
       "                  nan,         nan,         nan,         nan,         nan,\n",
       "                  nan,         nan,         nan,         nan,         nan,\n",
       "                  nan,         nan,         nan,         nan,         nan],\n",
       "         [        nan,         nan,         nan,         nan,         nan,\n",
       "                  nan,         nan,         nan,         nan,         nan,\n",
       "                  nan,         nan,         nan,         nan,         nan,\n",
       "                  nan,         nan,         nan,         nan,         nan,\n",
       "                  nan,         nan,         nan,         nan,         nan,\n",
       "                  nan,         nan,         nan,         nan,         nan,\n",
       "                  nan,         nan,         nan,         nan,         nan,\n",
       "                  nan,         nan,         nan,         nan,         nan,\n",
       "                  nan,         nan,         nan,         nan,         nan,\n",
       "                  nan,         nan,         nan,         nan,         nan],\n",
       "         [        nan,         nan,         nan,         nan,         nan,\n",
       "                  nan,         nan,         nan,         nan,         nan,\n",
       "                  nan,         nan,         nan,         nan,         nan,\n",
       "                  nan,         nan,         nan,         nan,         nan,\n",
       "                  nan,         nan,         nan,         nan,         nan,\n",
       "                  nan,         nan,         nan,         nan,         nan,\n",
       "                  nan,         nan,         nan,         nan,         nan,\n",
       "                  nan,         nan,         nan,         nan,         nan,\n",
       "                  nan,         nan,         nan,         nan,         nan,\n",
       "                  nan,         nan,         nan,         nan,         nan],\n",
       "         [        nan,         nan,         nan,         nan,         nan,\n",
       "                  nan,         nan,         nan,         nan,         nan,\n",
       "                  nan,         nan,         nan,         nan,         nan,\n",
       "                  nan,         nan,         nan,         nan,         nan,\n",
       "                  nan,         nan,         nan,         nan,         nan,\n",
       "                  nan,         nan,         nan,         nan,         nan,\n",
       "                  nan,         nan,         nan,         nan,         nan,\n",
       "                  nan,         nan,         nan,         nan,         nan,\n",
       "                  nan,         nan,         nan,         nan,         nan,\n",
       "                  nan,         nan,         nan,         nan,         nan],\n",
       "         [-0.16934101,  1.0249794 ,  1.5890766 ,  0.989513  ,  0.769241  ,\n",
       "          -1.5376883 , -0.7443877 ,  0.8018156 , -0.11315052,  0.67079186,\n",
       "           0.62283885, -1.1023544 , -0.2131008 , -0.6671398 , -2.2152178 ,\n",
       "           1.3250903 ,  1.6362431 ,  0.6746722 ,  0.3590162 , -1.0647202 ,\n",
       "          -1.4151797 ,  1.1016418 , -0.19674379, -0.39336315, -1.732082  ,\n",
       "          -1.2493681 , -0.01971422, -0.19772118, -1.3372629 , -0.2683381 ,\n",
       "           0.7578251 , -0.26835763,  0.6978463 , -0.35234237,  0.4892086 ,\n",
       "          -1.559317  , -2.0602825 ,  0.81789094, -0.42583477,  0.36295408,\n",
       "          -0.9422807 ,  0.8000539 ,  2.3604882 , -0.26209062, -0.46530747,\n",
       "           0.6096245 ,  1.3085421 , -0.41338488,  1.3395221 ,  0.3113503 ]],      dtype=float32)},\n",
       " 'transformer/layer_0/attn/key': {'b': Array([nan, nan, nan, nan, nan, nan, nan, nan, nan, nan, nan, nan, nan,\n",
       "         nan, nan, nan, nan, nan, nan, nan, nan, nan, nan, nan, nan, nan,\n",
       "         nan], dtype=float32),\n",
       "  'w': Array([[nan, nan, nan, ..., nan, nan, nan],\n",
       "         [nan, nan, nan, ..., nan, nan, nan],\n",
       "         [nan, nan, nan, ..., nan, nan, nan],\n",
       "         ...,\n",
       "         [nan, nan, nan, ..., nan, nan, nan],\n",
       "         [nan, nan, nan, ..., nan, nan, nan],\n",
       "         [nan, nan, nan, ..., nan, nan, nan]], dtype=float32)},\n",
       " 'transformer/layer_0/attn/linear': {'b': Array([nan, nan, nan, nan, nan, nan, nan, nan, nan, nan, nan, nan, nan,\n",
       "         nan, nan, nan, nan, nan, nan, nan, nan, nan, nan, nan, nan, nan,\n",
       "         nan, nan, nan, nan, nan, nan, nan, nan, nan, nan, nan, nan, nan,\n",
       "         nan, nan, nan, nan, nan, nan, nan, nan, nan, nan, nan],      dtype=float32),\n",
       "  'w': Array([[nan, nan, nan, ..., nan, nan, nan],\n",
       "         [nan, nan, nan, ..., nan, nan, nan],\n",
       "         [nan, nan, nan, ..., nan, nan, nan],\n",
       "         ...,\n",
       "         [nan, nan, nan, ..., nan, nan, nan],\n",
       "         [nan, nan, nan, ..., nan, nan, nan],\n",
       "         [nan, nan, nan, ..., nan, nan, nan]], dtype=float32)},\n",
       " 'transformer/layer_0/attn/query': {'b': Array([nan, nan, nan, nan, nan, nan, nan, nan, nan, nan, nan, nan, nan,\n",
       "         nan, nan, nan, nan, nan, nan, nan, nan, nan, nan, nan, nan, nan,\n",
       "         nan], dtype=float32),\n",
       "  'w': Array([[nan, nan, nan, ..., nan, nan, nan],\n",
       "         [nan, nan, nan, ..., nan, nan, nan],\n",
       "         [nan, nan, nan, ..., nan, nan, nan],\n",
       "         ...,\n",
       "         [nan, nan, nan, ..., nan, nan, nan],\n",
       "         [nan, nan, nan, ..., nan, nan, nan],\n",
       "         [nan, nan, nan, ..., nan, nan, nan]], dtype=float32)},\n",
       " 'transformer/layer_0/attn/value': {'b': Array([nan, nan, nan, nan, nan, nan, nan, nan, nan, nan, nan, nan, nan,\n",
       "         nan, nan, nan, nan, nan, nan, nan, nan, nan, nan, nan, nan, nan,\n",
       "         nan], dtype=float32),\n",
       "  'w': Array([[nan, nan, nan, ..., nan, nan, nan],\n",
       "         [nan, nan, nan, ..., nan, nan, nan],\n",
       "         [nan, nan, nan, ..., nan, nan, nan],\n",
       "         ...,\n",
       "         [nan, nan, nan, ..., nan, nan, nan],\n",
       "         [nan, nan, nan, ..., nan, nan, nan],\n",
       "         [nan, nan, nan, ..., nan, nan, nan]], dtype=float32)},\n",
       " 'transformer/layer_0/mlp/linear_1': {'b': Array([nan, nan, nan, nan, nan, nan, nan, nan, nan, nan, nan, nan, nan,\n",
       "         nan, nan, nan, nan, nan, nan, nan, nan, nan, nan, nan, nan],      dtype=float32),\n",
       "  'w': Array([[nan, nan, nan, ..., nan, nan, nan],\n",
       "         [nan, nan, nan, ..., nan, nan, nan],\n",
       "         [nan, nan, nan, ..., nan, nan, nan],\n",
       "         ...,\n",
       "         [nan, nan, nan, ..., nan, nan, nan],\n",
       "         [nan, nan, nan, ..., nan, nan, nan],\n",
       "         [nan, nan, nan, ..., nan, nan, nan]], dtype=float32)},\n",
       " 'transformer/layer_0/mlp/linear_2': {'b': Array([nan, nan, nan, nan, nan, nan, nan, nan, nan, nan, nan, nan, nan,\n",
       "         nan, nan, nan, nan, nan, nan, nan, nan, nan, nan, nan, nan, nan,\n",
       "         nan, nan, nan, nan, nan, nan, nan, nan, nan, nan, nan, nan, nan,\n",
       "         nan, nan, nan, nan, nan, nan, nan, nan, nan, nan, nan],      dtype=float32),\n",
       "  'w': Array([[nan, nan, nan, ..., nan, nan, nan],\n",
       "         [nan, nan, nan, ..., nan, nan, nan],\n",
       "         [nan, nan, nan, ..., nan, nan, nan],\n",
       "         ...,\n",
       "         [nan, nan, nan, ..., nan, nan, nan],\n",
       "         [nan, nan, nan, ..., nan, nan, nan],\n",
       "         [nan, nan, nan, ..., nan, nan, nan]], dtype=float32)},\n",
       " 'transformer/layer_1/attn/key': {'b': Array([nan, nan, nan, nan, nan, nan, nan, nan, nan, nan, nan, nan, nan,\n",
       "         nan, nan, nan, nan, nan, nan, nan, nan, nan, nan, nan, nan, nan,\n",
       "         nan], dtype=float32),\n",
       "  'w': Array([[nan, nan, nan, ..., nan, nan, nan],\n",
       "         [nan, nan, nan, ..., nan, nan, nan],\n",
       "         [nan, nan, nan, ..., nan, nan, nan],\n",
       "         ...,\n",
       "         [nan, nan, nan, ..., nan, nan, nan],\n",
       "         [nan, nan, nan, ..., nan, nan, nan],\n",
       "         [nan, nan, nan, ..., nan, nan, nan]], dtype=float32)},\n",
       " 'transformer/layer_1/attn/linear': {'b': Array([nan, nan, nan, nan, nan, nan, nan, nan, nan, nan, nan, nan, nan,\n",
       "         nan, nan, nan, nan, nan, nan, nan, nan, nan, nan, nan, nan, nan,\n",
       "         nan, nan, nan, nan, nan, nan, nan, nan, nan, nan, nan, nan, nan,\n",
       "         nan, nan, nan, nan, nan, nan, nan, nan, nan, nan, nan],      dtype=float32),\n",
       "  'w': Array([[nan, nan, nan, ..., nan, nan, nan],\n",
       "         [nan, nan, nan, ..., nan, nan, nan],\n",
       "         [nan, nan, nan, ..., nan, nan, nan],\n",
       "         ...,\n",
       "         [nan, nan, nan, ..., nan, nan, nan],\n",
       "         [nan, nan, nan, ..., nan, nan, nan],\n",
       "         [nan, nan, nan, ..., nan, nan, nan]], dtype=float32)},\n",
       " 'transformer/layer_1/attn/query': {'b': Array([nan, nan, nan, nan, nan, nan, nan, nan, nan, nan, nan, nan, nan,\n",
       "         nan, nan, nan, nan, nan, nan, nan, nan, nan, nan, nan, nan, nan,\n",
       "         nan], dtype=float32),\n",
       "  'w': Array([[nan, nan, nan, ..., nan, nan, nan],\n",
       "         [nan, nan, nan, ..., nan, nan, nan],\n",
       "         [nan, nan, nan, ..., nan, nan, nan],\n",
       "         ...,\n",
       "         [nan, nan, nan, ..., nan, nan, nan],\n",
       "         [nan, nan, nan, ..., nan, nan, nan],\n",
       "         [nan, nan, nan, ..., nan, nan, nan]], dtype=float32)},\n",
       " 'transformer/layer_1/attn/value': {'b': Array([nan, nan, nan, nan, nan, nan, nan, nan, nan, nan, nan, nan, nan,\n",
       "         nan, nan, nan, nan, nan, nan, nan, nan, nan, nan, nan, nan, nan,\n",
       "         nan], dtype=float32),\n",
       "  'w': Array([[nan, nan, nan, ..., nan, nan, nan],\n",
       "         [nan, nan, nan, ..., nan, nan, nan],\n",
       "         [nan, nan, nan, ..., nan, nan, nan],\n",
       "         ...,\n",
       "         [nan, nan, nan, ..., nan, nan, nan],\n",
       "         [nan, nan, nan, ..., nan, nan, nan],\n",
       "         [nan, nan, nan, ..., nan, nan, nan]], dtype=float32)},\n",
       " 'transformer/layer_1/mlp/linear_1': {'b': Array([nan, nan, nan, nan, nan, nan, nan, nan, nan, nan, nan, nan, nan,\n",
       "         nan, nan, nan, nan, nan, nan, nan, nan, nan, nan, nan, nan],      dtype=float32),\n",
       "  'w': Array([[nan, nan, nan, ..., nan, nan, nan],\n",
       "         [nan, nan, nan, ..., nan, nan, nan],\n",
       "         [nan, nan, nan, ..., nan, nan, nan],\n",
       "         ...,\n",
       "         [nan, nan, nan, ..., nan, nan, nan],\n",
       "         [nan, nan, nan, ..., nan, nan, nan],\n",
       "         [nan, nan, nan, ..., nan, nan, nan]], dtype=float32)},\n",
       " 'transformer/layer_1/mlp/linear_2': {'b': Array([nan, nan, nan, nan, nan, nan, nan, nan, nan, nan, nan, nan, nan,\n",
       "         nan, nan, nan, nan, nan, nan, nan, nan, nan, nan, nan, nan, nan,\n",
       "         nan, nan, nan, nan, nan, nan, nan, nan, nan, nan, nan, nan, nan,\n",
       "         nan, nan, nan, nan, nan, nan, nan, nan, nan, nan, nan],      dtype=float32),\n",
       "  'w': Array([[nan, nan, nan, ..., nan, nan, nan],\n",
       "         [nan, nan, nan, ..., nan, nan, nan],\n",
       "         [nan, nan, nan, ..., nan, nan, nan],\n",
       "         ...,\n",
       "         [nan, nan, nan, ..., nan, nan, nan],\n",
       "         [nan, nan, nan, ..., nan, nan, nan],\n",
       "         [nan, nan, nan, ..., nan, nan, nan]], dtype=float32)},\n",
       " 'transformer/layer_2/attn/key': {'b': Array([nan, nan, nan, nan, nan, nan, nan, nan, nan, nan, nan, nan, nan,\n",
       "         nan, nan, nan, nan, nan, nan, nan, nan, nan, nan, nan, nan, nan,\n",
       "         nan], dtype=float32),\n",
       "  'w': Array([[nan, nan, nan, ..., nan, nan, nan],\n",
       "         [nan, nan, nan, ..., nan, nan, nan],\n",
       "         [nan, nan, nan, ..., nan, nan, nan],\n",
       "         ...,\n",
       "         [nan, nan, nan, ..., nan, nan, nan],\n",
       "         [nan, nan, nan, ..., nan, nan, nan],\n",
       "         [nan, nan, nan, ..., nan, nan, nan]], dtype=float32)},\n",
       " 'transformer/layer_2/attn/linear': {'b': Array([nan, nan, nan, nan, nan, nan, nan, nan, nan, nan, nan, nan, nan,\n",
       "         nan, nan, nan, nan, nan, nan, nan, nan, nan, nan, nan, nan, nan,\n",
       "         nan, nan, nan, nan, nan, nan, nan, nan, nan, nan, nan, nan, nan,\n",
       "         nan, nan, nan, nan, nan, nan, nan, nan, nan, nan, nan],      dtype=float32),\n",
       "  'w': Array([[nan, nan, nan, ..., nan, nan, nan],\n",
       "         [nan, nan, nan, ..., nan, nan, nan],\n",
       "         [nan, nan, nan, ..., nan, nan, nan],\n",
       "         ...,\n",
       "         [nan, nan, nan, ..., nan, nan, nan],\n",
       "         [nan, nan, nan, ..., nan, nan, nan],\n",
       "         [nan, nan, nan, ..., nan, nan, nan]], dtype=float32)},\n",
       " 'transformer/layer_2/attn/query': {'b': Array([nan, nan, nan, nan, nan, nan, nan, nan, nan, nan, nan, nan, nan,\n",
       "         nan, nan, nan, nan, nan, nan, nan, nan, nan, nan, nan, nan, nan,\n",
       "         nan], dtype=float32),\n",
       "  'w': Array([[nan, nan, nan, ..., nan, nan, nan],\n",
       "         [nan, nan, nan, ..., nan, nan, nan],\n",
       "         [nan, nan, nan, ..., nan, nan, nan],\n",
       "         ...,\n",
       "         [nan, nan, nan, ..., nan, nan, nan],\n",
       "         [nan, nan, nan, ..., nan, nan, nan],\n",
       "         [nan, nan, nan, ..., nan, nan, nan]], dtype=float32)},\n",
       " 'transformer/layer_2/attn/value': {'b': Array([nan, nan, nan, nan, nan, nan, nan, nan, nan, nan, nan, nan, nan,\n",
       "         nan, nan, nan, nan, nan, nan, nan, nan, nan, nan, nan, nan, nan,\n",
       "         nan], dtype=float32),\n",
       "  'w': Array([[nan, nan, nan, ..., nan, nan, nan],\n",
       "         [nan, nan, nan, ..., nan, nan, nan],\n",
       "         [nan, nan, nan, ..., nan, nan, nan],\n",
       "         ...,\n",
       "         [nan, nan, nan, ..., nan, nan, nan],\n",
       "         [nan, nan, nan, ..., nan, nan, nan],\n",
       "         [nan, nan, nan, ..., nan, nan, nan]], dtype=float32)},\n",
       " 'transformer/layer_2/mlp/linear_1': {'b': Array([ 0.90924025,  0.40489668, -0.14142953, -1.9633836 , -0.6936256 ,\n",
       "          1.0794026 , -0.10954937,  0.12105061, -0.6469501 , -1.3406506 ,\n",
       "          0.05642654,  1.7293222 , -2.1558692 , -1.6120774 , -0.21196535,\n",
       "          1.9539587 ,  0.39404425,  0.5175736 ,  0.64130646,  1.2487036 ,\n",
       "         -0.20581296, -0.80888414, -0.4648337 ,  1.5472252 , -1.195723  ],      dtype=float32),\n",
       "  'w': Array([[nan, nan, nan, ..., nan, nan, nan],\n",
       "         [nan, nan, nan, ..., nan, nan, nan],\n",
       "         [nan, nan, nan, ..., nan, nan, nan],\n",
       "         ...,\n",
       "         [nan, nan, nan, ..., nan, nan, nan],\n",
       "         [nan, nan, nan, ..., nan, nan, nan],\n",
       "         [nan, nan, nan, ..., nan, nan, nan]], dtype=float32)},\n",
       " 'transformer/layer_2/mlp/linear_2': {'b': Array([nan, nan, nan, nan, nan, nan, nan, nan, nan, nan, nan, nan, nan,\n",
       "         nan, nan, nan, nan, nan, nan, nan, nan, nan, nan, nan, nan, nan,\n",
       "         nan, nan, nan, nan, nan, nan, nan, nan, nan, nan, nan, nan, nan,\n",
       "         nan, nan, nan, nan, nan, nan, nan, nan, nan, nan, nan],      dtype=float32),\n",
       "  'w': Array([[nan, nan, nan, ..., nan, nan, nan],\n",
       "         [nan, nan, nan, ..., nan, nan, nan],\n",
       "         [nan, nan, nan, ..., nan, nan, nan],\n",
       "         ...,\n",
       "         [nan, nan, nan, ..., nan, nan, nan],\n",
       "         [nan, nan, nan, ..., nan, nan, nan],\n",
       "         [nan, nan, nan, ..., nan, nan, nan]], dtype=float32)}}"
      ]
     },
     "execution_count": 35,
     "metadata": {},
     "output_type": "execute_result"
    }
   ],
   "source": [
    "trained_params"
   ]
  },
  {
   "cell_type": "code",
   "execution_count": null,
   "metadata": {},
   "outputs": [],
   "source": []
  }
 ],
 "metadata": {
  "kernelspec": {
   "display_name": ".venv",
   "language": "python",
   "name": "python3"
  },
  "language_info": {
   "codemirror_mode": {
    "name": "ipython",
    "version": 3
   },
   "file_extension": ".py",
   "mimetype": "text/x-python",
   "name": "python",
   "nbconvert_exporter": "python",
   "pygments_lexer": "ipython3",
   "version": "3.12.4"
  }
 },
 "nbformat": 4,
 "nbformat_minor": 2
}

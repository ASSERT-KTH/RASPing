{
 "cells": [
  {
   "cell_type": "code",
   "execution_count": 1,
   "metadata": {},
   "outputs": [],
   "source": [
    "from tracr.rasp import rasp\n",
    "\n",
    "def make_sort_unique(vals: rasp.SOp, keys: rasp.SOp) -> rasp.SOp:\n",
    "  \"\"\"Returns vals sorted by < relation on keys.\n",
    "\n",
    "  Only supports unique keys.\n",
    "\n",
    "  Example usage:\n",
    "    sort = make_sort(rasp.tokens, rasp.tokens)\n",
    "    sort([2, 4, 3, 1])\n",
    "    >> [1, 2, 3, 4]\n",
    "\n",
    "  Args:\n",
    "    vals: Values to sort.\n",
    "    keys: Keys for sorting.\n",
    "  \"\"\"\n",
    "  smaller = rasp.Select(keys, keys, rasp.Comparison.LT).named(\"smaller\")\n",
    "  target_pos = rasp.SelectorWidth(smaller).named(\"target_pos\")\n",
    "  sel_new = rasp.Select(target_pos, rasp.indices, rasp.Comparison.EQ)\n",
    "  return rasp.Aggregate(sel_new, vals).named(\"sort\")\n",
    "\n",
    "\n",
    "def make_sort(vals: rasp.SOp, keys: rasp.SOp, *, max_seq_len: int,\n",
    "              min_key: float) -> rasp.SOp:\n",
    "  \"\"\"Returns vals sorted by < relation on keys, which don't need to be unique.\n",
    "\n",
    "  The implementation differs from the RASP paper, as it avoids using\n",
    "  compositions of selectors to break ties. Instead, it uses the arguments\n",
    "  max_seq_len and min_key to ensure the keys are unique.\n",
    "\n",
    "  Note that this approach only works for numerical keys.\n",
    "\n",
    "  Example usage:\n",
    "    sort = make_sort(rasp.tokens, rasp.tokens, 5, 1)\n",
    "    sort([2, 4, 3, 1])\n",
    "    >> [1, 2, 3, 4]\n",
    "    sort([2, 4, 1, 2])\n",
    "    >> [1, 2, 2, 4]\n",
    "\n",
    "  Args:\n",
    "    vals: Values to sort.\n",
    "    keys: Keys for sorting.\n",
    "    max_seq_len: Maximum sequence length (used to ensure keys are unique)\n",
    "    min_key: Minimum key value (used to ensure keys are unique)\n",
    "\n",
    "  Returns:\n",
    "    Output SOp of sort program.\n",
    "  \"\"\"\n",
    "  keys = rasp.SequenceMap(lambda x, i: x + min_key * i / max_seq_len, keys,\n",
    "                          rasp.indices)\n",
    "  return make_sort_unique(vals, keys)\n"
   ]
  },
  {
   "cell_type": "code",
   "execution_count": 2,
   "metadata": {},
   "outputs": [],
   "source": [
    "from tracr.rasp import rasp\n",
    "\n",
    "def make_sort_unique_buggy(vals: rasp.SOp, keys: rasp.SOp) -> rasp.SOp:\n",
    "  \"\"\"Returns vals sorted by < relation on keys.\n",
    "\n",
    "  Only supports unique keys.\n",
    "\n",
    "  Example usage:\n",
    "    sort = make_sort(rasp.tokens, rasp.tokens)\n",
    "    sort([2, 4, 3, 1])\n",
    "    >> [1, 2, 3, 4]\n",
    "\n",
    "  Args:\n",
    "    vals: Values to sort.\n",
    "    keys: Keys for sorting.\n",
    "  \"\"\"\n",
    "  # BUG: GT instead of LT, resulting in descending order instead of ascending\n",
    "  smaller = rasp.Select(keys, keys, rasp.Comparison.GT).named(\"smaller\")\n",
    "  target_pos = rasp.SelectorWidth(smaller).named(\"target_pos\")\n",
    "  sel_new = rasp.Select(target_pos, rasp.indices, rasp.Comparison.EQ)\n",
    "  return rasp.Aggregate(sel_new, vals).named(\"sort\")\n",
    "\n",
    "\n",
    "def make_sort_buggy(vals: rasp.SOp, keys: rasp.SOp, *, max_seq_len: int,\n",
    "              min_key: float) -> rasp.SOp:\n",
    "  \"\"\"Returns vals sorted by < relation on keys, which don't need to be unique.\n",
    "\n",
    "  The implementation differs from the RASP paper, as it avoids using\n",
    "  compositions of selectors to break ties. Instead, it uses the arguments\n",
    "  max_seq_len and min_key to ensure the keys are unique.\n",
    "\n",
    "  Note that this approach only works for numerical keys.\n",
    "\n",
    "  Example usage:\n",
    "    sort = make_sort(rasp.tokens, rasp.tokens, 5, 1)\n",
    "    sort([2, 4, 3, 1])\n",
    "    >> [1, 2, 3, 4]\n",
    "    sort([2, 4, 1, 2])\n",
    "    >> [1, 2, 2, 4]\n",
    "\n",
    "  Args:\n",
    "    vals: Values to sort.\n",
    "    keys: Keys for sorting.\n",
    "    max_seq_len: Maximum sequence length (used to ensure keys are unique)\n",
    "    min_key: Minimum key value (used to ensure keys are unique)\n",
    "\n",
    "  Returns:\n",
    "    Output SOp of sort program.\n",
    "  \"\"\"\n",
    "  keys = rasp.SequenceMap(lambda x, i: x + min_key * i / max_seq_len, keys,\n",
    "                          rasp.indices)\n",
    "  return make_sort_unique_buggy(vals, keys)"
   ]
  },
  {
   "cell_type": "code",
   "execution_count": 3,
   "metadata": {},
   "outputs": [
    {
     "name": "stdout",
     "output_type": "stream",
     "text": [
      "TransformerConfig(num_heads=1, num_layers=3, key_size=27, mlp_hidden_size=25, dropout_rate=0.0, activation_function=<jax._src.custom_derivatives.custom_jvp object at 0x7344813bf2f0>, layer_norm=False, causal=False)\n",
      "TransformerConfig(num_heads=1, num_layers=3, key_size=27, mlp_hidden_size=25, dropout_rate=0.0, activation_function=<jax._src.custom_derivatives.custom_jvp object at 0x7344813bf2f0>, layer_norm=False, causal=False)\n"
     ]
    }
   ],
   "source": [
    "from tracr.compiler import compiling\n",
    "\n",
    "sort = make_sort(rasp.tokens, rasp.tokens, max_seq_len=20, min_key=1)\n",
    "bos = \"BOS\"\n",
    "max_seq_len=5\n",
    "model = compiling.compile_rasp_to_model(\n",
    "    sort,\n",
    "    vocab={10, 20, 30, 40, 50},\n",
    "    max_seq_len=max_seq_len,\n",
    "    compiler_bos=bos,\n",
    ")\n",
    "print(model.model_config)\n",
    "\n",
    "\n",
    "buggy_sort = make_sort_buggy(rasp.tokens, rasp.tokens, max_seq_len=20, min_key=1)\n",
    "bos = \"BOS\"\n",
    "max_seq_len=5\n",
    "buggy_model = compiling.compile_rasp_to_model(\n",
    "    buggy_sort,\n",
    "    vocab={10, 20, 30, 40, 50},\n",
    "    max_seq_len=max_seq_len,\n",
    "    compiler_bos=bos,\n",
    ")\n",
    "print(buggy_model.model_config)"
   ]
  },
  {
   "cell_type": "code",
   "execution_count": 4,
   "metadata": {},
   "outputs": [
    {
     "name": "stdout",
     "output_type": "stream",
     "text": [
      "(1000, 6)\n",
      "(851, 6)\n",
      "(765, 6) (86, 6)\n"
     ]
    }
   ],
   "source": [
    "import numpy as np\n",
    "import jax\n",
    "\n",
    "acceptedTokens = [10, 20, 30, 40, 50]\n",
    "maxSeqLength = max_seq_len\n",
    "size = 1000\n",
    "X = []\n",
    "Y = []\n",
    "\n",
    "for i in range(size):\n",
    "    # TODO: implement padding for training\n",
    "    # inputLength = np.random.randint(2, maxSeqLength+1)  #Uniformly distributed between 2 and max length\n",
    "    inputLength = maxSeqLength\n",
    "\n",
    "    inputSeq = []\n",
    "    outputSeq = []\n",
    "    for t in np.random.choice(acceptedTokens, inputLength):\n",
    "        inputSeq.append(t)\n",
    "        outputSeq.append(t)\n",
    "\n",
    "    inputSeq.insert(0, bos)\n",
    "    outputSeq.sort()\n",
    "    outputSeq.insert(0, 10) # The output_encoder does has a None bos_encoding, so we use the input_encoder's\n",
    "\n",
    "    inputSeq = jax.numpy.array(model.input_encoder.encode(inputSeq))\n",
    "    outputSeq = jax.numpy.array(model.output_encoder.encode(outputSeq))\n",
    "\n",
    "    X.append(inputSeq)\n",
    "    Y.append(outputSeq)\n",
    "\n",
    "X = jax.numpy.array(X)\n",
    "Y = jax.numpy.array(Y)\n",
    "\n",
    "X, Y\n",
    "print(X.shape)\n",
    "\n",
    "# Remove duplicates from X, and the corresponding Y\n",
    "X, indices = np.unique(X, return_index=True, axis=0)\n",
    "Y = Y[indices]\n",
    "print(X.shape)\n",
    "\n",
    "# Split test and validation\n",
    "split = int(X.shape[0] * 0.90)\n",
    "X_train, X_test = X[:split], X[split:]\n",
    "Y_train, Y_test = Y[:split], Y[split:]\n",
    "print(X_train.shape, X_test.shape)"
   ]
  },
  {
   "cell_type": "code",
   "execution_count": 5,
   "metadata": {},
   "outputs": [],
   "source": [
    "import haiku as hk\n",
    "import jax\n",
    "\n",
    "params = model.params\n",
    "hk_model = hk.transform(model.get_compiled_model)\n",
    "hk_model = hk_model.apply(params, jax.random.PRNGKey(42))\n",
    "hk_model.use_unembed_argmax = False"
   ]
  },
  {
   "cell_type": "code",
   "execution_count": 6,
   "metadata": {},
   "outputs": [],
   "source": [
    "def forward(x):\n",
    "    return hk_model(x)\n",
    "\n",
    "forward_fun = hk.without_apply_rng(hk.transform(forward))"
   ]
  },
  {
   "cell_type": "code",
   "execution_count": 7,
   "metadata": {},
   "outputs": [
    {
     "name": "stdout",
     "output_type": "stream",
     "text": [
      "Encoding map:\n",
      "{10: 0, 20: 1, 30: 2, 40: 3, 50: 4, 'BOS': 5, 'compiler_pad': 6}\n",
      "Example input and output:\n",
      "[5 0 0 0 0 3]\n",
      "[0 0 0 0 0 3]\n",
      "Example forward pass:\n",
      "[[[2.6479832e-04 0.0000000e+00 0.0000000e+00 6.6199580e-05 0.0000000e+00]\n",
      "  [9.9993372e-01 0.0000000e+00 0.0000000e+00 4.3849981e-09 0.0000000e+00]\n",
      "  [9.9993372e-01 0.0000000e+00 0.0000000e+00 4.3849981e-09 0.0000000e+00]\n",
      "  [9.9993372e-01 0.0000000e+00 0.0000000e+00 4.3849981e-09 0.0000000e+00]\n",
      "  [9.9993372e-01 0.0000000e+00 0.0000000e+00 4.3849981e-09 0.0000000e+00]\n",
      "  [1.7539833e-08 0.0000000e+00 0.0000000e+00 9.9993372e-01 0.0000000e+00]]]\n",
      "[0 0 0 0 0 3]\n",
      "Example forward pass with model wrapper:\n",
      "['BOS', 20, 30, 40, 40, 50]\n"
     ]
    }
   ],
   "source": [
    "print(\"Encoding map:\")\n",
    "print(model.input_encoder.encoding_map)\n",
    "\n",
    "print(\"Example input and output:\")\n",
    "print(X_train[0])\n",
    "print(Y_train[0])\n",
    "\n",
    "print(\"Example forward pass:\")\n",
    "output = forward_fun.apply(model.params, jax.numpy.array([X_train[0]]))\n",
    "print(output.unembedded_output)\n",
    "print(output.unembedded_output.argmax(axis=-1)[0])\n",
    "\n",
    "print(\"Example forward pass with model wrapper:\")\n",
    "print(model.apply([bos, 40, 50, 20, 30, 40]).decoded)"
   ]
  },
  {
   "cell_type": "code",
   "execution_count": 8,
   "metadata": {},
   "outputs": [],
   "source": [
    "import jax\n",
    "import optax\n",
    "import jax.numpy as jnp\n",
    "\n",
    "from typing import NamedTuple\n",
    "\n",
    "jax.config.update(\"jax_debug_nans\", True)\n",
    "\n",
    "class TrainingState(NamedTuple):\n",
    "  params: hk.Params\n",
    "  opt_state: optax.OptState\n",
    "  step: jax.Array\n",
    "  \n",
    "# TODO: define learning_rate outside optimiser function\n",
    "def optimiser() -> optax.GradientTransformation:\n",
    "  return optax.chain(\n",
    "      optax.clip_by_global_norm(1),\n",
    "      optax.adam(1e-5),\n",
    "  )\n",
    "\n",
    "def cross_entropy(logits, labels):\n",
    "  return -jnp.sum(labels * jax.nn.log_softmax(logits)) / logits.shape[0]\n",
    "\n",
    "# TODO: ignore first position and apply softmax after ignoring first position\n",
    "@hk.without_apply_rng\n",
    "@hk.transform\n",
    "def loss_fn(x, y):\n",
    "  logits = forward(x).unembedded_output\n",
    "  labels = jax.nn.one_hot(y, logits.shape[-1])\n",
    "  return cross_entropy(logits, labels)\n",
    "\n",
    "\n",
    "@jax.jit\n",
    "def update(state: TrainingState, x, y) -> TrainingState:\n",
    "  \"\"\"Learning rule (stochastic gradient descent).\"\"\"\n",
    "  loss_and_grads_fn = jax.value_and_grad(loss_fn.apply)\n",
    "  loss, grads = loss_and_grads_fn(state.params, x, y)\n",
    "  updates, opt_state = optimiser().update(grads, state.opt_state)\n",
    "  params = optax.apply_updates(state.params, updates)\n",
    "  metrics = {\"step\": state.step, \"loss\": loss}\n",
    "  return TrainingState(params, opt_state, step=state.step+1), metrics\n",
    "\n",
    "\n",
    "@jax.jit\n",
    "def init(initial_params: hk.Params) -> TrainingState:\n",
    "  initial_opt_state = optimiser().init(initial_params)\n",
    "  return TrainingState(\n",
    "      params=initial_params,\n",
    "      opt_state=initial_opt_state,\n",
    "      step=jnp.array(0),\n",
    "  )"
   ]
  },
  {
   "cell_type": "code",
   "execution_count": 9,
   "metadata": {},
   "outputs": [],
   "source": [
    "import tqdm\n",
    "import matplotlib.pyplot as plt\n",
    "\n",
    "def train(initial_params, X, Y, n_epochs=1, batch_size=8, lr=0.0001, plot=False):\n",
    "    metrics = []  # to store the metrics values\n",
    "\n",
    "    state = init(initial_params)\n",
    "\n",
    "    for _ in tqdm.trange(n_epochs):\n",
    "        for i in range(0, len(X), batch_size):\n",
    "            x = X[i:i + batch_size]\n",
    "            y = Y[i:i + batch_size]\n",
    "            state, metric = update(state, x, y)\n",
    "            \n",
    "        metrics.append(metric)\n",
    "\n",
    "    if plot:\n",
    "        # plot the loss values\n",
    "        plt.plot([m['step'] for m in metrics], [m['loss'] for m in metrics])\n",
    "        plt.xlabel('Epoch')\n",
    "        plt.ylabel('Loss')\n",
    "        plt.title('Training Loss')\n",
    "        plt.show()\n",
    "\n",
    "    return state.params"
   ]
  },
  {
   "cell_type": "code",
   "execution_count": 10,
   "metadata": {},
   "outputs": [],
   "source": [
    "def evaluate(params, X, Y):\n",
    "    \"\"\"\n",
    "    Computes the accuracy (exact-match) of the model on the given data (X) and labels (Y).\n",
    "    \"\"\"\n",
    "    correct = 0\n",
    "    for x, y in zip(X, Y):\n",
    "        logits = forward_fun.apply(params, jax.numpy.array([x])).unembedded_output\n",
    "        pred = jnp.argmax(logits, axis=-1)[0]\n",
    "        correct += jnp.all(pred[1:] == y[1:])\n",
    "    return correct / len(X)"
   ]
  },
  {
   "cell_type": "code",
   "execution_count": 11,
   "metadata": {},
   "outputs": [
    {
     "name": "stdout",
     "output_type": "stream",
     "text": [
      "Correct model:  1.0\n",
      "Buggy model:  0.011627907\n"
     ]
    }
   ],
   "source": [
    "print(\"Correct model: \", evaluate(model.params, X_test, Y_test))\n",
    "print(\"Buggy model: \", evaluate(buggy_model.params, X_test, Y_test))"
   ]
  },
  {
   "cell_type": "code",
   "execution_count": 12,
   "metadata": {},
   "outputs": [
    {
     "name": "stderr",
     "output_type": "stream",
     "text": [
      "100%|██████████| 5000/5000 [02:58<00:00, 27.99it/s]\n"
     ]
    },
    {
     "data": {
      "image/png": "[encoded data removed]",
      "text/plain": [
       "<Figure size 640x480 with 1 Axes>"
      ]
     },
     "metadata": {},
     "output_type": "display_data"
    }
   ],
   "source": [
    "new_params = train(buggy_model.params, X_train, Y_train, n_epochs=5000, batch_size=256, lr=1e-5, plot=True)"
   ]
  },
  {
   "cell_type": "code",
   "execution_count": 13,
   "metadata": {},
   "outputs": [
    {
     "name": "stdout",
     "output_type": "stream",
     "text": [
      "[5 4 2 0 3 2]\n",
      "[0 0 2 2 3 4]\n",
      "[0 0 1 2 3 4]\n"
     ]
    }
   ],
   "source": [
    "print(X_test[0])\n",
    "print(Y_test[0])\n",
    "\n",
    "print(forward_fun.apply(new_params, jax.numpy.array([X_test[0]])).unembedded_output.argmax(axis=-1)[0])"
   ]
  },
  {
   "cell_type": "code",
   "execution_count": 14,
   "metadata": {},
   "outputs": [
    {
     "data": {
      "text/plain": [
       "Array(0.06976745, dtype=float32, weak_type=True)"
      ]
     },
     "execution_count": 14,
     "metadata": {},
     "output_type": "execute_result"
    }
   ],
   "source": [
    "evaluate(new_params, X_test, Y_test)"
   ]
  },
  {
   "cell_type": "code",
   "execution_count": 15,
   "metadata": {},
   "outputs": [],
   "source": [
    "def initialize_normal(params, mean=0.0, std=1.0):\n",
    "    return jax.tree_util.tree_map(\n",
    "        lambda p: jax.random.normal(jax.random.PRNGKey(42), p.shape) * std + mean,\n",
    "        params\n",
    "    )\n",
    "\n",
    "random_params = initialize_normal(model.params)"
   ]
  },
  {
   "cell_type": "code",
   "execution_count": 16,
   "metadata": {},
   "outputs": [
    {
     "data": {
      "text/plain": [
       "Array(0., dtype=float32, weak_type=True)"
      ]
     },
     "execution_count": 16,
     "metadata": {},
     "output_type": "execute_result"
    }
   ],
   "source": [
    "evaluate(random_params, X_test, Y_test)"
   ]
  },
  {
   "cell_type": "code",
   "execution_count": 17,
   "metadata": {},
   "outputs": [
    {
     "name": "stdout",
     "output_type": "stream",
     "text": [
      "[5 4 2 0 3 2]\n",
      "[0 0 2 2 3 4]\n",
      "[0 0 2 0 2 0]\n"
     ]
    }
   ],
   "source": [
    "print(X_test[0])\n",
    "print(Y_test[0])\n",
    "\n",
    "print(forward_fun.apply(random_params, jax.numpy.array([X_test[0]])).unembedded_output.argmax(axis=-1)[0])"
   ]
  },
  {
   "cell_type": "code",
   "execution_count": 18,
   "metadata": {},
   "outputs": [
    {
     "name": "stderr",
     "output_type": "stream",
     "text": [
      "  0%|          | 0/5000 [00:00<?, ?it/s]"
     ]
    },
    {
     "name": "stdout",
     "output_type": "stream",
     "text": [
      "Invalid nan value encountered in the output of a C++-jit/pmap function. Calling the de-optimized version.\n",
      "Invalid nan value encountered in the output of a C++-jit/pmap function. Calling the de-optimized version.\n"
     ]
    },
    {
     "name": "stderr",
     "output_type": "stream",
     "text": [
      "  0%|          | 0/5000 [00:02<?, ?it/s]\n"
     ]
    },
    {
     "ename": "FloatingPointError",
     "evalue": "invalid value (nan) encountered in jit(update). Because jax_config.debug_nans.value and/or config.jax_debug_infs is set, the de-optimized function (i.e., the function as if the `jit` decorator were removed) was called in an attempt to get a more precise error message. However, the de-optimized function did not produce invalid values during its execution. This behavior can result from `jit` optimizations causing the invalid value to be produced. It may also arise from having nan/inf constants as outputs, like `jax.jit(lambda ...: jax.numpy.nan)(...)`. \n\nIt may be possible to avoid the invalid value by removing the `jit` decorator, at the cost of losing optimizations. \n\nIf you see this error, consider opening a bug report at https://github.com/google/jax.",
     "output_type": "error",
     "traceback": [
      "\u001b[0;31m---------------------------------------------------------------------------\u001b[0m",
      "\u001b[0;31mFloatingPointError\u001b[0m                        Traceback (most recent call last)",
      "File \u001b[0;32m~/Repos/RASPing/.venv/lib/python3.12/site-packages/jax/_src/api.py:112\u001b[0m, in \u001b[0;36m_nan_check_posthook\u001b[0;34m(fun, args, kwargs, output)\u001b[0m\n\u001b[1;32m    111\u001b[0m \u001b[38;5;28;01mtry\u001b[39;00m:\n\u001b[0;32m--> 112\u001b[0m   \u001b[43mdispatch\u001b[49m\u001b[38;5;241;43m.\u001b[39;49m\u001b[43mcheck_special\u001b[49m\u001b[43m(\u001b[49m\u001b[43mpjit\u001b[49m\u001b[38;5;241;43m.\u001b[39;49m\u001b[43mpjit_p\u001b[49m\u001b[38;5;241;43m.\u001b[39;49m\u001b[43mname\u001b[49m\u001b[43m,\u001b[49m\u001b[43m \u001b[49m\u001b[43mbuffers\u001b[49m\u001b[43m)\u001b[49m\n\u001b[1;32m    113\u001b[0m \u001b[38;5;28;01mexcept\u001b[39;00m \u001b[38;5;167;01mFloatingPointError\u001b[39;00m:\n\u001b[1;32m    114\u001b[0m   \u001b[38;5;66;03m# compiled_fun can only raise in this case\u001b[39;00m\n",
      "File \u001b[0;32m~/Repos/RASPing/.venv/lib/python3.12/site-packages/jax/_src/dispatch.py:317\u001b[0m, in \u001b[0;36mcheck_special\u001b[0;34m(name, bufs)\u001b[0m\n\u001b[1;32m    316\u001b[0m \u001b[38;5;28;01mfor\u001b[39;00m buf \u001b[38;5;129;01min\u001b[39;00m bufs:\n\u001b[0;32m--> 317\u001b[0m   \u001b[43m_check_special\u001b[49m\u001b[43m(\u001b[49m\u001b[43mname\u001b[49m\u001b[43m,\u001b[49m\u001b[43m \u001b[49m\u001b[43mbuf\u001b[49m\u001b[38;5;241;43m.\u001b[39;49m\u001b[43mdtype\u001b[49m\u001b[43m,\u001b[49m\u001b[43m \u001b[49m\u001b[43mbuf\u001b[49m\u001b[43m)\u001b[49m\n",
      "File \u001b[0;32m~/Repos/RASPing/.venv/lib/python3.12/site-packages/jax/_src/dispatch.py:322\u001b[0m, in \u001b[0;36m_check_special\u001b[0;34m(name, dtype, buf)\u001b[0m\n\u001b[1;32m    321\u001b[0m \u001b[38;5;28;01mif\u001b[39;00m config\u001b[38;5;241m.\u001b[39mdebug_nans\u001b[38;5;241m.\u001b[39mvalue \u001b[38;5;129;01mand\u001b[39;00m np\u001b[38;5;241m.\u001b[39many(np\u001b[38;5;241m.\u001b[39misnan(np\u001b[38;5;241m.\u001b[39masarray(buf))):\n\u001b[0;32m--> 322\u001b[0m   \u001b[38;5;28;01mraise\u001b[39;00m \u001b[38;5;167;01mFloatingPointError\u001b[39;00m(\u001b[38;5;124mf\u001b[39m\u001b[38;5;124m\"\u001b[39m\u001b[38;5;124minvalid value (nan) encountered in \u001b[39m\u001b[38;5;132;01m{\u001b[39;00mname\u001b[38;5;132;01m}\u001b[39;00m\u001b[38;5;124m\"\u001b[39m)\n\u001b[1;32m    323\u001b[0m \u001b[38;5;28;01mif\u001b[39;00m config\u001b[38;5;241m.\u001b[39mdebug_infs\u001b[38;5;241m.\u001b[39mvalue \u001b[38;5;129;01mand\u001b[39;00m np\u001b[38;5;241m.\u001b[39many(np\u001b[38;5;241m.\u001b[39misinf(np\u001b[38;5;241m.\u001b[39masarray(buf))):\n",
      "\u001b[0;31mFloatingPointError\u001b[0m: invalid value (nan) encountered in pjit",
      "\nDuring handling of the above exception, another exception occurred:\n",
      "\u001b[0;31mFloatingPointError\u001b[0m                        Traceback (most recent call last)",
      "    \u001b[0;31m[... skipping hidden 1 frame]\u001b[0m\n",
      "File \u001b[0;32m~/Repos/RASPing/.venv/lib/python3.12/site-packages/jax/_src/dispatch.py:317\u001b[0m, in \u001b[0;36mcheck_special\u001b[0;34m(name, bufs)\u001b[0m\n\u001b[1;32m    316\u001b[0m \u001b[38;5;28;01mfor\u001b[39;00m buf \u001b[38;5;129;01min\u001b[39;00m bufs:\n\u001b[0;32m--> 317\u001b[0m   \u001b[43m_check_special\u001b[49m\u001b[43m(\u001b[49m\u001b[43mname\u001b[49m\u001b[43m,\u001b[49m\u001b[43m \u001b[49m\u001b[43mbuf\u001b[49m\u001b[38;5;241;43m.\u001b[39;49m\u001b[43mdtype\u001b[49m\u001b[43m,\u001b[49m\u001b[43m \u001b[49m\u001b[43mbuf\u001b[49m\u001b[43m)\u001b[49m\n",
      "File \u001b[0;32m~/Repos/RASPing/.venv/lib/python3.12/site-packages/jax/_src/dispatch.py:322\u001b[0m, in \u001b[0;36m_check_special\u001b[0;34m(name, dtype, buf)\u001b[0m\n\u001b[1;32m    321\u001b[0m \u001b[38;5;28;01mif\u001b[39;00m config\u001b[38;5;241m.\u001b[39mdebug_nans\u001b[38;5;241m.\u001b[39mvalue \u001b[38;5;129;01mand\u001b[39;00m np\u001b[38;5;241m.\u001b[39many(np\u001b[38;5;241m.\u001b[39misnan(np\u001b[38;5;241m.\u001b[39masarray(buf))):\n\u001b[0;32m--> 322\u001b[0m   \u001b[38;5;28;01mraise\u001b[39;00m \u001b[38;5;167;01mFloatingPointError\u001b[39;00m(\u001b[38;5;124mf\u001b[39m\u001b[38;5;124m\"\u001b[39m\u001b[38;5;124minvalid value (nan) encountered in \u001b[39m\u001b[38;5;132;01m{\u001b[39;00mname\u001b[38;5;132;01m}\u001b[39;00m\u001b[38;5;124m\"\u001b[39m)\n\u001b[1;32m    323\u001b[0m \u001b[38;5;28;01mif\u001b[39;00m config\u001b[38;5;241m.\u001b[39mdebug_infs\u001b[38;5;241m.\u001b[39mvalue \u001b[38;5;129;01mand\u001b[39;00m np\u001b[38;5;241m.\u001b[39many(np\u001b[38;5;241m.\u001b[39misinf(np\u001b[38;5;241m.\u001b[39masarray(buf))):\n",
      "\u001b[0;31mFloatingPointError\u001b[0m: invalid value (nan) encountered in pjit",
      "\nDuring handling of the above exception, another exception occurred:\n",
      "\u001b[0;31mFloatingPointError\u001b[0m                        Traceback (most recent call last)",
      "    \u001b[0;31m[... skipping hidden 1 frame]\u001b[0m\n",
      "File \u001b[0;32m~/Repos/RASPing/.venv/lib/python3.12/site-packages/jax/_src/profiler.py:336\u001b[0m, in \u001b[0;36mannotate_function.<locals>.wrapper\u001b[0;34m(*args, **kwargs)\u001b[0m\n\u001b[1;32m    335\u001b[0m \u001b[38;5;28;01mwith\u001b[39;00m TraceAnnotation(name, \u001b[38;5;241m*\u001b[39m\u001b[38;5;241m*\u001b[39mdecorator_kwargs):\n\u001b[0;32m--> 336\u001b[0m   \u001b[38;5;28;01mreturn\u001b[39;00m \u001b[43mfunc\u001b[49m\u001b[43m(\u001b[49m\u001b[38;5;241;43m*\u001b[39;49m\u001b[43margs\u001b[49m\u001b[43m,\u001b[49m\u001b[43m \u001b[49m\u001b[38;5;241;43m*\u001b[39;49m\u001b[38;5;241;43m*\u001b[39;49m\u001b[43mkwargs\u001b[49m\u001b[43m)\u001b[49m\n\u001b[1;32m    337\u001b[0m \u001b[38;5;28;01mreturn\u001b[39;00m wrapper\n",
      "File \u001b[0;32m~/Repos/RASPing/.venv/lib/python3.12/site-packages/jax/_src/interpreters/pxla.py:1253\u001b[0m, in \u001b[0;36mExecuteReplicated.__call__\u001b[0;34m(self, *args)\u001b[0m\n\u001b[1;32m   1252\u001b[0m \u001b[38;5;28;01mfor\u001b[39;00m arrays \u001b[38;5;129;01min\u001b[39;00m out_arrays:\n\u001b[0;32m-> 1253\u001b[0m   \u001b[43mdispatch\u001b[49m\u001b[38;5;241;43m.\u001b[39;49m\u001b[43mcheck_special\u001b[49m\u001b[43m(\u001b[49m\u001b[38;5;28;43mself\u001b[39;49m\u001b[38;5;241;43m.\u001b[39;49m\u001b[43mname\u001b[49m\u001b[43m,\u001b[49m\u001b[43m \u001b[49m\u001b[43marrays\u001b[49m\u001b[43m)\u001b[49m\n\u001b[1;32m   1254\u001b[0m out \u001b[38;5;241m=\u001b[39m \u001b[38;5;28mself\u001b[39m\u001b[38;5;241m.\u001b[39mout_handler(out_arrays)\n",
      "File \u001b[0;32m~/Repos/RASPing/.venv/lib/python3.12/site-packages/jax/_src/dispatch.py:317\u001b[0m, in \u001b[0;36mcheck_special\u001b[0;34m(name, bufs)\u001b[0m\n\u001b[1;32m    316\u001b[0m \u001b[38;5;28;01mfor\u001b[39;00m buf \u001b[38;5;129;01min\u001b[39;00m bufs:\n\u001b[0;32m--> 317\u001b[0m   \u001b[43m_check_special\u001b[49m\u001b[43m(\u001b[49m\u001b[43mname\u001b[49m\u001b[43m,\u001b[49m\u001b[43m \u001b[49m\u001b[43mbuf\u001b[49m\u001b[38;5;241;43m.\u001b[39;49m\u001b[43mdtype\u001b[49m\u001b[43m,\u001b[49m\u001b[43m \u001b[49m\u001b[43mbuf\u001b[49m\u001b[43m)\u001b[49m\n",
      "File \u001b[0;32m~/Repos/RASPing/.venv/lib/python3.12/site-packages/jax/_src/dispatch.py:322\u001b[0m, in \u001b[0;36m_check_special\u001b[0;34m(name, dtype, buf)\u001b[0m\n\u001b[1;32m    321\u001b[0m \u001b[38;5;28;01mif\u001b[39;00m config\u001b[38;5;241m.\u001b[39mdebug_nans\u001b[38;5;241m.\u001b[39mvalue \u001b[38;5;129;01mand\u001b[39;00m np\u001b[38;5;241m.\u001b[39many(np\u001b[38;5;241m.\u001b[39misnan(np\u001b[38;5;241m.\u001b[39masarray(buf))):\n\u001b[0;32m--> 322\u001b[0m   \u001b[38;5;28;01mraise\u001b[39;00m \u001b[38;5;167;01mFloatingPointError\u001b[39;00m(\u001b[38;5;124mf\u001b[39m\u001b[38;5;124m\"\u001b[39m\u001b[38;5;124minvalid value (nan) encountered in \u001b[39m\u001b[38;5;132;01m{\u001b[39;00mname\u001b[38;5;132;01m}\u001b[39;00m\u001b[38;5;124m\"\u001b[39m)\n\u001b[1;32m    323\u001b[0m \u001b[38;5;28;01mif\u001b[39;00m config\u001b[38;5;241m.\u001b[39mdebug_infs\u001b[38;5;241m.\u001b[39mvalue \u001b[38;5;129;01mand\u001b[39;00m np\u001b[38;5;241m.\u001b[39many(np\u001b[38;5;241m.\u001b[39misinf(np\u001b[38;5;241m.\u001b[39masarray(buf))):\n",
      "\u001b[0;31mFloatingPointError\u001b[0m: invalid value (nan) encountered in jit(update)",
      "\nDuring handling of the above exception, another exception occurred:\n",
      "\u001b[0;31mFloatingPointError\u001b[0m                        Traceback (most recent call last)",
      "Cell \u001b[0;32mIn[18], line 16\u001b[0m\n\u001b[1;32m     13\u001b[0m \u001b[38;5;28;01mfor\u001b[39;00m batch_size \u001b[38;5;129;01min\u001b[39;00m batch_size_values:\n\u001b[1;32m     14\u001b[0m     \u001b[38;5;28;01mfor\u001b[39;00m learning_rate \u001b[38;5;129;01min\u001b[39;00m learning_rate_values:\n\u001b[1;32m     15\u001b[0m         \u001b[38;5;66;03m# Train the model with the current hyper-parameters\u001b[39;00m\n\u001b[0;32m---> 16\u001b[0m         trained_params \u001b[38;5;241m=\u001b[39m \u001b[43mtrain\u001b[49m\u001b[43m(\u001b[49m\u001b[43mrandom_params\u001b[49m\u001b[43m,\u001b[49m\u001b[43m \u001b[49m\u001b[43mX_train\u001b[49m\u001b[43m,\u001b[49m\u001b[43m \u001b[49m\u001b[43mY_train\u001b[49m\u001b[43m,\u001b[49m\u001b[43m \u001b[49m\u001b[43mn_epochs\u001b[49m\u001b[38;5;241;43m=\u001b[39;49m\u001b[43mn_epochs\u001b[49m\u001b[43m,\u001b[49m\u001b[43m \u001b[49m\u001b[43mbatch_size\u001b[49m\u001b[38;5;241;43m=\u001b[39;49m\u001b[43mbatch_size\u001b[49m\u001b[43m,\u001b[49m\u001b[43m \u001b[49m\u001b[43mlr\u001b[49m\u001b[38;5;241;43m=\u001b[39;49m\u001b[43mlearning_rate\u001b[49m\u001b[43m)\u001b[49m\n\u001b[1;32m     18\u001b[0m         \u001b[38;5;66;03m# Evaluate the model on the test set\u001b[39;00m\n\u001b[1;32m     19\u001b[0m         accuracy \u001b[38;5;241m=\u001b[39m evaluate(trained_params, X_test, Y_test)\n",
      "Cell \u001b[0;32mIn[9], line 13\u001b[0m, in \u001b[0;36mtrain\u001b[0;34m(initial_params, X, Y, n_epochs, batch_size, lr, plot)\u001b[0m\n\u001b[1;32m     11\u001b[0m         x \u001b[38;5;241m=\u001b[39m X[i:i \u001b[38;5;241m+\u001b[39m batch_size]\n\u001b[1;32m     12\u001b[0m         y \u001b[38;5;241m=\u001b[39m Y[i:i \u001b[38;5;241m+\u001b[39m batch_size]\n\u001b[0;32m---> 13\u001b[0m         state, metric \u001b[38;5;241m=\u001b[39m \u001b[43mupdate\u001b[49m\u001b[43m(\u001b[49m\u001b[43mstate\u001b[49m\u001b[43m,\u001b[49m\u001b[43m \u001b[49m\u001b[43mx\u001b[49m\u001b[43m,\u001b[49m\u001b[43m \u001b[49m\u001b[43my\u001b[49m\u001b[43m)\u001b[49m\n\u001b[1;32m     15\u001b[0m     metrics\u001b[38;5;241m.\u001b[39mappend(metric)\n\u001b[1;32m     17\u001b[0m \u001b[38;5;28;01mif\u001b[39;00m plot:\n\u001b[1;32m     18\u001b[0m     \u001b[38;5;66;03m# plot the loss values\u001b[39;00m\n",
      "File \u001b[0;32m~/Repos/RASPing/.venv/lib/python3.12/site-packages/jax/_src/api.py:118\u001b[0m, in \u001b[0;36m_nan_check_posthook\u001b[0;34m(fun, args, kwargs, output)\u001b[0m\n\u001b[1;32m    115\u001b[0m \u001b[38;5;28;01massert\u001b[39;00m config\u001b[38;5;241m.\u001b[39mdebug_nans\u001b[38;5;241m.\u001b[39mvalue \u001b[38;5;129;01mor\u001b[39;00m config\u001b[38;5;241m.\u001b[39mdebug_infs\u001b[38;5;241m.\u001b[39mvalue\n\u001b[1;32m    116\u001b[0m \u001b[38;5;28mprint\u001b[39m(\u001b[38;5;124m\"\u001b[39m\u001b[38;5;124mInvalid nan value encountered in the output of a C++-jit/pmap \u001b[39m\u001b[38;5;124m\"\u001b[39m\n\u001b[1;32m    117\u001b[0m       \u001b[38;5;124m\"\u001b[39m\u001b[38;5;124mfunction. Calling the de-optimized version.\u001b[39m\u001b[38;5;124m\"\u001b[39m)\n\u001b[0;32m--> 118\u001b[0m \u001b[43mfun\u001b[49m\u001b[38;5;241;43m.\u001b[39;49m\u001b[43m_cache_miss\u001b[49m\u001b[43m(\u001b[49m\u001b[38;5;241;43m*\u001b[39;49m\u001b[43margs\u001b[49m\u001b[43m,\u001b[49m\u001b[43m \u001b[49m\u001b[38;5;241;43m*\u001b[39;49m\u001b[38;5;241;43m*\u001b[39;49m\u001b[43mkwargs\u001b[49m\u001b[43m)\u001b[49m[\u001b[38;5;241m0\u001b[39m]\n",
      "    \u001b[0;31m[... skipping hidden 9 frame]\u001b[0m\n",
      "File \u001b[0;32m~/Repos/RASPing/.venv/lib/python3.12/site-packages/jax/_src/pjit.py:1690\u001b[0m, in \u001b[0;36m_pjit_call_impl_python\u001b[0;34m(jaxpr, in_shardings, out_shardings, in_layouts, out_layouts, resource_env, donated_invars, name, keep_unused, inline, *args)\u001b[0m\n\u001b[1;32m   1673\u001b[0m \u001b[38;5;66;03m# If control reaches this line, we got a NaN on the output of `compiled`\u001b[39;00m\n\u001b[1;32m   1674\u001b[0m \u001b[38;5;66;03m# but not `fun.call_wrapped` on the same arguments. Let's tell the user.\u001b[39;00m\n\u001b[1;32m   1675\u001b[0m msg \u001b[38;5;241m=\u001b[39m (\u001b[38;5;124mf\u001b[39m\u001b[38;5;124m\"\u001b[39m\u001b[38;5;132;01m{\u001b[39;00m\u001b[38;5;28mstr\u001b[39m(e)\u001b[38;5;132;01m}\u001b[39;00m\u001b[38;5;124m. Because \u001b[39m\u001b[38;5;124m\"\u001b[39m\n\u001b[1;32m   1676\u001b[0m        \u001b[38;5;124m\"\u001b[39m\u001b[38;5;124mjax_config.debug_nans.value and/or config.jax_debug_infs is set, the \u001b[39m\u001b[38;5;124m\"\u001b[39m\n\u001b[1;32m   1677\u001b[0m        \u001b[38;5;124m\"\u001b[39m\u001b[38;5;124mde-optimized function (i.e., the function as if the `jit` \u001b[39m\u001b[38;5;124m\"\u001b[39m\n\u001b[0;32m   (...)\u001b[0m\n\u001b[1;32m   1688\u001b[0m        \u001b[38;5;124m\"\u001b[39m\u001b[38;5;124mIf you see this error, consider opening a bug report at \u001b[39m\u001b[38;5;124m\"\u001b[39m\n\u001b[1;32m   1689\u001b[0m        \u001b[38;5;124m\"\u001b[39m\u001b[38;5;124mhttps://github.com/google/jax.\u001b[39m\u001b[38;5;124m\"\u001b[39m)\n\u001b[0;32m-> 1690\u001b[0m \u001b[38;5;28;01mraise\u001b[39;00m \u001b[38;5;167;01mFloatingPointError\u001b[39;00m(msg)\n",
      "\u001b[0;31mFloatingPointError\u001b[0m: invalid value (nan) encountered in jit(update). Because jax_config.debug_nans.value and/or config.jax_debug_infs is set, the de-optimized function (i.e., the function as if the `jit` decorator were removed) was called in an attempt to get a more precise error message. However, the de-optimized function did not produce invalid values during its execution. This behavior can result from `jit` optimizations causing the invalid value to be produced. It may also arise from having nan/inf constants as outputs, like `jax.jit(lambda ...: jax.numpy.nan)(...)`. \n\nIt may be possible to avoid the invalid value by removing the `jit` decorator, at the cost of losing optimizations. \n\nIf you see this error, consider opening a bug report at https://github.com/google/jax."
     ]
    }
   ],
   "source": [
    "import pandas as pd\n",
    "\n",
    "# Define the hyper-parameter values to search\n",
    "n_epochs_values = [5000]\n",
    "batch_size_values = [256]\n",
    "learning_rate_values = [1e-5]\n",
    "\n",
    "# Create an empty DataFrame to store the results\n",
    "results = []\n",
    "\n",
    "# Perform hyper-parameter search\n",
    "for n_epochs in n_epochs_values:\n",
    "    for batch_size in batch_size_values:\n",
    "        for learning_rate in learning_rate_values:\n",
    "            # Train the model with the current hyper-parameters\n",
    "            trained_params = train(random_params, X_train, Y_train, n_epochs=n_epochs, batch_size=batch_size, lr=learning_rate)\n",
    "            \n",
    "            # Evaluate the model on the test set\n",
    "            accuracy = evaluate(trained_params, X_test, Y_test)\n",
    "            \n",
    "            # Append the results to the DataFrame\n",
    "            results.append({\"n_epochs\": n_epochs, \"batch_size\": batch_size, \"learning_rate\": learning_rate, \"accuracy\": accuracy})\n",
    "\n",
    "# Print the results\n",
    "print(pd.DataFrame(results).to_string())"
   ]
  },
  {
   "cell_type": "code",
   "execution_count": null,
   "metadata": {},
   "outputs": [
    {
     "name": "stdout",
     "output_type": "stream",
     "text": [
      "[5 4 2 0 1 0]\n",
      "[0 0 0 1 2 4]\n",
      "[0 0 0 0 0 0]\n"
     ]
    }
   ],
   "source": [
    "print(X_test[0])\n",
    "print(Y_test[0])\n",
    "\n",
    "print(forward_fun.apply(trained_params, jax.numpy.array([X_test[0]])).unembedded_output.argmax(axis=-1)[0])"
   ]
  },
  {
   "cell_type": "code",
   "execution_count": null,
   "metadata": {},
   "outputs": [
    {
     "data": {
      "text/plain": [
       "{'pos_embed': {'embeddings': Array([[nan, nan, nan, nan, nan, nan, nan, nan, nan, nan, nan, nan, nan,\n",
       "          nan, nan, nan, nan, nan, nan, nan, nan, nan, nan, nan, nan, nan,\n",
       "          nan, nan, nan, nan, nan, nan, nan, nan, nan, nan, nan, nan, nan,\n",
       "          nan, nan, nan, nan, nan, nan, nan, nan, nan, nan, nan],\n",
       "         [nan, nan, nan, nan, nan, nan, nan, nan, nan, nan, nan, nan, nan,\n",
       "          nan, nan, nan, nan, nan, nan, nan, nan, nan, nan, nan, nan, nan,\n",
       "          nan, nan, nan, nan, nan, nan, nan, nan, nan, nan, nan, nan, nan,\n",
       "          nan, nan, nan, nan, nan, nan, nan, nan, nan, nan, nan],\n",
       "         [nan, nan, nan, nan, nan, nan, nan, nan, nan, nan, nan, nan, nan,\n",
       "          nan, nan, nan, nan, nan, nan, nan, nan, nan, nan, nan, nan, nan,\n",
       "          nan, nan, nan, nan, nan, nan, nan, nan, nan, nan, nan, nan, nan,\n",
       "          nan, nan, nan, nan, nan, nan, nan, nan, nan, nan, nan],\n",
       "         [nan, nan, nan, nan, nan, nan, nan, nan, nan, nan, nan, nan, nan,\n",
       "          nan, nan, nan, nan, nan, nan, nan, nan, nan, nan, nan, nan, nan,\n",
       "          nan, nan, nan, nan, nan, nan, nan, nan, nan, nan, nan, nan, nan,\n",
       "          nan, nan, nan, nan, nan, nan, nan, nan, nan, nan, nan],\n",
       "         [nan, nan, nan, nan, nan, nan, nan, nan, nan, nan, nan, nan, nan,\n",
       "          nan, nan, nan, nan, nan, nan, nan, nan, nan, nan, nan, nan, nan,\n",
       "          nan, nan, nan, nan, nan, nan, nan, nan, nan, nan, nan, nan, nan,\n",
       "          nan, nan, nan, nan, nan, nan, nan, nan, nan, nan, nan],\n",
       "         [nan, nan, nan, nan, nan, nan, nan, nan, nan, nan, nan, nan, nan,\n",
       "          nan, nan, nan, nan, nan, nan, nan, nan, nan, nan, nan, nan, nan,\n",
       "          nan, nan, nan, nan, nan, nan, nan, nan, nan, nan, nan, nan, nan,\n",
       "          nan, nan, nan, nan, nan, nan, nan, nan, nan, nan, nan]],      dtype=float32)},\n",
       " 'token_embed': {'embeddings': Array([[nan, nan, nan, nan, nan, nan, nan, nan, nan, nan, nan, nan, nan,\n",
       "          nan, nan, nan, nan, nan, nan, nan, nan, nan, nan, nan, nan, nan,\n",
       "          nan, nan, nan, nan, nan, nan, nan, nan, nan, nan, nan, nan, nan,\n",
       "          nan, nan, nan, nan, nan, nan, nan, nan, nan, nan, nan],\n",
       "         [nan, nan, nan, nan, nan, nan, nan, nan, nan, nan, nan, nan, nan,\n",
       "          nan, nan, nan, nan, nan, nan, nan, nan, nan, nan, nan, nan, nan,\n",
       "          nan, nan, nan, nan, nan, nan, nan, nan, nan, nan, nan, nan, nan,\n",
       "          nan, nan, nan, nan, nan, nan, nan, nan, nan, nan, nan],\n",
       "         [nan, nan, nan, nan, nan, nan, nan, nan, nan, nan, nan, nan, nan,\n",
       "          nan, nan, nan, nan, nan, nan, nan, nan, nan, nan, nan, nan, nan,\n",
       "          nan, nan, nan, nan, nan, nan, nan, nan, nan, nan, nan, nan, nan,\n",
       "          nan, nan, nan, nan, nan, nan, nan, nan, nan, nan, nan],\n",
       "         [nan, nan, nan, nan, nan, nan, nan, nan, nan, nan, nan, nan, nan,\n",
       "          nan, nan, nan, nan, nan, nan, nan, nan, nan, nan, nan, nan, nan,\n",
       "          nan, nan, nan, nan, nan, nan, nan, nan, nan, nan, nan, nan, nan,\n",
       "          nan, nan, nan, nan, nan, nan, nan, nan, nan, nan, nan],\n",
       "         [nan, nan, nan, nan, nan, nan, nan, nan, nan, nan, nan, nan, nan,\n",
       "          nan, nan, nan, nan, nan, nan, nan, nan, nan, nan, nan, nan, nan,\n",
       "          nan, nan, nan, nan, nan, nan, nan, nan, nan, nan, nan, nan, nan,\n",
       "          nan, nan, nan, nan, nan, nan, nan, nan, nan, nan, nan],\n",
       "         [nan, nan, nan, nan, nan, nan, nan, nan, nan, nan, nan, nan, nan,\n",
       "          nan, nan, nan, nan, nan, nan, nan, nan, nan, nan, nan, nan, nan,\n",
       "          nan, nan, nan, nan, nan, nan, nan, nan, nan, nan, nan, nan, nan,\n",
       "          nan, nan, nan, nan, nan, nan, nan, nan, nan, nan, nan],\n",
       "         [nan, nan, nan, nan, nan, nan, nan, nan, nan, nan, nan, nan, nan,\n",
       "          nan, nan, nan, nan, nan, nan, nan, nan, nan, nan, nan, nan, nan,\n",
       "          nan, nan, nan, nan, nan, nan, nan, nan, nan, nan, nan, nan, nan,\n",
       "          nan, nan, nan, nan, nan, nan, nan, nan, nan, nan, nan]],      dtype=float32)},\n",
       " 'transformer/layer_0/attn/key': {'b': Array([nan, nan, nan, nan, nan, nan, nan, nan, nan, nan, nan, nan, nan,\n",
       "         nan, nan, nan, nan, nan, nan, nan, nan, nan, nan, nan, nan, nan,\n",
       "         nan], dtype=float32),\n",
       "  'w': Array([[nan, nan, nan, ..., nan, nan, nan],\n",
       "         [nan, nan, nan, ..., nan, nan, nan],\n",
       "         [nan, nan, nan, ..., nan, nan, nan],\n",
       "         ...,\n",
       "         [nan, nan, nan, ..., nan, nan, nan],\n",
       "         [nan, nan, nan, ..., nan, nan, nan],\n",
       "         [nan, nan, nan, ..., nan, nan, nan]], dtype=float32)},\n",
       " 'transformer/layer_0/attn/linear': {'b': Array([nan, nan, nan, nan, nan, nan, nan, nan, nan, nan, nan, nan, nan,\n",
       "         nan, nan, nan, nan, nan, nan, nan, nan, nan, nan, nan, nan, nan,\n",
       "         nan, nan, nan, nan, nan, nan, nan, nan, nan, nan, nan, nan, nan,\n",
       "         nan, nan, nan, nan, nan, nan, nan, nan, nan, nan, nan],      dtype=float32),\n",
       "  'w': Array([[nan, nan, nan, ..., nan, nan, nan],\n",
       "         [nan, nan, nan, ..., nan, nan, nan],\n",
       "         [nan, nan, nan, ..., nan, nan, nan],\n",
       "         ...,\n",
       "         [nan, nan, nan, ..., nan, nan, nan],\n",
       "         [nan, nan, nan, ..., nan, nan, nan],\n",
       "         [nan, nan, nan, ..., nan, nan, nan]], dtype=float32)},\n",
       " 'transformer/layer_0/attn/query': {'b': Array([nan, nan, nan, nan, nan, nan, nan, nan, nan, nan, nan, nan, nan,\n",
       "         nan, nan, nan, nan, nan, nan, nan, nan, nan, nan, nan, nan, nan,\n",
       "         nan], dtype=float32),\n",
       "  'w': Array([[nan, nan, nan, ..., nan, nan, nan],\n",
       "         [nan, nan, nan, ..., nan, nan, nan],\n",
       "         [nan, nan, nan, ..., nan, nan, nan],\n",
       "         ...,\n",
       "         [nan, nan, nan, ..., nan, nan, nan],\n",
       "         [nan, nan, nan, ..., nan, nan, nan],\n",
       "         [nan, nan, nan, ..., nan, nan, nan]], dtype=float32)},\n",
       " 'transformer/layer_0/attn/value': {'b': Array([nan, nan, nan, nan, nan, nan, nan, nan, nan, nan, nan, nan, nan,\n",
       "         nan, nan, nan, nan, nan, nan, nan, nan, nan, nan, nan, nan, nan,\n",
       "         nan], dtype=float32),\n",
       "  'w': Array([[nan, nan, nan, ..., nan, nan, nan],\n",
       "         [nan, nan, nan, ..., nan, nan, nan],\n",
       "         [nan, nan, nan, ..., nan, nan, nan],\n",
       "         ...,\n",
       "         [nan, nan, nan, ..., nan, nan, nan],\n",
       "         [nan, nan, nan, ..., nan, nan, nan],\n",
       "         [nan, nan, nan, ..., nan, nan, nan]], dtype=float32)},\n",
       " 'transformer/layer_0/mlp/linear_1': {'b': Array([nan, nan, nan, nan, nan, nan, nan, nan, nan, nan, nan, nan, nan,\n",
       "         nan, nan, nan, nan, nan, nan, nan, nan, nan, nan, nan, nan],      dtype=float32),\n",
       "  'w': Array([[nan, nan, nan, ..., nan, nan, nan],\n",
       "         [nan, nan, nan, ..., nan, nan, nan],\n",
       "         [nan, nan, nan, ..., nan, nan, nan],\n",
       "         ...,\n",
       "         [nan, nan, nan, ..., nan, nan, nan],\n",
       "         [nan, nan, nan, ..., nan, nan, nan],\n",
       "         [nan, nan, nan, ..., nan, nan, nan]], dtype=float32)},\n",
       " 'transformer/layer_0/mlp/linear_2': {'b': Array([nan, nan, nan, nan, nan, nan, nan, nan, nan, nan, nan, nan, nan,\n",
       "         nan, nan, nan, nan, nan, nan, nan, nan, nan, nan, nan, nan, nan,\n",
       "         nan, nan, nan, nan, nan, nan, nan, nan, nan, nan, nan, nan, nan,\n",
       "         nan, nan, nan, nan, nan, nan, nan, nan, nan, nan, nan],      dtype=float32),\n",
       "  'w': Array([[nan, nan, nan, ..., nan, nan, nan],\n",
       "         [nan, nan, nan, ..., nan, nan, nan],\n",
       "         [nan, nan, nan, ..., nan, nan, nan],\n",
       "         ...,\n",
       "         [nan, nan, nan, ..., nan, nan, nan],\n",
       "         [nan, nan, nan, ..., nan, nan, nan],\n",
       "         [nan, nan, nan, ..., nan, nan, nan]], dtype=float32)},\n",
       " 'transformer/layer_1/attn/key': {'b': Array([nan, nan, nan, nan, nan, nan, nan, nan, nan, nan, nan, nan, nan,\n",
       "         nan, nan, nan, nan, nan, nan, nan, nan, nan, nan, nan, nan, nan,\n",
       "         nan], dtype=float32),\n",
       "  'w': Array([[nan, nan, nan, ..., nan, nan, nan],\n",
       "         [nan, nan, nan, ..., nan, nan, nan],\n",
       "         [nan, nan, nan, ..., nan, nan, nan],\n",
       "         ...,\n",
       "         [nan, nan, nan, ..., nan, nan, nan],\n",
       "         [nan, nan, nan, ..., nan, nan, nan],\n",
       "         [nan, nan, nan, ..., nan, nan, nan]], dtype=float32)},\n",
       " 'transformer/layer_1/attn/linear': {'b': Array([nan, nan, nan, nan, nan, nan, nan, nan, nan, nan, nan, nan, nan,\n",
       "         nan, nan, nan, nan, nan, nan, nan, nan, nan, nan, nan, nan, nan,\n",
       "         nan, nan, nan, nan, nan, nan, nan, nan, nan, nan, nan, nan, nan,\n",
       "         nan, nan, nan, nan, nan, nan, nan, nan, nan, nan, nan],      dtype=float32),\n",
       "  'w': Array([[nan, nan, nan, ..., nan, nan, nan],\n",
       "         [nan, nan, nan, ..., nan, nan, nan],\n",
       "         [nan, nan, nan, ..., nan, nan, nan],\n",
       "         ...,\n",
       "         [nan, nan, nan, ..., nan, nan, nan],\n",
       "         [nan, nan, nan, ..., nan, nan, nan],\n",
       "         [nan, nan, nan, ..., nan, nan, nan]], dtype=float32)},\n",
       " 'transformer/layer_1/attn/query': {'b': Array([nan, nan, nan, nan, nan, nan, nan, nan, nan, nan, nan, nan, nan,\n",
       "         nan, nan, nan, nan, nan, nan, nan, nan, nan, nan, nan, nan, nan,\n",
       "         nan], dtype=float32),\n",
       "  'w': Array([[nan, nan, nan, ..., nan, nan, nan],\n",
       "         [nan, nan, nan, ..., nan, nan, nan],\n",
       "         [nan, nan, nan, ..., nan, nan, nan],\n",
       "         ...,\n",
       "         [nan, nan, nan, ..., nan, nan, nan],\n",
       "         [nan, nan, nan, ..., nan, nan, nan],\n",
       "         [nan, nan, nan, ..., nan, nan, nan]], dtype=float32)},\n",
       " 'transformer/layer_1/attn/value': {'b': Array([nan, nan, nan, nan, nan, nan, nan, nan, nan, nan, nan, nan, nan,\n",
       "         nan, nan, nan, nan, nan, nan, nan, nan, nan, nan, nan, nan, nan,\n",
       "         nan], dtype=float32),\n",
       "  'w': Array([[nan, nan, nan, ..., nan, nan, nan],\n",
       "         [nan, nan, nan, ..., nan, nan, nan],\n",
       "         [nan, nan, nan, ..., nan, nan, nan],\n",
       "         ...,\n",
       "         [nan, nan, nan, ..., nan, nan, nan],\n",
       "         [nan, nan, nan, ..., nan, nan, nan],\n",
       "         [nan, nan, nan, ..., nan, nan, nan]], dtype=float32)},\n",
       " 'transformer/layer_1/mlp/linear_1': {'b': Array([nan, nan, nan, nan, nan, nan, nan, nan, nan, nan, nan, nan, nan,\n",
       "         nan, nan, nan, nan, nan, nan, nan, nan, nan, nan, nan, nan],      dtype=float32),\n",
       "  'w': Array([[nan, nan, nan, ..., nan, nan, nan],\n",
       "         [nan, nan, nan, ..., nan, nan, nan],\n",
       "         [nan, nan, nan, ..., nan, nan, nan],\n",
       "         ...,\n",
       "         [nan, nan, nan, ..., nan, nan, nan],\n",
       "         [nan, nan, nan, ..., nan, nan, nan],\n",
       "         [nan, nan, nan, ..., nan, nan, nan]], dtype=float32)},\n",
       " 'transformer/layer_1/mlp/linear_2': {'b': Array([nan, nan, nan, nan, nan, nan, nan, nan, nan, nan, nan, nan, nan,\n",
       "         nan, nan, nan, nan, nan, nan, nan, nan, nan, nan, nan, nan, nan,\n",
       "         nan, nan, nan, nan, nan, nan, nan, nan, nan, nan, nan, nan, nan,\n",
       "         nan, nan, nan, nan, nan, nan, nan, nan, nan, nan, nan],      dtype=float32),\n",
       "  'w': Array([[nan, nan, nan, ..., nan, nan, nan],\n",
       "         [nan, nan, nan, ..., nan, nan, nan],\n",
       "         [nan, nan, nan, ..., nan, nan, nan],\n",
       "         ...,\n",
       "         [nan, nan, nan, ..., nan, nan, nan],\n",
       "         [nan, nan, nan, ..., nan, nan, nan],\n",
       "         [nan, nan, nan, ..., nan, nan, nan]], dtype=float32)},\n",
       " 'transformer/layer_2/attn/key': {'b': Array([nan, nan, nan, nan, nan, nan, nan, nan, nan, nan, nan, nan, nan,\n",
       "         nan, nan, nan, nan, nan, nan, nan, nan, nan, nan, nan, nan, nan,\n",
       "         nan], dtype=float32),\n",
       "  'w': Array([[nan, nan, nan, ..., nan, nan, nan],\n",
       "         [nan, nan, nan, ..., nan, nan, nan],\n",
       "         [nan, nan, nan, ..., nan, nan, nan],\n",
       "         ...,\n",
       "         [nan, nan, nan, ..., nan, nan, nan],\n",
       "         [nan, nan, nan, ..., nan, nan, nan],\n",
       "         [nan, nan, nan, ..., nan, nan, nan]], dtype=float32)},\n",
       " 'transformer/layer_2/attn/linear': {'b': Array([nan, nan, nan, nan, nan, nan, nan, nan, nan, nan, nan, nan, nan,\n",
       "         nan, nan, nan, nan, nan, nan, nan, nan, nan, nan, nan, nan, nan,\n",
       "         nan, nan, nan, nan, nan, nan, nan, nan, nan, nan, nan, nan, nan,\n",
       "         nan, nan, nan, nan, nan, nan, nan, nan, nan, nan, nan],      dtype=float32),\n",
       "  'w': Array([[nan, nan, nan, ..., nan, nan, nan],\n",
       "         [nan, nan, nan, ..., nan, nan, nan],\n",
       "         [nan, nan, nan, ..., nan, nan, nan],\n",
       "         ...,\n",
       "         [nan, nan, nan, ..., nan, nan, nan],\n",
       "         [nan, nan, nan, ..., nan, nan, nan],\n",
       "         [nan, nan, nan, ..., nan, nan, nan]], dtype=float32)},\n",
       " 'transformer/layer_2/attn/query': {'b': Array([nan, nan, nan, nan, nan, nan, nan, nan, nan, nan, nan, nan, nan,\n",
       "         nan, nan, nan, nan, nan, nan, nan, nan, nan, nan, nan, nan, nan,\n",
       "         nan], dtype=float32),\n",
       "  'w': Array([[nan, nan, nan, ..., nan, nan, nan],\n",
       "         [nan, nan, nan, ..., nan, nan, nan],\n",
       "         [nan, nan, nan, ..., nan, nan, nan],\n",
       "         ...,\n",
       "         [nan, nan, nan, ..., nan, nan, nan],\n",
       "         [nan, nan, nan, ..., nan, nan, nan],\n",
       "         [nan, nan, nan, ..., nan, nan, nan]], dtype=float32)},\n",
       " 'transformer/layer_2/attn/value': {'b': Array([nan, nan, nan, nan, nan, nan, nan, nan, nan, nan, nan, nan, nan,\n",
       "         nan, nan, nan, nan, nan, nan, nan, nan, nan, nan, nan, nan, nan,\n",
       "         nan], dtype=float32),\n",
       "  'w': Array([[nan, nan, nan, ..., nan, nan, nan],\n",
       "         [nan, nan, nan, ..., nan, nan, nan],\n",
       "         [nan, nan, nan, ..., nan, nan, nan],\n",
       "         ...,\n",
       "         [nan, nan, nan, ..., nan, nan, nan],\n",
       "         [nan, nan, nan, ..., nan, nan, nan],\n",
       "         [nan, nan, nan, ..., nan, nan, nan]], dtype=float32)},\n",
       " 'transformer/layer_2/mlp/linear_1': {'b': Array([nan, nan, nan, nan, nan, nan, nan, nan, nan, nan, nan, nan, nan,\n",
       "         nan, nan, nan, nan, nan, nan, nan, nan, nan, nan, nan, nan],      dtype=float32),\n",
       "  'w': Array([[nan, nan, nan, ..., nan, nan, nan],\n",
       "         [nan, nan, nan, ..., nan, nan, nan],\n",
       "         [nan, nan, nan, ..., nan, nan, nan],\n",
       "         ...,\n",
       "         [nan, nan, nan, ..., nan, nan, nan],\n",
       "         [nan, nan, nan, ..., nan, nan, nan],\n",
       "         [nan, nan, nan, ..., nan, nan, nan]], dtype=float32)},\n",
       " 'transformer/layer_2/mlp/linear_2': {'b': Array([nan, nan, nan, nan, nan, nan, nan, nan, nan, nan, nan, nan, nan,\n",
       "         nan, nan, nan, nan, nan, nan, nan, nan, nan, nan, nan, nan, nan,\n",
       "         nan, nan, nan, nan, nan, nan, nan, nan, nan, nan, nan, nan, nan,\n",
       "         nan, nan, nan, nan, nan, nan, nan, nan, nan, nan, nan],      dtype=float32),\n",
       "  'w': Array([[nan, nan, nan, ..., nan, nan, nan],\n",
       "         [nan, nan, nan, ..., nan, nan, nan],\n",
       "         [nan, nan, nan, ..., nan, nan, nan],\n",
       "         ...,\n",
       "         [nan, nan, nan, ..., nan, nan, nan],\n",
       "         [nan, nan, nan, ..., nan, nan, nan],\n",
       "         [nan, nan, nan, ..., nan, nan, nan]], dtype=float32)}}"
      ]
     },
     "execution_count": 39,
     "metadata": {},
     "output_type": "execute_result"
    }
   ],
   "source": [
    "trained_params"
   ]
  },
  {
   "cell_type": "code",
   "execution_count": null,
   "metadata": {},
   "outputs": [],
   "source": []
  }
 ],
 "metadata": {
  "kernelspec": {
   "display_name": ".venv",
   "language": "python",
   "name": "python3"
  },
  "language_info": {
   "codemirror_mode": {
    "name": "ipython",
    "version": 3
   },
   "file_extension": ".py",
   "mimetype": "text/x-python",
   "name": "python",
   "nbconvert_exporter": "python",
   "pygments_lexer": "ipython3",
   "version": "3.12.4"
  }
 },
 "nbformat": 4,
 "nbformat_minor": 2
}

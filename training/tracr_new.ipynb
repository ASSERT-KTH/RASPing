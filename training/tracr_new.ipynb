{
 "cells": [
  {
   "cell_type": "code",
   "execution_count": 92,
   "metadata": {},
   "outputs": [],
   "source": [
    "from tracr.rasp import rasp\n",
    "\n",
    "def make_sort_unique(vals: rasp.SOp, keys: rasp.SOp) -> rasp.SOp:\n",
    "  \"\"\"Returns vals sorted by < relation on keys.\n",
    "\n",
    "  Only supports unique keys.\n",
    "\n",
    "  Example usage:\n",
    "    sort = make_sort(rasp.tokens, rasp.tokens)\n",
    "    sort([2, 4, 3, 1])\n",
    "    >> [1, 2, 3, 4]\n",
    "\n",
    "  Args:\n",
    "    vals: Values to sort.\n",
    "    keys: Keys for sorting.\n",
    "  \"\"\"\n",
    "  smaller = rasp.Select(keys, keys, rasp.Comparison.LT).named(\"smaller\")\n",
    "  target_pos = rasp.SelectorWidth(smaller).named(\"target_pos\")\n",
    "  sel_new = rasp.Select(target_pos, rasp.indices, rasp.Comparison.EQ)\n",
    "  return rasp.Aggregate(sel_new, vals).named(\"sort\")"
   ]
  },
  {
   "cell_type": "code",
   "execution_count": 93,
   "metadata": {},
   "outputs": [
    {
     "name": "stdout",
     "output_type": "stream",
     "text": [
      "TransformerConfig(num_heads=1, num_layers=2, key_size=7, mlp_hidden_size=12, dropout_rate=0.0, activation_function=<jax._src.custom_derivatives.custom_jvp object at 0x795ce4279a90>, layer_norm=False, causal=False)\n"
     ]
    }
   ],
   "source": [
    "from tracr.compiler import compiling\n",
    "\n",
    "sort = make_sort_unique(rasp.tokens, rasp.tokens)\n",
    "bos = \"BOS\"\n",
    "model = compiling.compile_rasp_to_model(\n",
    "    sort,\n",
    "    vocab={0, 1, 2, 3},\n",
    "    max_seq_len=5,\n",
    "    compiler_bos=bos,\n",
    ")\n",
    "print(model.model_config)"
   ]
  },
  {
   "cell_type": "code",
   "execution_count": 94,
   "metadata": {},
   "outputs": [],
   "source": [
    "import haiku as hk\n",
    "import jax\n",
    "\n",
    "params = model.params\n",
    "\n",
    "hk_model = hk.transform(model.get_compiled_model)\n",
    "hk_model = hk_model.apply(params, jax.random.PRNGKey(42))\n",
    "hk_model.use_unembed_argmax = False"
   ]
  },
  {
   "cell_type": "code",
   "execution_count": 95,
   "metadata": {},
   "outputs": [],
   "source": [
    "def forward(x):\n",
    "    return hk_model(x)\n",
    "\n",
    "forward = hk.transform(forward)"
   ]
  },
  {
   "cell_type": "code",
   "execution_count": 96,
   "metadata": {},
   "outputs": [
    {
     "data": {
      "text/plain": [
       "Array([[[0.0000000e+00, 6.2030554e-09, 6.2030554e-09, 6.2030554e-09],\n",
       "        [0.0000000e+00, 1.0000000e+00, 3.8477894e-17, 3.8477894e-17],\n",
       "        [0.0000000e+00, 3.8477894e-17, 1.0000000e+00, 3.8477894e-17],\n",
       "        [0.0000000e+00, 3.8477894e-17, 3.8477894e-17, 1.0000000e+00]]],      dtype=float32)"
      ]
     },
     "execution_count": 96,
     "metadata": {},
     "output_type": "execute_result"
    }
   ],
   "source": [
    "output = forward.apply(model.params, jax.random.PRNGKey(42), jax.numpy.array([[4, 3, 2, 1]]))\n",
    "output.unembedded_output"
   ]
  },
  {
   "cell_type": "code",
   "execution_count": 111,
   "metadata": {},
   "outputs": [],
   "source": [
    "import haiku as hk\n",
    "import jax\n",
    "import jax.numpy as jnp\n",
    "\n",
    "# TODO: ignore first position\n",
    "def loss_fn(params, x, y):\n",
    "  logits = forward.apply(params, jax.random.PRNGKey(42), x).unembedded_output\n",
    "  labels = jax.nn.one_hot(y, logits.shape[-1])\n",
    "  return -jnp.sum(labels * jax.nn.log_softmax(logits)) / labels.shape[0]\n",
    "\n",
    "LEARNING_RATE = 0.0001\n",
    "\n",
    "# @jax.jit\n",
    "def update(params, x, y):\n",
    "  grads = jax.grad(loss_fn)(params, x, y)\n",
    "  # print(grads)\n",
    "  return jax.tree_util.tree_map(\n",
    "      lambda p, g: p - LEARNING_RATE * g, model.params, grads\n",
    "  )"
   ]
  },
  {
   "cell_type": "code",
   "execution_count": 116,
   "metadata": {},
   "outputs": [
    {
     "name": "stdout",
     "output_type": "stream",
     "text": [
      "[4, 2, 1, 3]\n",
      "BEFORE\n",
      "['BOS', 1, 2, 3]\n",
      "UPDATE\n",
      "AFTER\n",
      "['BOS', 1, 1, 3]\n"
     ]
    }
   ],
   "source": [
    "x_untoken = [bos, 2, 1, 3]\n",
    "print(model.input_encoder.encode(x_untoken))\n",
    "x = jax.numpy.array([[4, 2, 1, 3]])\n",
    "y = jnp.array([[1, 3, 2, 1]])\n",
    "\n",
    "print(\"BEFORE\")\n",
    "print(model.apply(x_untoken).decoded)\n",
    "\n",
    "print(\"UPDATE\")\n",
    "new_params = update(model.params, x, y)\n",
    "old_params = model.params\n",
    "model.params = new_params\n",
    "\n",
    "print(\"AFTER\")\n",
    "print(model.apply(x_untoken).decoded)\n",
    "model.params = old_params"
   ]
  },
  {
   "cell_type": "code",
   "execution_count": null,
   "metadata": {},
   "outputs": [],
   "source": []
  }
 ],
 "metadata": {
  "kernelspec": {
   "display_name": ".venv",
   "language": "python",
   "name": "python3"
  },
  "language_info": {
   "codemirror_mode": {
    "name": "ipython",
    "version": 3
   },
   "file_extension": ".py",
   "mimetype": "text/x-python",
   "name": "python",
   "nbconvert_exporter": "python",
   "pygments_lexer": "ipython3",
   "version": "3.12.2"
  }
 },
 "nbformat": 4,
 "nbformat_minor": 2
}

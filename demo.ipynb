{
 "cells": [
  {
   "cell_type": "code",
   "execution_count": 1,
   "metadata": {},
   "outputs": [],
   "source": [
    "from tracr.rasp import rasp\n",
    "from tracr.compiler import compiling\n",
    "from tracr.compiler import lib\n",
    "\n",
    "import sys\n",
    "import os\n",
    "\n",
    "from src.functions import *"
   ]
  },
  {
   "cell_type": "code",
   "execution_count": 2,
   "metadata": {},
   "outputs": [],
   "source": [
    "# name = \"reverse\"\n",
    "# max_length = 10\n",
    "name = \"sort\"\n",
    "max_length = 5\n",
    "N = 5000"
   ]
  },
  {
   "cell_type": "code",
   "execution_count": 3,
   "metadata": {},
   "outputs": [
    {
     "name": "stderr",
     "output_type": "stream",
     "text": [
      "2024-09-02 13:44:38.301124: W external/xla/xla/service/gpu/nvptx_compiler.cc:836] The NVIDIA driver's CUDA version is 12.2 which is older than the PTX compiler version (12.6.20). Because the driver is older than the PTX compiler version, XLA is disabling parallel compilation, which may slow down compilation. You should update your NVIDIA driver or use the NVIDIA-provided CUDA forward compatibility packages.\n"
     ]
    },
    {
     "name": "stdout",
     "output_type": "stream",
     "text": [
      "TransformerConfig(num_heads=1, num_layers=3, key_size=32, mlp_hidden_size=30, dropout_rate=0.0, activation_function=<jax._src.custom_derivatives.custom_jvp object at 0x150830f52150>, layer_norm=False, causal=False)\n",
      "{1: 0, 2: 1, 3: 2, 4: 3, 5: 4, 6: 5, 'BOS': 6, 'compiler_pad': 7}\n",
      "{1: 0, 2: 1, 3: 2, 4: 3, 5: 4, 6: 5}\n"
     ]
    }
   ],
   "source": [
    "model = generateModel(name, max_length)\n",
    "print(model.model.model_config)\n",
    "print(model.model.input_encoder.encoding_map)\n",
    "print(model.model.output_encoder.encoding_map)"
   ]
  },
  {
   "cell_type": "code",
   "execution_count": 4,
   "metadata": {},
   "outputs": [
    {
     "name": "stdout",
     "output_type": "stream",
     "text": [
      "[[0. 0. 0. 0. 0. 1. 0. 0. 0. 0. 0. 0. 0. 0. 0. 0. 0. 0. 0. 0. 0. 0. 0. 0.\n",
      "  0. 0. 0. 0. 0. 0. 0. 0. 0. 0. 0. 0. 0. 0. 0. 0. 0. 0. 0. 0. 0. 0. 0. 0.\n",
      "  0. 1. 0. 0. 0. 0. 0. 0. 0.]\n",
      " [0. 0. 0. 0. 0. 1. 0. 0. 0. 0. 0. 0. 0. 0. 0. 0. 0. 0. 0. 0. 0. 0. 0. 0.\n",
      "  0. 0. 0. 0. 0. 0. 0. 0. 0. 0. 0. 0. 0. 0. 0. 0. 0. 0. 0. 0. 0. 0. 0. 0.\n",
      "  0. 0. 1. 0. 0. 0. 0. 0. 0.]\n",
      " [0. 0. 0. 0. 0. 1. 0. 0. 0. 0. 0. 0. 0. 0. 0. 0. 0. 0. 0. 0. 0. 0. 0. 0.\n",
      "  0. 0. 0. 0. 0. 0. 0. 0. 0. 0. 0. 0. 0. 0. 0. 0. 0. 0. 0. 0. 0. 0. 0. 0.\n",
      "  0. 0. 0. 1. 0. 0. 0. 0. 0.]\n",
      " [0. 0. 0. 0. 0. 1. 0. 0. 0. 0. 0. 0. 0. 0. 0. 0. 0. 0. 0. 0. 0. 0. 0. 0.\n",
      "  0. 0. 0. 0. 0. 0. 0. 0. 0. 0. 0. 0. 0. 0. 0. 0. 0. 0. 0. 0. 0. 0. 0. 0.\n",
      "  0. 0. 0. 0. 1. 0. 0. 0. 0.]\n",
      " [0. 0. 0. 0. 0. 1. 0. 0. 0. 0. 0. 0. 0. 0. 0. 0. 0. 0. 0. 0. 0. 0. 0. 0.\n",
      "  0. 0. 0. 0. 0. 0. 0. 0. 0. 0. 0. 0. 0. 0. 0. 0. 0. 0. 0. 0. 0. 0. 0. 0.\n",
      "  0. 0. 0. 0. 0. 1. 0. 0. 0.]\n",
      " [0. 0. 0. 0. 0. 1. 0. 0. 0. 0. 0. 0. 0. 0. 0. 0. 0. 0. 0. 0. 0. 0. 0. 0.\n",
      "  0. 0. 0. 0. 0. 0. 0. 0. 0. 0. 0. 0. 0. 0. 0. 0. 0. 0. 0. 0. 0. 0. 0. 0.\n",
      "  0. 0. 0. 0. 0. 0. 1. 0. 0.]\n",
      " [0. 0. 0. 0. 0. 1. 0. 0. 0. 0. 0. 0. 0. 0. 0. 0. 0. 0. 0. 0. 0. 0. 0. 0.\n",
      "  0. 0. 0. 0. 0. 0. 0. 0. 0. 0. 0. 0. 0. 0. 0. 0. 0. 0. 0. 0. 0. 0. 0. 0.\n",
      "  0. 0. 0. 0. 0. 0. 0. 1. 0.]\n",
      " [0. 0. 0. 0. 0. 1. 0. 0. 0. 0. 0. 0. 0. 0. 0. 0. 0. 0. 0. 0. 0. 0. 0. 0.\n",
      "  0. 0. 0. 0. 0. 0. 0. 0. 0. 0. 0. 0. 0. 0. 0. 0. 0. 0. 0. 0. 0. 0. 0. 0.\n",
      "  0. 0. 0. 0. 0. 0. 0. 0. 1.]]\n",
      "-------\n",
      "{'b': Array([0., 0., 0., 0., 0., 0., 0., 0., 0., 0., 0., 0., 0., 0., 0., 0., 0.,\n",
      "       0., 0., 0., 0., 0., 0., 0., 0., 0., 0., 0., 0., 0.], dtype=float64), 'w': Array([[1., 0., 0., ..., 0., 0., 0.],\n",
      "       [0., 1., 0., ..., 0., 0., 0.],\n",
      "       [0., 0., 1., ..., 1., 0., 0.],\n",
      "       ...,\n",
      "       [0., 0., 0., ..., 1., 1., 1.],\n",
      "       [0., 0., 0., ..., 0., 0., 0.],\n",
      "       [0., 0., 0., ..., 0., 0., 0.]], dtype=float64)}\n"
     ]
    }
   ],
   "source": [
    "print(model.model.params[\"token_embed\"][\"embeddings\"])\n",
    "print(\"-------\")\n",
    "print(model.model.params[\"transformer/layer_0/mlp/linear_1\"])"
   ]
  },
  {
   "cell_type": "code",
   "execution_count": 4,
   "metadata": {},
   "outputs": [
    {
     "data": {
      "text/plain": [
       "['BOS', 1, 2, 3, 4, 5]"
      ]
     },
     "execution_count": 4,
     "metadata": {},
     "output_type": "execute_result"
    }
   ],
   "source": [
    "model.apply([\"BOS\", 3, 2, 5, 1, 4])"
   ]
  },
  {
   "cell_type": "code",
   "execution_count": 5,
   "metadata": {},
   "outputs": [
    {
     "name": "stdout",
     "output_type": "stream",
     "text": [
      "(1882, 6)\n",
      "(333, 6)\n",
      "(1882, 6)\n",
      "(333, 6)\n",
      "[6 2 1 4 2 7]\n",
      "[6 5 4 5 4 3]\n",
      "[0 1 2 2 4 0]\n",
      "[0 3 4 4 5 5]\n"
     ]
    }
   ],
   "source": [
    "X, Y = generateAndEncodeData(name, max_length, N, removeDuplicates=True)\n",
    "split = int(X.shape[0] * 0.85)\n",
    "X_train, X_val = X[:split], X[split:]\n",
    "Y_train, Y_val = Y[:split], Y[split:]\n",
    "\n",
    "print(X_train.shape)\n",
    "print(X_val.shape)\n",
    "print(Y_train.shape)\n",
    "print(Y_val.shape)\n",
    "\n",
    "print(X_train[0])\n",
    "print(X_val[0])\n",
    "print(Y_train[0])\n",
    "print(Y_val[0])"
   ]
  },
  {
   "cell_type": "code",
   "execution_count": 6,
   "metadata": {},
   "outputs": [
    {
     "data": {
      "text/plain": [
       "Array(1., dtype=float64)"
      ]
     },
     "execution_count": 6,
     "metadata": {},
     "output_type": "execute_result"
    }
   ],
   "source": [
    "model.fastEvaluateEncoded(X_train, Y_train)"
   ]
  },
  {
   "cell_type": "code",
   "execution_count": 7,
   "metadata": {},
   "outputs": [],
   "source": [
    "model.addNoise(\"gaussian\", 1.0, 0.1)"
   ]
  },
  {
   "cell_type": "code",
   "execution_count": 8,
   "metadata": {},
   "outputs": [
    {
     "name": "stdout",
     "output_type": "stream",
     "text": [
      "[[0. 0. 0. 0. 0. 1. 0. 0. 0. 0. 0. 0. 0. 0. 0. 0. 0. 0. 0. 0. 0. 0. 0. 0.\n",
      "  0. 0. 0. 0. 0. 0. 0. 0. 0. 0. 0. 0. 0. 0. 0. 0. 0. 0. 0. 0. 0. 0. 0. 0.\n",
      "  0. 1. 0. 0. 0. 0. 0. 0. 0.]\n",
      " [0. 0. 0. 0. 0. 1. 0. 0. 0. 0. 0. 0. 0. 0. 0. 0. 0. 0. 0. 0. 0. 0. 0. 0.\n",
      "  0. 0. 0. 0. 0. 0. 0. 0. 0. 0. 0. 0. 0. 0. 0. 0. 0. 0. 0. 0. 0. 0. 0. 0.\n",
      "  0. 0. 1. 0. 0. 0. 0. 0. 0.]\n",
      " [0. 0. 0. 0. 0. 1. 0. 0. 0. 0. 0. 0. 0. 0. 0. 0. 0. 0. 0. 0. 0. 0. 0. 0.\n",
      "  0. 0. 0. 0. 0. 0. 0. 0. 0. 0. 0. 0. 0. 0. 0. 0. 0. 0. 0. 0. 0. 0. 0. 0.\n",
      "  0. 0. 0. 1. 0. 0. 0. 0. 0.]\n",
      " [0. 0. 0. 0. 0. 1. 0. 0. 0. 0. 0. 0. 0. 0. 0. 0. 0. 0. 0. 0. 0. 0. 0. 0.\n",
      "  0. 0. 0. 0. 0. 0. 0. 0. 0. 0. 0. 0. 0. 0. 0. 0. 0. 0. 0. 0. 0. 0. 0. 0.\n",
      "  0. 0. 0. 0. 1. 0. 0. 0. 0.]\n",
      " [0. 0. 0. 0. 0. 1. 0. 0. 0. 0. 0. 0. 0. 0. 0. 0. 0. 0. 0. 0. 0. 0. 0. 0.\n",
      "  0. 0. 0. 0. 0. 0. 0. 0. 0. 0. 0. 0. 0. 0. 0. 0. 0. 0. 0. 0. 0. 0. 0. 0.\n",
      "  0. 0. 0. 0. 0. 1. 0. 0. 0.]\n",
      " [0. 0. 0. 0. 0. 1. 0. 0. 0. 0. 0. 0. 0. 0. 0. 0. 0. 0. 0. 0. 0. 0. 0. 0.\n",
      "  0. 0. 0. 0. 0. 0. 0. 0. 0. 0. 0. 0. 0. 0. 0. 0. 0. 0. 0. 0. 0. 0. 0. 0.\n",
      "  0. 0. 0. 0. 0. 0. 1. 0. 0.]\n",
      " [0. 0. 0. 0. 0. 1. 0. 0. 0. 0. 0. 0. 0. 0. 0. 0. 0. 0. 0. 0. 0. 0. 0. 0.\n",
      "  0. 0. 0. 0. 0. 0. 0. 0. 0. 0. 0. 0. 0. 0. 0. 0. 0. 0. 0. 0. 0. 0. 0. 0.\n",
      "  0. 0. 0. 0. 0. 0. 0. 1. 0.]\n",
      " [0. 0. 0. 0. 0. 1. 0. 0. 0. 0. 0. 0. 0. 0. 0. 0. 0. 0. 0. 0. 0. 0. 0. 0.\n",
      "  0. 0. 0. 0. 0. 0. 0. 0. 0. 0. 0. 0. 0. 0. 0. 0. 0. 0. 0. 0. 0. 0. 0. 0.\n",
      "  0. 0. 0. 0. 0. 0. 0. 0. 1.]]\n",
      "-------\n",
      "{'b': Array([0., 0., 0., 0., 0., 0., 0., 0., 0., 0., 0., 0., 0., 0., 0., 0., 0.,\n",
      "       0., 0., 0., 0., 0., 0., 0., 0., 0., 0., 0., 0., 0.], dtype=float64), 'w': Array([[ 1.03050123,  0.03846478, -0.03817497, ...,  0.05728476,\n",
      "         0.10200512, -0.0212004 ],\n",
      "       [ 0.08376533,  1.00073021,  0.03698269, ..., -0.02230669,\n",
      "        -0.16473783,  0.04609867],\n",
      "       [ 0.0960072 ,  0.07168721,  1.13316913, ...,  0.87626904,\n",
      "        -0.02069048, -0.07570053],\n",
      "       ...,\n",
      "       [ 0.04691514,  0.1377312 ,  0.07853908, ...,  1.07999989,\n",
      "         1.09430538,  1.03942143],\n",
      "       [ 0.09720434,  0.0582261 , -0.02922313, ..., -0.01855343,\n",
      "         0.23384166,  0.03096364],\n",
      "       [-0.14146966,  0.06416309,  0.0121748 , ...,  0.01427733,\n",
      "         0.13532074, -0.06098508]], dtype=float64)}\n"
     ]
    }
   ],
   "source": [
    "print(model.model.params[\"token_embed\"][\"embeddings\"])\n",
    "print(\"-------\")\n",
    "print(model.model.params[\"transformer/layer_0/mlp/linear_1\"])"
   ]
  },
  {
   "cell_type": "code",
   "execution_count": 9,
   "metadata": {},
   "outputs": [
    {
     "data": {
      "text/plain": [
       "['BOS', 4, 4, 2, 1, 1]"
      ]
     },
     "execution_count": 9,
     "metadata": {},
     "output_type": "execute_result"
    }
   ],
   "source": [
    "model.apply([\"BOS\", 3, 2, 5, 1, 4])"
   ]
  },
  {
   "cell_type": "code",
   "execution_count": 10,
   "metadata": {},
   "outputs": [
    {
     "data": {
      "text/plain": [
       "Array(0.00690755, dtype=float64)"
      ]
     },
     "execution_count": 10,
     "metadata": {},
     "output_type": "execute_result"
    }
   ],
   "source": [
    "model.fastEvaluateEncoded(X_train, Y_train)"
   ]
  },
  {
   "cell_type": "code",
   "execution_count": 11,
   "metadata": {},
   "outputs": [
    {
     "name": "stderr",
     "output_type": "stream",
     "text": [
      "100%|██████████████████████████████████████████████████████████████████| 1000/1000 [01:40<00:00, 10.00it/s]\n"
     ]
    },
    {
     "data": {
      "image/png": "[encoded data removed]",
      "text/plain": [
       "<Figure size 640x480 with 1 Axes>"
      ]
     },
     "metadata": {},
     "output_type": "display_data"
    },
    {
     "data": {
      "image/png": "[encoded data removed]",
      "text/plain": [
       "<Figure size 640x480 with 1 Axes>"
      ]
     },
     "metadata": {},
     "output_type": "display_data"
    }
   ],
   "source": [
    "_ = model.train(X_train, Y_train, n_epochs=1000, batch_size=256, lr=1e-4, plot=True, X_val=X_val, Y_val=Y_val, valStep=50)"
   ]
  },
  {
   "cell_type": "code",
   "execution_count": 12,
   "metadata": {},
   "outputs": [
    {
     "data": {
      "text/plain": [
       "Array(1., dtype=float64)"
      ]
     },
     "execution_count": 12,
     "metadata": {},
     "output_type": "execute_result"
    }
   ],
   "source": [
    "model.fastEvaluateEncoded(X_train, Y_train)"
   ]
  },
  {
   "cell_type": "code",
   "execution_count": 14,
   "metadata": {},
   "outputs": [
    {
     "data": {
      "text/plain": [
       "Array(0.95495495, dtype=float64)"
      ]
     },
     "execution_count": 14,
     "metadata": {},
     "output_type": "execute_result"
    }
   ],
   "source": [
    "model.fastEvaluateEncoded(X_val, Y_val)"
   ]
  },
  {
   "cell_type": "code",
   "execution_count": 15,
   "metadata": {},
   "outputs": [
    {
     "data": {
      "text/plain": [
       "['BOS', 1, 2, 3, 4, 5]"
      ]
     },
     "execution_count": 15,
     "metadata": {},
     "output_type": "execute_result"
    }
   ],
   "source": [
    "model.apply([\"BOS\", 3, 2, 5, 1, 4])"
   ]
  },
  {
   "cell_type": "code",
   "execution_count": 16,
   "metadata": {},
   "outputs": [],
   "source": [
    "buggy_model = generateBuggyModel(name, max_length)"
   ]
  },
  {
   "cell_type": "code",
   "execution_count": 17,
   "metadata": {},
   "outputs": [
    {
     "name": "stdout",
     "output_type": "stream",
     "text": [
      "[[0. 0. 0. 0. 0. 1. 0. 0. 0. 0. 0. 0. 0. 0. 0. 0. 0. 0. 0. 0. 0. 0. 0. 0.\n",
      "  0. 0. 0. 0. 0. 0. 0. 0. 0. 0. 0. 0. 0. 0. 0. 0. 0. 0. 0. 0. 0. 0. 0. 0.\n",
      "  0. 1. 0. 0. 0. 0. 0. 0. 0.]\n",
      " [0. 0. 0. 0. 0. 1. 0. 0. 0. 0. 0. 0. 0. 0. 0. 0. 0. 0. 0. 0. 0. 0. 0. 0.\n",
      "  0. 0. 0. 0. 0. 0. 0. 0. 0. 0. 0. 0. 0. 0. 0. 0. 0. 0. 0. 0. 0. 0. 0. 0.\n",
      "  0. 0. 1. 0. 0. 0. 0. 0. 0.]\n",
      " [0. 0. 0. 0. 0. 1. 0. 0. 0. 0. 0. 0. 0. 0. 0. 0. 0. 0. 0. 0. 0. 0. 0. 0.\n",
      "  0. 0. 0. 0. 0. 0. 0. 0. 0. 0. 0. 0. 0. 0. 0. 0. 0. 0. 0. 0. 0. 0. 0. 0.\n",
      "  0. 0. 0. 1. 0. 0. 0. 0. 0.]\n",
      " [0. 0. 0. 0. 0. 1. 0. 0. 0. 0. 0. 0. 0. 0. 0. 0. 0. 0. 0. 0. 0. 0. 0. 0.\n",
      "  0. 0. 0. 0. 0. 0. 0. 0. 0. 0. 0. 0. 0. 0. 0. 0. 0. 0. 0. 0. 0. 0. 0. 0.\n",
      "  0. 0. 0. 0. 1. 0. 0. 0. 0.]\n",
      " [0. 0. 0. 0. 0. 1. 0. 0. 0. 0. 0. 0. 0. 0. 0. 0. 0. 0. 0. 0. 0. 0. 0. 0.\n",
      "  0. 0. 0. 0. 0. 0. 0. 0. 0. 0. 0. 0. 0. 0. 0. 0. 0. 0. 0. 0. 0. 0. 0. 0.\n",
      "  0. 0. 0. 0. 0. 1. 0. 0. 0.]\n",
      " [0. 0. 0. 0. 0. 1. 0. 0. 0. 0. 0. 0. 0. 0. 0. 0. 0. 0. 0. 0. 0. 0. 0. 0.\n",
      "  0. 0. 0. 0. 0. 0. 0. 0. 0. 0. 0. 0. 0. 0. 0. 0. 0. 0. 0. 0. 0. 0. 0. 0.\n",
      "  0. 0. 0. 0. 0. 0. 1. 0. 0.]\n",
      " [0. 0. 0. 0. 0. 1. 0. 0. 0. 0. 0. 0. 0. 0. 0. 0. 0. 0. 0. 0. 0. 0. 0. 0.\n",
      "  0. 0. 0. 0. 0. 0. 0. 0. 0. 0. 0. 0. 0. 0. 0. 0. 0. 0. 0. 0. 0. 0. 0. 0.\n",
      "  0. 0. 0. 0. 0. 0. 0. 1. 0.]\n",
      " [0. 0. 0. 0. 0. 1. 0. 0. 0. 0. 0. 0. 0. 0. 0. 0. 0. 0. 0. 0. 0. 0. 0. 0.\n",
      "  0. 0. 0. 0. 0. 0. 0. 0. 0. 0. 0. 0. 0. 0. 0. 0. 0. 0. 0. 0. 0. 0. 0. 0.\n",
      "  0. 0. 0. 0. 0. 0. 0. 0. 1.]]\n",
      "-------\n",
      "{'b': Array([0., 0., 0., 0., 0., 0., 0., 0., 0., 0., 0., 0., 0., 0., 0., 0., 0.,\n",
      "       0., 0., 0., 0., 0., 0., 0., 0., 0., 0., 0., 0., 0.], dtype=float64), 'w': Array([[1., 0., 0., ..., 0., 0., 0.],\n",
      "       [0., 1., 0., ..., 0., 0., 0.],\n",
      "       [0., 0., 1., ..., 1., 0., 0.],\n",
      "       ...,\n",
      "       [0., 0., 0., ..., 1., 1., 1.],\n",
      "       [0., 0., 0., ..., 0., 0., 0.],\n",
      "       [0., 0., 0., ..., 0., 0., 0.]], dtype=float64)}\n"
     ]
    }
   ],
   "source": [
    "print(buggy_model.model.params[\"token_embed\"][\"embeddings\"])\n",
    "print(\"-------\")\n",
    "print(buggy_model.model.params[\"transformer/layer_0/mlp/linear_1\"])"
   ]
  },
  {
   "cell_type": "code",
   "execution_count": 18,
   "metadata": {},
   "outputs": [
    {
     "data": {
      "text/plain": [
       "['BOS', 5, 4, 3, 2, 1]"
      ]
     },
     "execution_count": 18,
     "metadata": {},
     "output_type": "execute_result"
    }
   ],
   "source": [
    "buggy_model.apply([\"BOS\", 3, 2, 5, 1, 4])"
   ]
  },
  {
   "cell_type": "code",
   "execution_count": 19,
   "metadata": {},
   "outputs": [
    {
     "data": {
      "text/plain": [
       "Array(0.00690755, dtype=float64)"
      ]
     },
     "execution_count": 19,
     "metadata": {},
     "output_type": "execute_result"
    }
   ],
   "source": [
    "buggy_model.fastEvaluateEncoded(X_train, Y_train)"
   ]
  },
  {
   "cell_type": "code",
   "execution_count": 24,
   "metadata": {},
   "outputs": [
    {
     "name": "stderr",
     "output_type": "stream",
     "text": [
      "  3%|█▋                                                             | 1344/50000 [02:07<1:17:05, 10.52it/s]\n"
     ]
    },
    {
     "ename": "KeyboardInterrupt",
     "evalue": "",
     "output_type": "error",
     "traceback": [
      "\u001b[0;31m---------------------------------------------------------------------------\u001b[0m",
      "\u001b[0;31mKeyboardInterrupt\u001b[0m                         Traceback (most recent call last)",
      "Cell \u001b[0;32mIn[24], line 1\u001b[0m\n\u001b[0;32m----> 1\u001b[0m _ \u001b[38;5;241m=\u001b[39m \u001b[43mbuggy_model\u001b[49m\u001b[38;5;241;43m.\u001b[39;49m\u001b[43mtrain\u001b[49m\u001b[43m(\u001b[49m\u001b[43mX_train\u001b[49m\u001b[43m,\u001b[49m\u001b[43m \u001b[49m\u001b[43mY_train\u001b[49m\u001b[43m,\u001b[49m\u001b[43m \u001b[49m\u001b[43mn_epochs\u001b[49m\u001b[38;5;241;43m=\u001b[39;49m\u001b[38;5;241;43m50000\u001b[39;49m\u001b[43m,\u001b[49m\u001b[43m \u001b[49m\u001b[43mbatch_size\u001b[49m\u001b[38;5;241;43m=\u001b[39;49m\u001b[38;5;241;43m256\u001b[39;49m\u001b[43m,\u001b[49m\u001b[43m \u001b[49m\u001b[43mlr\u001b[49m\u001b[38;5;241;43m=\u001b[39;49m\u001b[38;5;241;43m1e-4\u001b[39;49m\u001b[43m,\u001b[49m\u001b[43m \u001b[49m\u001b[43mplot\u001b[49m\u001b[38;5;241;43m=\u001b[39;49m\u001b[38;5;28;43;01mTrue\u001b[39;49;00m\u001b[43m,\u001b[49m\u001b[43m \u001b[49m\u001b[43mX_val\u001b[49m\u001b[38;5;241;43m=\u001b[39;49m\u001b[43mX_val\u001b[49m\u001b[43m,\u001b[49m\u001b[43m \u001b[49m\u001b[43mY_val\u001b[49m\u001b[38;5;241;43m=\u001b[39;49m\u001b[43mY_val\u001b[49m\u001b[43m,\u001b[49m\u001b[43m \u001b[49m\u001b[43mvalStep\u001b[49m\u001b[38;5;241;43m=\u001b[39;49m\u001b[38;5;241;43m50\u001b[39;49m\u001b[43m)\u001b[49m\n",
      "File \u001b[0;32m/proj/berzelius-2023-175/users/x_andaf/RASPing/src/model.py:336\u001b[0m, in \u001b[0;36mModel.train\u001b[0;34m(self, X_train, Y_train, n_epochs, batch_size, lr, plot, X_val, Y_val, valCount, valStep)\u001b[0m\n\u001b[1;32m    334\u001b[0m     x \u001b[38;5;241m=\u001b[39m X_train[i:i \u001b[38;5;241m+\u001b[39m batch_size]\n\u001b[1;32m    335\u001b[0m     y \u001b[38;5;241m=\u001b[39m Y_train[i:i \u001b[38;5;241m+\u001b[39m batch_size]\n\u001b[0;32m--> 336\u001b[0m     state, metric \u001b[38;5;241m=\u001b[39m \u001b[43mupdate\u001b[49m\u001b[43m(\u001b[49m\u001b[43mstate\u001b[49m\u001b[43m,\u001b[49m\u001b[43m \u001b[49m\u001b[43mx\u001b[49m\u001b[43m,\u001b[49m\u001b[43m \u001b[49m\u001b[43my\u001b[49m\u001b[43m,\u001b[49m\u001b[43m \u001b[49m\u001b[43mlr\u001b[49m\u001b[43m,\u001b[49m\u001b[43m \u001b[49m\u001b[43mpadToken\u001b[49m\u001b[43m)\u001b[49m\n\u001b[1;32m    338\u001b[0m metrics\u001b[38;5;241m.\u001b[39mappend(metric)\n\u001b[1;32m    340\u001b[0m \u001b[38;5;66;03m#Early stopping\u001b[39;00m\n",
      "File \u001b[0;32m/usr/local/lib/python3.11/site-packages/jax/_src/api.py:112\u001b[0m, in \u001b[0;36m_nan_check_posthook\u001b[0;34m(fun, args, kwargs, output)\u001b[0m\n\u001b[1;32m    109\u001b[0m     buffers\u001b[38;5;241m.\u001b[39mextend([shard\u001b[38;5;241m.\u001b[39mdata \u001b[38;5;28;01mfor\u001b[39;00m shard \u001b[38;5;129;01min\u001b[39;00m leaf\u001b[38;5;241m.\u001b[39maddressable_shards])\n\u001b[1;32m    111\u001b[0m \u001b[38;5;28;01mtry\u001b[39;00m:\n\u001b[0;32m--> 112\u001b[0m   \u001b[43mdispatch\u001b[49m\u001b[38;5;241;43m.\u001b[39;49m\u001b[43mcheck_special\u001b[49m\u001b[43m(\u001b[49m\u001b[43mpjit\u001b[49m\u001b[38;5;241;43m.\u001b[39;49m\u001b[43mpjit_p\u001b[49m\u001b[38;5;241;43m.\u001b[39;49m\u001b[43mname\u001b[49m\u001b[43m,\u001b[49m\u001b[43m \u001b[49m\u001b[43mbuffers\u001b[49m\u001b[43m)\u001b[49m\n\u001b[1;32m    113\u001b[0m \u001b[38;5;28;01mexcept\u001b[39;00m \u001b[38;5;167;01mFloatingPointError\u001b[39;00m:\n\u001b[1;32m    114\u001b[0m   \u001b[38;5;66;03m# compiled_fun can only raise in this case\u001b[39;00m\n\u001b[1;32m    115\u001b[0m   \u001b[38;5;28;01massert\u001b[39;00m config\u001b[38;5;241m.\u001b[39mdebug_nans\u001b[38;5;241m.\u001b[39mvalue \u001b[38;5;129;01mor\u001b[39;00m config\u001b[38;5;241m.\u001b[39mdebug_infs\u001b[38;5;241m.\u001b[39mvalue\n",
      "File \u001b[0;32m/usr/local/lib/python3.11/site-packages/jax/_src/dispatch.py:317\u001b[0m, in \u001b[0;36mcheck_special\u001b[0;34m(name, bufs)\u001b[0m\n\u001b[1;32m    315\u001b[0m \u001b[38;5;28;01mif\u001b[39;00m needs_check_special():\n\u001b[1;32m    316\u001b[0m   \u001b[38;5;28;01mfor\u001b[39;00m buf \u001b[38;5;129;01min\u001b[39;00m bufs:\n\u001b[0;32m--> 317\u001b[0m     \u001b[43m_check_special\u001b[49m\u001b[43m(\u001b[49m\u001b[43mname\u001b[49m\u001b[43m,\u001b[49m\u001b[43m \u001b[49m\u001b[43mbuf\u001b[49m\u001b[38;5;241;43m.\u001b[39;49m\u001b[43mdtype\u001b[49m\u001b[43m,\u001b[49m\u001b[43m \u001b[49m\u001b[43mbuf\u001b[49m\u001b[43m)\u001b[49m\n",
      "File \u001b[0;32m/usr/local/lib/python3.11/site-packages/jax/_src/dispatch.py:321\u001b[0m, in \u001b[0;36m_check_special\u001b[0;34m(name, dtype, buf)\u001b[0m\n\u001b[1;32m    319\u001b[0m \u001b[38;5;28;01mdef\u001b[39;00m \u001b[38;5;21m_check_special\u001b[39m(name: \u001b[38;5;28mstr\u001b[39m, dtype: np\u001b[38;5;241m.\u001b[39mdtype, buf: basearray\u001b[38;5;241m.\u001b[39mArray) \u001b[38;5;241m-\u001b[39m\u001b[38;5;241m>\u001b[39m \u001b[38;5;28;01mNone\u001b[39;00m:\n\u001b[1;32m    320\u001b[0m   \u001b[38;5;28;01mif\u001b[39;00m dtypes\u001b[38;5;241m.\u001b[39missubdtype(dtype, np\u001b[38;5;241m.\u001b[39minexact):\n\u001b[0;32m--> 321\u001b[0m     \u001b[38;5;28;01mif\u001b[39;00m config\u001b[38;5;241m.\u001b[39mdebug_nans\u001b[38;5;241m.\u001b[39mvalue \u001b[38;5;129;01mand\u001b[39;00m np\u001b[38;5;241m.\u001b[39many(np\u001b[38;5;241m.\u001b[39misnan(np\u001b[38;5;241m.\u001b[39masarray(buf))):\n\u001b[1;32m    322\u001b[0m       \u001b[38;5;28;01mraise\u001b[39;00m \u001b[38;5;167;01mFloatingPointError\u001b[39;00m(\u001b[38;5;124mf\u001b[39m\u001b[38;5;124m\"\u001b[39m\u001b[38;5;124minvalid value (nan) encountered in \u001b[39m\u001b[38;5;132;01m{\u001b[39;00mname\u001b[38;5;132;01m}\u001b[39;00m\u001b[38;5;124m\"\u001b[39m)\n\u001b[1;32m    323\u001b[0m     \u001b[38;5;28;01mif\u001b[39;00m config\u001b[38;5;241m.\u001b[39mdebug_infs\u001b[38;5;241m.\u001b[39mvalue \u001b[38;5;129;01mand\u001b[39;00m np\u001b[38;5;241m.\u001b[39many(np\u001b[38;5;241m.\u001b[39misinf(np\u001b[38;5;241m.\u001b[39masarray(buf))):\n",
      "File \u001b[0;32m/usr/local/lib/python3.11/site-packages/jax/_src/array.py:414\u001b[0m, in \u001b[0;36mArrayImpl.__array__\u001b[0;34m(self, dtype, context, copy)\u001b[0m\n\u001b[1;32m    411\u001b[0m \u001b[38;5;28;01mdef\u001b[39;00m \u001b[38;5;21m__array__\u001b[39m(\u001b[38;5;28mself\u001b[39m, dtype\u001b[38;5;241m=\u001b[39m\u001b[38;5;28;01mNone\u001b[39;00m, context\u001b[38;5;241m=\u001b[39m\u001b[38;5;28;01mNone\u001b[39;00m, copy\u001b[38;5;241m=\u001b[39m\u001b[38;5;28;01mNone\u001b[39;00m):\n\u001b[1;32m    412\u001b[0m   \u001b[38;5;66;03m# copy argument is supported by np.asarray starting in numpy 2.0\u001b[39;00m\n\u001b[1;32m    413\u001b[0m   kwds \u001b[38;5;241m=\u001b[39m {} \u001b[38;5;28;01mif\u001b[39;00m copy \u001b[38;5;129;01mis\u001b[39;00m \u001b[38;5;28;01mNone\u001b[39;00m \u001b[38;5;28;01melse\u001b[39;00m {\u001b[38;5;124m'\u001b[39m\u001b[38;5;124mcopy\u001b[39m\u001b[38;5;124m'\u001b[39m: copy}\n\u001b[0;32m--> 414\u001b[0m   \u001b[38;5;28;01mreturn\u001b[39;00m np\u001b[38;5;241m.\u001b[39masarray(\u001b[38;5;28;43mself\u001b[39;49m\u001b[38;5;241;43m.\u001b[39;49m\u001b[43m_value\u001b[49m, dtype\u001b[38;5;241m=\u001b[39mdtype, \u001b[38;5;241m*\u001b[39m\u001b[38;5;241m*\u001b[39mkwds)\n",
      "File \u001b[0;32m/usr/local/lib/python3.11/site-packages/jax/_src/profiler.py:336\u001b[0m, in \u001b[0;36mannotate_function.<locals>.wrapper\u001b[0;34m(*args, **kwargs)\u001b[0m\n\u001b[1;32m    333\u001b[0m \u001b[38;5;129m@wraps\u001b[39m(func)\n\u001b[1;32m    334\u001b[0m \u001b[38;5;28;01mdef\u001b[39;00m \u001b[38;5;21mwrapper\u001b[39m(\u001b[38;5;241m*\u001b[39margs, \u001b[38;5;241m*\u001b[39m\u001b[38;5;241m*\u001b[39mkwargs):\n\u001b[1;32m    335\u001b[0m   \u001b[38;5;28;01mwith\u001b[39;00m TraceAnnotation(name, \u001b[38;5;241m*\u001b[39m\u001b[38;5;241m*\u001b[39mdecorator_kwargs):\n\u001b[0;32m--> 336\u001b[0m     \u001b[38;5;28;01mreturn\u001b[39;00m \u001b[43mfunc\u001b[49m\u001b[43m(\u001b[49m\u001b[38;5;241;43m*\u001b[39;49m\u001b[43margs\u001b[49m\u001b[43m,\u001b[49m\u001b[43m \u001b[49m\u001b[38;5;241;43m*\u001b[39;49m\u001b[38;5;241;43m*\u001b[39;49m\u001b[43mkwargs\u001b[49m\u001b[43m)\u001b[49m\n\u001b[1;32m    337\u001b[0m   \u001b[38;5;28;01mreturn\u001b[39;00m wrapper\n",
      "File \u001b[0;32m/usr/local/lib/python3.11/site-packages/jax/_src/array.py:613\u001b[0m, in \u001b[0;36mArrayImpl._value\u001b[0;34m(self)\u001b[0m\n\u001b[1;32m    611\u001b[0m \u001b[38;5;28;01mif\u001b[39;00m \u001b[38;5;28mself\u001b[39m\u001b[38;5;241m.\u001b[39m_npy_value \u001b[38;5;129;01mis\u001b[39;00m \u001b[38;5;28;01mNone\u001b[39;00m:\n\u001b[1;32m    612\u001b[0m   \u001b[38;5;28;01mif\u001b[39;00m \u001b[38;5;28mself\u001b[39m\u001b[38;5;241m.\u001b[39mis_fully_replicated:\n\u001b[0;32m--> 613\u001b[0m     \u001b[38;5;28mself\u001b[39m\u001b[38;5;241m.\u001b[39m_npy_value \u001b[38;5;241m=\u001b[39m \u001b[38;5;28;43mself\u001b[39;49m\u001b[38;5;241;43m.\u001b[39;49m\u001b[43m_single_device_array_to_np_array\u001b[49m\u001b[43m(\u001b[49m\u001b[43m)\u001b[49m\n\u001b[1;32m    614\u001b[0m     \u001b[38;5;28mself\u001b[39m\u001b[38;5;241m.\u001b[39m_npy_value\u001b[38;5;241m.\u001b[39mflags\u001b[38;5;241m.\u001b[39mwriteable \u001b[38;5;241m=\u001b[39m \u001b[38;5;28;01mFalse\u001b[39;00m\n\u001b[1;32m    615\u001b[0m     \u001b[38;5;28;01mreturn\u001b[39;00m cast(np\u001b[38;5;241m.\u001b[39mndarray, \u001b[38;5;28mself\u001b[39m\u001b[38;5;241m.\u001b[39m_npy_value)\n",
      "\u001b[0;31mKeyboardInterrupt\u001b[0m: "
     ]
    }
   ],
   "source": [
    "_ = buggy_model.train(X_train, Y_train, n_epochs=50000, batch_size=256, lr=1e-4, plot=True, X_val=X_val, Y_val=Y_val, valStep=50)"
   ]
  },
  {
   "cell_type": "code",
   "execution_count": 21,
   "metadata": {},
   "outputs": [
    {
     "data": {
      "text/plain": [
       "['BOS', 1, 2, 3, 4, 6]"
      ]
     },
     "execution_count": 21,
     "metadata": {},
     "output_type": "execute_result"
    }
   ],
   "source": [
    "buggy_model.apply([\"BOS\", 3, 2, 5, 1, 4])"
   ]
  },
  {
   "cell_type": "code",
   "execution_count": 22,
   "metadata": {},
   "outputs": [
    {
     "data": {
      "text/plain": [
       "Array(0.42561105, dtype=float64)"
      ]
     },
     "execution_count": 22,
     "metadata": {},
     "output_type": "execute_result"
    }
   ],
   "source": [
    "buggy_model.fastEvaluateEncoded(X_train, Y_train)"
   ]
  },
  {
   "cell_type": "code",
   "execution_count": 23,
   "metadata": {},
   "outputs": [
    {
     "data": {
      "text/plain": [
       "Array(0.34834835, dtype=float64)"
      ]
     },
     "execution_count": 23,
     "metadata": {},
     "output_type": "execute_result"
    }
   ],
   "source": [
    "buggy_model.fastEvaluateEncoded(X_val, Y_val)"
   ]
  },
  {
   "cell_type": "code",
   "execution_count": 25,
   "metadata": {},
   "outputs": [],
   "source": [
    "model.setRandomWeights()"
   ]
  },
  {
   "cell_type": "code",
   "execution_count": 26,
   "metadata": {},
   "outputs": [
    {
     "name": "stdout",
     "output_type": "stream",
     "text": [
      "[[ 7.44233133e-02  1.19179456e-01  3.91548230e-02  7.20452745e-02\n",
      "   9.84131692e-02  8.45422535e-01  3.39673398e-02  5.06090018e-02\n",
      "   4.39220431e-02  4.20311819e-02  3.11566205e-02 -7.20091163e-04\n",
      "   1.93463445e-02  1.93835253e-02 -1.27797786e-02 -5.91361714e-03\n",
      "  -2.09963269e-02 -5.23910763e-02 -9.61424073e-02  2.91673596e-02\n",
      "   3.54682627e-02 -1.23062687e-01 -1.18051312e-01 -1.56224876e-01\n",
      "  -8.57479761e-02 -3.21423258e-02 -1.19947637e-01 -1.08196029e-01\n",
      "  -8.93325981e-02 -6.26522359e-02  8.68264315e-02 -1.05519145e-01\n",
      "  -1.30337721e-01 -9.00881608e-02 -1.06482689e-01  1.56332468e-01\n",
      "   4.42188005e-01 -2.26297084e-01 -1.32802988e-01 -1.77533249e-01\n",
      "  -1.92717513e-01 -1.65400273e-01  4.87502130e-02  2.71812026e-02\n",
      "  -1.82250207e-02 -3.58384180e-02 -4.27623780e-02 -4.37258863e-02\n",
      "  -1.85879305e-02  1.17518470e+00  1.46194122e-01 -4.69434803e-02\n",
      "  -4.78406823e-02 -1.61393149e-02 -5.53796033e-02 -2.21476150e-02\n",
      "   2.83227809e-01]\n",
      " [ 4.07701342e-02  1.83333068e-02  3.38124492e-02  2.46518196e-02\n",
      "   3.55988417e-02  9.64213983e-01  6.35987785e-03  4.57957681e-04\n",
      "   8.46668939e-03  4.72325778e-03  8.58520295e-03  1.60556184e-02\n",
      "   5.99902975e-03  3.03774528e-02  1.20466449e-02  1.37288371e-02\n",
      "  -5.67825885e-04 -4.08280918e-03 -9.52322467e-04  5.59682184e-03\n",
      "   5.81780058e-03 -1.04500255e-02 -1.78955553e-02 -1.33000191e-02\n",
      "  -9.71706927e-03  1.19429362e-03 -3.30406107e-02 -3.45418697e-02\n",
      "  -3.93920976e-02 -3.54834604e-02 -9.86221748e-04 -3.32058837e-02\n",
      "  -2.03893079e-02 -1.33634041e-02 -3.31583579e-02  3.74260513e-02\n",
      "  -2.98339467e-01  3.02691252e-01 -2.27886269e-01 -2.09727147e-01\n",
      "  -1.00384389e-01 -1.10033565e-01  7.04314902e-02  3.36304361e-02\n",
      "  -3.28347876e-02 -6.22630710e-02 -1.00825787e-01 -7.22939995e-02\n",
      "   6.74074120e-03  3.75165371e-02  1.05260040e+00  5.23024031e-02\n",
      "  -1.49383379e-02 -5.50951680e-02 -7.09664135e-02 -9.71860061e-02\n",
      "   1.71283684e-01]\n",
      " [-1.31532439e-03  2.17746578e-02  4.27266540e-03  1.68683632e-02\n",
      "   3.93821065e-02  9.71280865e-01 -1.68525426e-02 -1.78560484e-02\n",
      "  -1.29225360e-02 -1.01276680e-02 -1.25757612e-02  2.15718911e-03\n",
      "  -1.15578942e-02  9.84133413e-03 -1.10369206e-02 -8.08047576e-03\n",
      "  -4.22124270e-03 -1.27872389e-02 -4.99002263e-03 -6.43254290e-03\n",
      "   7.91149362e-04 -9.46411720e-03 -1.23274786e-02 -1.23981408e-02\n",
      "  -8.09830847e-03  2.27228916e-03 -1.80222379e-02 -2.18124558e-02\n",
      "  -2.32755136e-02 -1.97554165e-02 -1.04480557e-02 -2.45571895e-03\n",
      "  -8.06009061e-03 -6.35937744e-04 -6.64760153e-03 -4.19210717e-03\n",
      "  -2.81591924e-01 -1.77239418e-01  3.40269028e-01 -2.35560629e-01\n",
      "  -1.60837199e-01 -3.72073755e-02  3.41974244e-02  2.42303829e-02\n",
      "   2.00838468e-02 -6.68823324e-02 -7.25449140e-02  1.53201771e-02\n",
      "   1.28154135e-02 -1.10428083e-03  5.13668997e-02  1.04508485e+00\n",
      "   2.44269262e-02 -7.69304633e-02 -3.78200504e-02 -2.75344642e-02\n",
      "   8.20127395e-02]\n",
      " [-2.68859634e-05  8.87082277e-03  6.18026287e-03  1.99262130e-02\n",
      "   4.43807289e-02  9.82524270e-01  8.29335419e-03  3.73800532e-03\n",
      "   6.03289857e-03  7.49437127e-03 -2.71023400e-03  5.99971086e-03\n",
      "   5.40552909e-03  1.80336636e-02  5.60494483e-03 -1.51177854e-03\n",
      "  -5.27753775e-03 -6.84687202e-03 -1.21578372e-03 -3.64622734e-03\n",
      "   2.01632158e-03 -3.11804517e-03 -1.39706062e-03 -4.96528856e-03\n",
      "  -1.78977935e-03  3.99591114e-03 -9.99438162e-03 -5.42178111e-03\n",
      "  -5.68920369e-03 -4.60440585e-03  2.30329432e-03 -8.28276289e-03\n",
      "  -1.06417517e-02 -6.90007442e-03 -5.63553247e-03 -8.39951699e-03\n",
      "  -2.85831721e-01 -1.90248306e-01 -1.80594200e-01  3.93387061e-01\n",
      "  -1.27751525e-01  6.77935616e-03 -1.08100861e-02 -1.06291490e-02\n",
      "   1.84724372e-02 -2.97713522e-02 -6.68107021e-02  4.87321541e-02\n",
      "   1.33103859e-02 -6.22033633e-03  1.46522321e-02  3.29865722e-02\n",
      "   1.02747489e+00 -1.76159036e-02 -1.30924419e-02 -2.81818720e-02\n",
      "   6.56971456e-02]\n",
      " [-1.47743132e-03  7.02458957e-03  2.29850285e-02 -1.18679601e-02\n",
      "   4.80300510e-02  9.86378420e-01 -1.77776904e-02 -8.26070785e-03\n",
      "  -1.86246380e-02 -1.89151797e-02 -1.51463243e-02 -1.07710755e-02\n",
      "  -8.40036362e-03 -9.19860566e-03 -3.38343419e-03 -8.57886459e-03\n",
      "  -6.85722163e-03 -1.76807831e-05 -7.66122182e-03 -2.99676640e-03\n",
      "  -2.39293527e-03 -2.04353387e-03 -1.31023956e-03 -2.56258455e-04\n",
      "  -7.36127980e-03 -1.20881568e-02 -3.88778305e-03 -3.21333471e-03\n",
      "  -3.58946388e-03 -4.44762046e-03 -1.75792639e-03 -1.04846416e-02\n",
      "  -8.21795853e-03 -1.20771838e-02 -1.92620008e-02 -4.25280404e-03\n",
      "  -1.19535519e-01  2.09975053e-02 -1.07219746e-01 -1.07515022e-01\n",
      "   3.10229725e-01  9.38498815e-02 -3.13003925e-02 -4.27857769e-02\n",
      "   3.05863937e-02 -3.98570540e-03  8.14145524e-02  9.36557588e-02\n",
      "   1.84622210e-02 -2.48836962e-02 -3.00215019e-03  6.83991825e-03\n",
      "   2.98947532e-02  1.01995393e+00  3.68300677e-03  3.69404979e-03\n",
      "  -5.53714363e-02]\n",
      " [ 7.78047951e-03 -4.01290091e-03  1.64879697e-03  2.81709201e-03\n",
      "   2.39693193e-02  9.98104191e-01 -6.21047854e-03 -1.97285805e-02\n",
      "  -6.20575159e-03 -9.02254143e-03 -1.36341041e-03  4.15971566e-03\n",
      "  -8.33321340e-03  1.09745813e-02  3.44731049e-03  2.92130632e-03\n",
      "   1.08390101e-03 -1.10934968e-02 -5.62762840e-03 -1.02323065e-02\n",
      "  -1.01894020e-02 -2.27238193e-03  2.56558458e-03  2.85108464e-03\n",
      "   6.18032369e-03  7.20303217e-03  1.56625914e-02  1.52978443e-02\n",
      "   1.36556448e-02  1.73645189e-02  7.76141591e-04  6.31996487e-03\n",
      "   4.01063848e-03  3.62254879e-03  5.60459615e-03 -2.46918276e-05\n",
      "  -3.46642158e-02 -7.51729709e-02  8.44737603e-02  7.96496987e-03\n",
      "  -9.83533591e-02  2.08973208e-01 -2.75717517e-02 -2.99306680e-02\n",
      "  -6.49201490e-04  9.36163183e-02  9.14922271e-02  2.30655034e-03\n",
      "  -4.21593888e-02 -2.22421350e-02 -1.86155128e-02 -3.32295924e-02\n",
      "  -3.56642558e-03  2.66067137e-02  1.01061529e+00  2.85919356e-04\n",
      "  -4.79509709e-02]\n",
      " [ 2.19246219e-03  7.34467641e-03 -1.08877108e-02 -5.66142961e-03\n",
      "  -7.62450572e-03  9.65865722e-01 -7.66959280e-03  1.47597835e-03\n",
      "  -5.04816945e-03 -1.68791938e-04  6.61320377e-03  9.53851737e-04\n",
      "  -7.29404868e-04 -1.02489792e-02 -1.79921216e-03  4.10875106e-04\n",
      "   1.30057577e-03 -4.08965073e-04 -1.11402698e-03 -1.13431205e-03\n",
      "  -1.09611606e-04  2.99490576e-03  2.35381741e-03  2.98036771e-03\n",
      "   4.33028726e-03  1.60602297e-03  4.49260811e-03  1.23151223e-03\n",
      "   4.57129062e-04  1.62295189e-03  3.43046785e-03  2.88667586e-03\n",
      "   2.85602947e-03  3.78958480e-03  5.69517554e-03  5.99749546e-03\n",
      "   4.28878307e-03 -2.12246010e-02  1.27745394e-02  1.35391243e-02\n",
      "  -4.78980337e-03 -2.46393581e-02 -2.09690849e-03 -3.54941889e-02\n",
      "  -1.28960298e-02  1.18273101e-02  2.56283364e-02  4.30493087e-03\n",
      "  -5.92578137e-02  2.97767047e-02 -2.83992805e-02 -9.09522663e-03\n",
      "   4.26319531e-02  1.81562074e-02 -1.66843571e-02  1.00344090e+00\n",
      "  -9.46215951e-03]\n",
      " [ 4.27264978e-02  5.42346077e-02  2.82744745e-02  8.21838630e-03\n",
      "   4.78703602e-02  1.04908706e+00  4.94995343e-02  4.60152361e-02\n",
      "   4.27646202e-02  4.26847305e-02  4.57122538e-02 -1.75677781e-02\n",
      "   2.98870377e-02 -2.03244097e-02 -1.10174799e-02  5.23286745e-02\n",
      "   2.89302394e-02  7.64743245e-03  2.12150688e-02  3.74126610e-02\n",
      "  -3.59164329e-02  4.93163231e-02  2.87533157e-02  3.59048753e-02\n",
      "  -6.05063445e-03  1.61431591e-02 -1.97353772e-02 -1.43189589e-02\n",
      "  -3.50263341e-02 -3.04191613e-02 -5.31231589e-02 -3.71268218e-02\n",
      "  -2.16844924e-02 -5.16755255e-02 -4.11580214e-02 -9.07264974e-02\n",
      "   4.50656189e-02 -1.34178960e-03  8.57718353e-02  8.69961103e-02\n",
      "   6.00176867e-02  1.52229691e-02 -8.92714880e-03  8.51221206e-03\n",
      "   1.52371029e-02  5.33597974e-02  1.60104323e-02  5.99704673e-02\n",
      "  -2.55127072e-02 -4.46869230e-02 -7.62900909e-03  1.67276024e-02\n",
      "   1.78634627e-02  6.80317819e-03  1.54314157e-02 -4.21610441e-03\n",
      "   1.04113308e+00]]\n",
      "-------\n",
      "{'b': Array([ 0.00679775,  0.00021126,  0.00766736, -0.00248172,  0.00499552,\n",
      "        0.00546734,  0.01132655,  0.02423343,  0.00445201,  0.02139936,\n",
      "        0.00161764,  0.03194798,  0.01717881,  0.01121024,  0.01305078,\n",
      "        0.01766396,  0.02008517,  0.00770191,  0.00728395,  0.01228528,\n",
      "        0.00620473,  0.00764761,  0.00175333,  0.01782126,  0.01282827,\n",
      "        0.00400552, -0.00027947,  0.00653768,  0.00567112,  0.01477533],      dtype=float64), 'w': Array([[ 1.00060282e+00,  6.94738159e-02,  1.43664799e-01, ...,\n",
      "        -7.73285406e-03, -4.81580327e-04, -2.69106967e-02],\n",
      "       [-2.74548104e-02,  1.01314562e+00,  7.02687975e-02, ...,\n",
      "         6.27534243e-03,  1.67728452e-03,  2.64320978e-03],\n",
      "       [ 7.66571854e-02, -3.10407087e-02,  1.00447181e+00, ...,\n",
      "         1.01163001e+00, -5.95468122e-03, -1.82563044e-02],\n",
      "       ...,\n",
      "       [-1.80612950e-02, -2.74083864e-02, -5.02883266e-02, ...,\n",
      "         1.00562441e+00,  1.00091369e+00,  9.99884967e-01],\n",
      "       [-1.22514373e-01, -7.96782616e-02, -5.90992746e-02, ...,\n",
      "         2.54780562e-02,  3.61021228e-03, -3.42608245e-02],\n",
      "       [ 2.03063568e-01,  1.31496654e-01,  8.32468581e-02, ...,\n",
      "         1.03446964e-01,  1.42132418e-01, -1.10472237e-01]],      dtype=float64)}\n"
     ]
    }
   ],
   "source": [
    "print(buggy_model.model.params[\"token_embed\"][\"embeddings\"])\n",
    "print(\"-------\")\n",
    "print(buggy_model.model.params[\"transformer/layer_0/mlp/linear_1\"])"
   ]
  },
  {
   "cell_type": "code",
   "execution_count": 28,
   "metadata": {},
   "outputs": [
    {
     "data": {
      "text/plain": [
       "Array(0.0010627, dtype=float64)"
      ]
     },
     "execution_count": 28,
     "metadata": {},
     "output_type": "execute_result"
    }
   ],
   "source": [
    "model.fastEvaluateEncoded(X_train, Y_train)"
   ]
  },
  {
   "cell_type": "code",
   "execution_count": 29,
   "metadata": {},
   "outputs": [
    {
     "name": "stderr",
     "output_type": "stream",
     "text": [
      "100%|██████████████████████████████████████████████████████████████████| 1000/1000 [01:33<00:00, 10.71it/s]\n"
     ]
    },
    {
     "data": {
      "image/png": "[encoded data removed]",
      "text/plain": [
       "<Figure size 640x480 with 1 Axes>"
      ]
     },
     "metadata": {},
     "output_type": "display_data"
    },
    {
     "data": {
      "image/png": "[encoded data removed]",
      "text/plain": [
       "<Figure size 640x480 with 1 Axes>"
      ]
     },
     "metadata": {},
     "output_type": "display_data"
    }
   ],
   "source": [
    "_ = model.train(X_train, Y_train, n_epochs=1000, batch_size=256, lr=1e-4, plot=True, X_val=X_val, Y_val=Y_val, valStep=50)"
   ]
  },
  {
   "cell_type": "code",
   "execution_count": 30,
   "metadata": {},
   "outputs": [
    {
     "data": {
      "text/plain": [
       "Array(0.003003, dtype=float64)"
      ]
     },
     "execution_count": 30,
     "metadata": {},
     "output_type": "execute_result"
    }
   ],
   "source": [
    "model.fastEvaluateEncoded(X_val, Y_val)"
   ]
  },
  {
   "cell_type": "code",
   "execution_count": null,
   "metadata": {},
   "outputs": [],
   "source": []
  }
 ],
 "metadata": {
  "kernelspec": {
   "display_name": "Python 3 (ipykernel)",
   "language": "python",
   "name": "python3"
  },
  "language_info": {
   "codemirror_mode": {
    "name": "ipython",
    "version": 3
   },
   "file_extension": ".py",
   "mimetype": "text/x-python",
   "name": "python",
   "nbconvert_exporter": "python",
   "pygments_lexer": "ipython3",
   "version": "3.11.5"
  }
 },
 "nbformat": 4,
 "nbformat_minor": 4
}

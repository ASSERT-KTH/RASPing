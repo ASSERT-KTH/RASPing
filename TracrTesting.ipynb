{
 "cells": [
  {
   "cell_type": "code",
   "execution_count": 1,
   "metadata": {},
   "outputs": [],
   "source": [
    "import jax\n",
    "import numpy as np\n",
    "import matplotlib.pyplot as plt\n",
    "\n",
    "# The default of float16 can lead to discrepancies between outputs of\n",
    "# the compiled model and the RASP program.\n",
    "jax.config.update('jax_default_matmul_precision', 'float32')\n",
    "\n",
    "from tracr.compiler import compiling\n",
    "from tracr.compiler import lib\n",
    "from tracr.rasp import rasp"
   ]
  },
  {
   "cell_type": "code",
   "execution_count": 2,
   "metadata": {},
   "outputs": [],
   "source": [
    "#Plotting functions taken from the Tracr repo \n",
    "\n",
    "#@title Plotting functions\n",
    "def tidy_label(label, value_width=5):\n",
    "  if ':' in label:\n",
    "    label, value = label.split(':')\n",
    "  else:\n",
    "    value = ''\n",
    "  return label + f\":{value:>{value_width}}\"\n",
    "\n",
    "\n",
    "def add_residual_ticks(model, value_width=5, x=False, y=True):\n",
    "  if y:\n",
    "    plt.yticks(\n",
    "            np.arange(len(model.residual_labels))+0.5, \n",
    "            [tidy_label(l, value_width=value_width)\n",
    "              for l in model.residual_labels], \n",
    "            family='monospace',\n",
    "            fontsize=20,\n",
    "    )\n",
    "  if x:\n",
    "    plt.xticks(\n",
    "            np.arange(len(model.residual_labels))+0.5, \n",
    "            [tidy_label(l, value_width=value_width)\n",
    "              for l in model.residual_labels], \n",
    "            family='monospace',\n",
    "            rotation=90,\n",
    "            fontsize=20,\n",
    "    )\n",
    "\n",
    "\n",
    "def plot_computation_trace(model,\n",
    "                           input_labels,\n",
    "                           residuals_or_outputs,\n",
    "                           add_input_layer=False,\n",
    "                           figsize=(12, 9)):\n",
    "  fig, axes = plt.subplots(nrows=1, ncols=len(residuals_or_outputs), figsize=figsize, sharey=True)\n",
    "  value_width = max(map(len, map(str, input_labels))) + 1\n",
    "\n",
    "  for i, (layer, ax) in enumerate(zip(residuals_or_outputs, axes)):\n",
    "    plt.sca(ax)\n",
    "    plt.pcolormesh(layer[0].T, vmin=0, vmax=1)\n",
    "    if i == 0:\n",
    "      add_residual_ticks(model, value_width=value_width)\n",
    "    plt.xticks(\n",
    "        np.arange(len(input_labels))+0.5,\n",
    "        input_labels,\n",
    "        rotation=90,\n",
    "        fontsize=20,\n",
    "    )\n",
    "    if add_input_layer and i == 0:\n",
    "      title = 'Input'\n",
    "    else:\n",
    "      layer_no = i - 1 if add_input_layer else i\n",
    "      layer_type = 'Attn' if layer_no % 2 == 0 else 'MLP'\n",
    "      title = f'{layer_type} {layer_no // 2 + 1}'\n",
    "    plt.title(title, fontsize=20)\n",
    "\n",
    "\n",
    "def plot_residuals_and_input(model, inputs, figsize=(12, 9)):\n",
    "  \"\"\"Applies model to inputs, and plots the residual stream at each layer.\"\"\"\n",
    "  model_out = model.apply(inputs)\n",
    "  residuals = np.concatenate([model_out.input_embeddings[None, ...],\n",
    "                              model_out.residuals], axis=0)\n",
    "  plot_computation_trace(\n",
    "      model=model,\n",
    "      input_labels=inputs,\n",
    "      residuals_or_outputs=residuals,\n",
    "      add_input_layer=True,\n",
    "      figsize=figsize)\n",
    "\n",
    "\n",
    "def plot_layer_outputs(model, inputs, figsize=(12, 9)):\n",
    "  \"\"\"Applies model to inputs, and plots the outputs of each layer.\"\"\"\n",
    "  model_out = model.apply(inputs)\n",
    "  plot_computation_trace(\n",
    "      model=model,\n",
    "      input_labels=inputs,\n",
    "      residuals_or_outputs=model_out.layer_outputs,\n",
    "      add_input_layer=False,\n",
    "      figsize=figsize)"
   ]
  },
  {
   "cell_type": "markdown",
   "metadata": {},
   "source": [
    "## Basic Testing"
   ]
  },
  {
   "cell_type": "code",
   "execution_count": 3,
   "metadata": {},
   "outputs": [],
   "source": [
    "#Return the input in reverse\n",
    "def reverse() -> rasp.SOp:\n",
    "    length = lib.make_length()\n",
    "    opp_index = length - rasp.indices - 1\n",
    "    flip = rasp.Select(rasp.indices, opp_index, rasp.Comparison.EQ)\n",
    "    return rasp.Aggregate(flip, rasp.tokens)\n",
    "\n",
    "reverse_model = compiling.compile_rasp_to_model(reverse(), {0,1,2,3,4}, 7, compiler_bos=\"BOS\")\n",
    "\n",
    "#Model length does not include bos token"
   ]
  },
  {
   "cell_type": "code",
   "execution_count": 4,
   "metadata": {},
   "outputs": [
    {
     "name": "stdout",
     "output_type": "stream",
     "text": [
      "['BOS', 1, 0, 0, 0, 3, 4, 1]\n"
     ]
    }
   ],
   "source": [
    "reverese_output = reverse_model.apply([\"BOS\",1,4,3,0,0,0,1])\n",
    "print(reverese_output.decoded)\n",
    "#reverese_output.attn_logits\n",
    "#reverese_output.input_embeddings\n",
    "#reverese_output.layer_outputs\n",
    "#reverese_output.residuals"
   ]
  },
  {
   "cell_type": "code",
   "execution_count": 14,
   "metadata": {},
   "outputs": [
    {
     "name": "stdout",
     "output_type": "stream",
     "text": [
      "['BOS', 4, 4, 3, 5]\n",
      "['BOS', 4, 4, 3, 5]\n"
     ]
    }
   ],
   "source": [
    "#Testing atoi and adding indices to input\n",
    "\n",
    "#If atoi is used all inputs need to be str\n",
    "def atoi() -> rasp.SOp:\n",
    "    return rasp.Map(lambda x: ord(x)-ord(\"0\"), rasp.tokens)\n",
    "\n",
    "def addIndicesAtoi() -> rasp.SOp:\n",
    "    return rasp.indices + atoi()\n",
    "\n",
    "def addIndices() -> rasp.SOp:\n",
    "    #return rasp.indices + atoi()\n",
    "    return rasp.indices + rasp.tokens\n",
    "\n",
    "addIndicesModel = compiling.compile_rasp_to_model(addIndicesAtoi(), {\"0\",\"1\",\"2\",\"3\",\"4\",\"+\"}, 5, compiler_bos=\"BOS\")\n",
    "print(addIndicesModel.apply([\"BOS\", \"4\",\"3\",\"1\",\"2\"]).decoded)\n",
    "#Gives output as int even though it does not accept int as input\n",
    "#Aka can give ouputs not specified in input domain (At least numeric)\n",
    "\n",
    "addIndicesModel = compiling.compile_rasp_to_model(addIndices(), {1,2,3,4}, 5, compiler_bos=\"BOS\")\n",
    "print(addIndicesModel.apply([\"BOS\", 4,3,1,2]).decoded)\n",
    "\n",
    "#addIndicesModel = compiling.compile_rasp_to_model(addIndices(), {\"0\",\"1\",\"2\",\"3\",\"4\",\"+\",0}, 5, compiler_bos=\"BOS\")    \n",
    "#Will not compile due to to compiler failing to compare number with str in atoi (during feasibility check?)"
   ]
  },
  {
   "cell_type": "markdown",
   "metadata": {},
   "source": [
    "## Trying to create addition model based on my RASPy implementation"
   ]
  },
  {
   "cell_type": "code",
   "execution_count": 22,
   "metadata": {},
   "outputs": [
    {
     "name": "stdout",
     "output_type": "stream",
     "text": [
      "['BOS', '+', '+', '1', '3', '+']\n"
     ]
    }
   ],
   "source": [
    "#Since the default does not work in a useful way I made my own version\n",
    "def defaultAggregate(sel: rasp.Selector, value: rasp.SOp, default=\"_\") -> rasp.SOp:\n",
    "    length = lib.make_length().named(\"length\")\n",
    "    ones = rasp.numerical(rasp.Map(lambda x: 1, length)).named(\"ones\")\n",
    "    aggInd = rasp.numerical(rasp.Aggregate(sel, ones, default=0)).named(\"aggInd\")\n",
    "    #Need to be categorical as SequenceMap only need both SOp to be same class\n",
    "    #There seem to be major misscalculations in the actual value of aggInd since x>0.1 gives false results\n",
    "    #   will likely lead to major bugs at some point (:\n",
    "    aggIndCat = rasp.Map(lambda x: x > 0.5, aggInd).named(\"aggIndCat\")\n",
    "    baseAgg = rasp.Aggregate(sel, value).named(\"baseAgg\")\n",
    "    return rasp.SequenceMap(lambda x,y: y if x == True else default, aggIndCat, baseAgg)\n",
    "\n",
    "def shift(i=1, default=\"_\") -> rasp.SOp:\n",
    "    indShift = (rasp.indices + i).named(\"indShift\")\n",
    "    shiftMask = rasp.Select(indShift, rasp.indices, rasp.Comparison.EQ).named(\"shiftMask\")  \n",
    "    #Implement manual default since Tracr does not seem to allow custom default tokens\n",
    "    return defaultAggregate(shiftMask, rasp.tokens).named(\"shift\")\n",
    "\n",
    "    #A more efficient version which they use in rasp.lib\n",
    "    #Circumvents the extra mlp (indShift) by adding directly in the Select function logic\n",
    "    select_off_by_offset = rasp.Select(rasp.indices, rasp.indices,\n",
    "                                        lambda k, q: q == k + offset)\n",
    "    out = rasp.Aggregate(select_off_by_offset, sop, default=None)\n",
    "    return out.named(f\"shift_by({offset})\")\n",
    "\n",
    "#Testing\n",
    "shiftModel = compiling.compile_rasp_to_model(shift(2), {\"0\",\"1\",\"2\",\"3\",\"4\",\"+\",\"_\"}, 5, compiler_bos=\"BOS\")\n",
    "#shiftModel = compiling.compile_rasp_to_model(shift(2), {\"0\",\"1\",\"2\",\"3\",\"4\",\"+\"}, 5, compiler_bos=\"BOS\") #default,\"_\", needs to be included in the allowed input in order to be encoded correctly\n",
    "model = shiftModel\n",
    "input = [\"BOS\",\"1\",\"3\",\"+\",\"4\",\"2\"]\n",
    "print(model.apply(input).decoded)\n",
    "\n",
    "#plot_residuals_and_input(model=model, inputs=input, figsize=(10, 15))\n",
    "\n",
    "#plot_layer_outputs(model=model, inputs=input, figsize=(10, 9))"
   ]
  },
  {
   "cell_type": "code",
   "execution_count": 7,
   "metadata": {},
   "outputs": [
    {
     "name": "stdout",
     "output_type": "stream",
     "text": [
      "['BOS', 6.676483943880793e-15, 0.5, 0.3333333432674408, 0.25, 0.4000000059604645, 0.3333333432674408]\n"
     ]
    }
   ],
   "source": [
    "\n",
    "#detect_pattern(tokens, \"abc\")(\"abcabc\") == [None, None, T, F, F, T]\n",
    "\n",
    "tempModel = compiling.compile_rasp_to_model(lib.make_frac_prevs(rasp.tokens==\"b\"), {\"a\", \"b\", \"c\",\"True\",\"False\"}, 7, compiler_bos=\"BOS\")\n",
    "model = tempModel\n",
    "input = [\"BOS\", \"a\", \"b\", \"c\", \"a\", \"b\", \"c\"]\n",
    "print(model.apply(input).decoded)"
   ]
  },
  {
   "cell_type": "code",
   "execution_count": 8,
   "metadata": {},
   "outputs": [
    {
     "name": "stdout",
     "output_type": "stream",
     "text": [
      "['BOS', 1.0, 1.0, 0.5, 0.5, 0.3333333333333333, 0.5, 0.5, 0.5]\n"
     ]
    }
   ],
   "source": [
    "#cumulative sum of a boolean input\n",
    "def cumsum(boolean: rasp.SOp) -> rasp.SOp:\n",
    "    ints = rasp.numerical(boolean)\n",
    "    cumsumSel = rasp.Select(rasp.indices, rasp.indices, rasp.Comparison.LEQ).named(\"cumsumSel\")\n",
    "    #return rasp.numerical(rasp.Map(lambda x: x, sop))\n",
    "    #return rasp.numerical(rasp.Aggregate(cumsumSel, ints, default=0))\n",
    "    cumsumFrac = rasp.numerical(rasp.Aggregate(cumsumSel, ints, default=0)).named(\"cumsumFrac\")\n",
    "    cumsumFracCat = rasp.Map(lambda x: x, cumsumFrac)       #This warps the results severely, seems to round down but unclear how much\n",
    "    return cumsumFracCat\n",
    "    return cumsumFracCat * (1 + rasp.indices)\n",
    "    return rasp.SequenceMap(lambda x, y: x * y, cumsumFracCat, rasp.Map(lambda x: x+1,rasp.indices))\n",
    "    return (cumsumFrac * (rasp.indices+1)).named(\"cumsum\")\n",
    "\n",
    "#cumsumModel = compiling.compile_rasp_to_model(cumsum(), {\"0\",\"1\",\"2\",\"3\",\"4\",\"T\",\"F\"}, 5, compiler_bos=\"BOS\")\n",
    "cumsumModel = compiling.compile_rasp_to_model(cumsum(rasp.tokens == \"<\"), {\"<\",\"x\",\"h\",\"y\",\"l\"}, 8, compiler_bos=\"BOS\")\n",
    "model = cumsumModel\n",
    "input = [\"BOS\", \"<\",\"<\",\"x\",\"h\",\"y\",\"<\",\"<\",\"l\"]\n",
    "print(model.apply(input).decoded)\n",
    "\n",
    "#plot_residuals_and_input(model=model, inputs=input, figsize=(10, 15))"
   ]
  },
  {
   "cell_type": "code",
   "execution_count": 9,
   "metadata": {},
   "outputs": [
    {
     "ename": "NotImplementedError",
     "evalue": "('Attention patterns can currently only average binary variables. Not:', {0, 40, 10, 20, 30})",
     "output_type": "error",
     "traceback": [
      "\u001b[1;31m---------------------------------------------------------------------------\u001b[0m",
      "\u001b[1;31mNotImplementedError\u001b[0m                       Traceback (most recent call last)",
      "Cell \u001b[1;32mIn[9], line 6\u001b[0m\n\u001b[0;32m      3\u001b[0m     \u001b[38;5;28minput\u001b[39m \u001b[38;5;241m=\u001b[39m rasp\u001b[38;5;241m.\u001b[39mnumerical(rasp\u001b[38;5;241m.\u001b[39mtokens\u001b[38;5;241m*\u001b[39m\u001b[38;5;241m1\u001b[39m)\n\u001b[0;32m      4\u001b[0m     \u001b[38;5;28;01mreturn\u001b[39;00m rasp\u001b[38;5;241m.\u001b[39mnumerical(rasp\u001b[38;5;241m.\u001b[39mAggregate(sel, rasp\u001b[38;5;241m.\u001b[39mnumerical(rasp\u001b[38;5;241m.\u001b[39mindices\u001b[38;5;241m*\u001b[39m\u001b[38;5;241m10\u001b[39m), default\u001b[38;5;241m=\u001b[39m\u001b[38;5;241m0\u001b[39m))\n\u001b[1;32m----> 6\u001b[0m tempModel \u001b[38;5;241m=\u001b[39m \u001b[43mcompiling\u001b[49m\u001b[38;5;241;43m.\u001b[39;49m\u001b[43mcompile_rasp_to_model\u001b[49m\u001b[43m(\u001b[49m\u001b[43mtest\u001b[49m\u001b[43m(\u001b[49m\u001b[43m)\u001b[49m\u001b[43m,\u001b[49m\u001b[43m \u001b[49m\u001b[43m{\u001b[49m\u001b[38;5;241;43m0\u001b[39;49m\u001b[43m,\u001b[49m\u001b[38;5;241;43m1\u001b[39;49m\u001b[43m,\u001b[49m\u001b[38;5;241;43m2\u001b[39;49m\u001b[43m,\u001b[49m\u001b[38;5;241;43m3\u001b[39;49m\u001b[43m,\u001b[49m\u001b[38;5;241;43m4\u001b[39;49m\u001b[43m,\u001b[49m\u001b[38;5;241;43m5\u001b[39;49m\u001b[43m}\u001b[49m\u001b[43m,\u001b[49m\u001b[43m \u001b[49m\u001b[38;5;241;43m5\u001b[39;49m\u001b[43m,\u001b[49m\u001b[43m \u001b[49m\u001b[43mcompiler_bos\u001b[49m\u001b[38;5;241;43m=\u001b[39;49m\u001b[38;5;124;43m\"\u001b[39;49m\u001b[38;5;124;43mBOS\u001b[39;49m\u001b[38;5;124;43m\"\u001b[39;49m\u001b[43m)\u001b[49m\n\u001b[0;32m      7\u001b[0m model \u001b[38;5;241m=\u001b[39m tempModel\n\u001b[0;32m      8\u001b[0m \u001b[38;5;28minput\u001b[39m \u001b[38;5;241m=\u001b[39m [\u001b[38;5;124m\"\u001b[39m\u001b[38;5;124mBOS\u001b[39m\u001b[38;5;124m\"\u001b[39m, \u001b[38;5;241m3\u001b[39m,\u001b[38;5;241m1\u001b[39m,\u001b[38;5;241m2\u001b[39m,\u001b[38;5;241m4\u001b[39m,\u001b[38;5;241m1\u001b[39m]\n",
      "File \u001b[1;32mc:\\Users\\00tho\\anaconda3\\envs\\RASP\\Lib\\site-packages\\tracr\\compiler\\compiling.py:100\u001b[0m, in \u001b[0;36mcompile_rasp_to_model\u001b[1;34m(program, vocab, max_seq_len, causal, compiler_bos, compiler_pad, mlp_exactness)\u001b[0m\n\u001b[0;32m     97\u001b[0m extracted \u001b[38;5;241m=\u001b[39m rasp_to_graph\u001b[38;5;241m.\u001b[39mextract_rasp_graph(program)\n\u001b[0;32m     98\u001b[0m graph, sources, sink \u001b[38;5;241m=\u001b[39m extracted\u001b[38;5;241m.\u001b[39mgraph, extracted\u001b[38;5;241m.\u001b[39msources, extracted\u001b[38;5;241m.\u001b[39msink\n\u001b[1;32m--> 100\u001b[0m \u001b[43mbasis_inference\u001b[49m\u001b[38;5;241;43m.\u001b[39;49m\u001b[43minfer_bases\u001b[49m\u001b[43m(\u001b[49m\n\u001b[0;32m    101\u001b[0m \u001b[43m    \u001b[49m\u001b[43mgraph\u001b[49m\u001b[43m,\u001b[49m\n\u001b[0;32m    102\u001b[0m \u001b[43m    \u001b[49m\u001b[43msink\u001b[49m\u001b[43m,\u001b[49m\n\u001b[0;32m    103\u001b[0m \u001b[43m    \u001b[49m\u001b[43mvocab\u001b[49m\u001b[43m,\u001b[49m\n\u001b[0;32m    104\u001b[0m \u001b[43m    \u001b[49m\u001b[43mmax_seq_len\u001b[49m\u001b[43m,\u001b[49m\n\u001b[0;32m    105\u001b[0m \u001b[43m\u001b[49m\u001b[43m)\u001b[49m\n\u001b[0;32m    107\u001b[0m expr_to_craft_graph\u001b[38;5;241m.\u001b[39madd_craft_components_to_rasp_graph(\n\u001b[0;32m    108\u001b[0m     graph,\n\u001b[0;32m    109\u001b[0m     bos_dir\u001b[38;5;241m=\u001b[39mbases\u001b[38;5;241m.\u001b[39mBasisDirection(rasp\u001b[38;5;241m.\u001b[39mtokens\u001b[38;5;241m.\u001b[39mlabel, compiler_bos),\n\u001b[0;32m    110\u001b[0m     mlp_exactness\u001b[38;5;241m=\u001b[39mmlp_exactness,\n\u001b[0;32m    111\u001b[0m )\n\u001b[0;32m    113\u001b[0m craft_model \u001b[38;5;241m=\u001b[39m craft_graph_to_model\u001b[38;5;241m.\u001b[39mcraft_graph_to_model(graph, sources)\n",
      "File \u001b[1;32mc:\\Users\\00tho\\anaconda3\\envs\\RASP\\Lib\\site-packages\\tracr\\compiler\\basis_inference.py:98\u001b[0m, in \u001b[0;36minfer_bases\u001b[1;34m(graph, sink, vocab, max_seq_len)\u001b[0m\n\u001b[0;32m     94\u001b[0m \u001b[38;5;28;01mif\u001b[39;00m \u001b[38;5;129;01mnot\u001b[39;00m \u001b[38;5;28misinstance\u001b[39m(expr, rasp\u001b[38;5;241m.\u001b[39mSOp):\n\u001b[0;32m     95\u001b[0m   \u001b[38;5;66;03m# Only S-Ops have output vector spaces.\u001b[39;00m\n\u001b[0;32m     96\u001b[0m   \u001b[38;5;28;01mcontinue\u001b[39;00m\n\u001b[1;32m---> 98\u001b[0m value_set \u001b[38;5;241m=\u001b[39m \u001b[43mcompute_value_set\u001b[49m\u001b[43m(\u001b[49m\u001b[43mexpr\u001b[49m\u001b[43m)\u001b[49m\n\u001b[0;32m     99\u001b[0m graph\u001b[38;5;241m.\u001b[39mnodes[node_id][nodes\u001b[38;5;241m.\u001b[39mVALUE_SET] \u001b[38;5;241m=\u001b[39m value_set\n\u001b[0;32m    101\u001b[0m \u001b[38;5;28;01mif\u001b[39;00m rasp\u001b[38;5;241m.\u001b[39mis_categorical(expr):\n",
      "File \u001b[1;32mc:\\Users\\00tho\\anaconda3\\envs\\RASP\\Lib\\site-packages\\tracr\\compiler\\basis_inference.py:80\u001b[0m, in \u001b[0;36minfer_bases.<locals>.compute_value_set\u001b[1;34m(sop)\u001b[0m\n\u001b[0;32m     78\u001b[0m sop_value_set \u001b[38;5;241m=\u001b[39m graph\u001b[38;5;241m.\u001b[39mnodes[sop\u001b[38;5;241m.\u001b[39msop\u001b[38;5;241m.\u001b[39mlabel][nodes\u001b[38;5;241m.\u001b[39mVALUE_SET]\n\u001b[0;32m     79\u001b[0m \u001b[38;5;28;01mif\u001b[39;00m \u001b[38;5;129;01mnot\u001b[39;00m {\u001b[38;5;28mint\u001b[39m(x) \u001b[38;5;28;01mfor\u001b[39;00m x \u001b[38;5;129;01min\u001b[39;00m sop_value_set}\u001b[38;5;241m.\u001b[39missubset({\u001b[38;5;241m0\u001b[39m, \u001b[38;5;241m1\u001b[39m}):\n\u001b[1;32m---> 80\u001b[0m   \u001b[38;5;28;01mraise\u001b[39;00m \u001b[38;5;167;01mNotImplementedError\u001b[39;00m(\n\u001b[0;32m     81\u001b[0m       \u001b[38;5;124m\"\u001b[39m\u001b[38;5;124mAttention patterns can currently only \u001b[39m\u001b[38;5;124m\"\u001b[39m\n\u001b[0;32m     82\u001b[0m       \u001b[38;5;124m\"\u001b[39m\u001b[38;5;124maverage binary variables. Not:\u001b[39m\u001b[38;5;124m\"\u001b[39m, sop_value_set)\n\u001b[0;32m     84\u001b[0m value_set \u001b[38;5;241m=\u001b[39m \u001b[38;5;28mset\u001b[39m()\n\u001b[0;32m     85\u001b[0m \u001b[38;5;28;01mfor\u001b[39;00m value \u001b[38;5;129;01min\u001b[39;00m sop_value_set:\n",
      "\u001b[1;31mNotImplementedError\u001b[0m: ('Attention patterns can currently only average binary variables. Not:', {0, 40, 10, 20, 30})"
     ]
    }
   ],
   "source": [
    "def test() -> rasp.SOp:\n",
    "    sel = rasp.Select(rasp.indices, rasp.indices, rasp.Comparison.LEQ)\n",
    "    input = rasp.numerical(rasp.tokens*1)\n",
    "    return rasp.numerical(rasp.Aggregate(sel, rasp.numerical(rasp.indices*10), default=0))\n",
    "\n",
    "tempModel = compiling.compile_rasp_to_model(test(), {0,1,2,3,4,5}, 5, compiler_bos=\"BOS\")\n",
    "model = tempModel\n",
    "input = [\"BOS\", 3,1,2,4,1]\n",
    "print(model.apply(input).decoded)"
   ]
  }
 ],
 "metadata": {
  "kernelspec": {
   "display_name": "RASP",
   "language": "python",
   "name": "python3"
  },
  "language_info": {
   "codemirror_mode": {
    "name": "ipython",
    "version": 3
   },
   "file_extension": ".py",
   "mimetype": "text/x-python",
   "name": "python",
   "nbconvert_exporter": "python",
   "pygments_lexer": "ipython3",
   "version": "3.12.2"
  }
 },
 "nbformat": 4,
 "nbformat_minor": 2
}

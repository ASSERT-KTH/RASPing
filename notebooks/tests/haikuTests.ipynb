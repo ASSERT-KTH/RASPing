{
 "cells": [
  {
   "cell_type": "code",
   "execution_count": 1,
   "metadata": {},
   "outputs": [],
   "source": [
    "import haiku as hk\n",
    "import jax\n",
    "import jax.numpy as jnp\n",
    "import numpy as np"
   ]
  },
  {
   "cell_type": "code",
   "execution_count": 2,
   "metadata": {},
   "outputs": [
    {
     "data": {
      "text/plain": [
       "Transformed(init=<function without_state.<locals>.init_fn at 0x0000018DAA422AC0>, apply=<function without_state.<locals>.apply_fn at 0x0000018DAA422DE0>)"
      ]
     },
     "execution_count": 2,
     "metadata": {},
     "output_type": "execute_result"
    }
   ],
   "source": [
    "class MyLinear1(hk.Module):\n",
    "\n",
    "  def __init__(self, output_size, name=None):\n",
    "    super().__init__(name=name)\n",
    "    self.output_size = output_size\n",
    "\n",
    "  def __call__(self, x):\n",
    "    j, k = x.shape[-1], self.output_size\n",
    "    w_init = hk.initializers.TruncatedNormal(1. / np.sqrt(j))\n",
    "    w = hk.get_parameter(\"w\", shape=[j, k], dtype=x.dtype, init=w_init)\n",
    "    b = hk.get_parameter(\"b\", shape=[k], dtype=x.dtype, init=jnp.ones)\n",
    "    return jnp.dot(x, w) + b\n",
    "  \n",
    "def _forward_fn_linear1(x):\n",
    "    module = MyLinear1(output_size=2)\n",
    "    return module(x)\n",
    "\n",
    "forward_linear1 = hk.transform(_forward_fn_linear1)\n",
    "\n",
    "forward_linear1"
   ]
  },
  {
   "cell_type": "code",
   "execution_count": 3,
   "metadata": {},
   "outputs": [
    {
     "name": "stdout",
     "output_type": "stream",
     "text": [
      "{'my_linear1': {'w': Array([[-0.30350363,  0.5123802 ],\n",
      "       [ 0.08009142, -0.3163005 ],\n",
      "       [ 0.6056666 ,  0.5820702 ]], dtype=float32), 'b': Array([1., 1.], dtype=float32)}}\n"
     ]
    }
   ],
   "source": [
    "dummy_x = jnp.array([[1., 2., 3.]])\n",
    "rng_key = jax.random.PRNGKey(42)\n",
    "\n",
    "params = forward_linear1.init(rng=rng_key, x=dummy_x)\n",
    "print(params)"
   ]
  },
  {
   "cell_type": "code",
   "execution_count": 4,
   "metadata": {},
   "outputs": [
    {
     "name": "stdout",
     "output_type": "stream",
     "text": [
      "Output 1 : [[2.6736789 2.6259897]]\n",
      "Output 2 (same as output 1): [[2.6736789 2.6259897]]\n",
      "Output 3 : [[3.820442 4.960439]\n",
      " [4.967205 7.294889]]\n"
     ]
    }
   ],
   "source": [
    "sample_x = jnp.array([[1., 2., 3.]])\n",
    "sample_x_2 = jnp.array([[4., 5., 6.], [7., 8., 9.]])\n",
    "\n",
    "output_1 = forward_linear1.apply(params=params, x=sample_x, rng=rng_key)\n",
    "# Outputs are identical for given inputs since the forward inference is non-stochastic.\n",
    "output_2 = forward_linear1.apply(params=params, x=sample_x, rng=rng_key)\n",
    "\n",
    "output_3 = forward_linear1.apply(params=params, x=sample_x_2, rng=rng_key)\n",
    "\n",
    "print(f'Output 1 : {output_1}')\n",
    "print(f'Output 2 (same as output 1): {output_2}')\n",
    "print(f'Output 3 : {output_3}')"
   ]
  },
  {
   "cell_type": "code",
   "execution_count": 5,
   "metadata": {},
   "outputs": [
    {
     "name": "stdout",
     "output_type": "stream",
     "text": [
      "Output without random key in forward pass \n",
      " [[2.6736789 2.6259897]]\n"
     ]
    }
   ],
   "source": [
    "forward_without_rng = hk.without_apply_rng(hk.transform(_forward_fn_linear1))\n",
    "params = forward_without_rng.init(rng=rng_key, x=sample_x)\n",
    "output = forward_without_rng.apply(x=sample_x, params=params)\n",
    "print(f'Output without random key in forward pass \\n {output}')"
   ]
  },
  {
   "cell_type": "code",
   "execution_count": 6,
   "metadata": {},
   "outputs": [
    {
     "name": "stdout",
     "output_type": "stream",
     "text": [
      "Mutated params \n",
      " : {'my_linear1': {'b': Array([2., 2.], dtype=float32), 'w': Array([[0.69649637, 1.5123801 ],\n",
      "       [1.0800915 , 0.6836995 ],\n",
      "       [1.6056666 , 1.5820701 ]], dtype=float32)}}\n",
      "Output with mutated params \n",
      " [[9.673679 9.62599 ]]\n"
     ]
    }
   ],
   "source": [
    "#THe method used when training using gradient descent?\n",
    "mutated_params = jax.tree_util.tree_map(lambda x: x+1., params) #Literally just adds one to all parameters lol\n",
    "print(f'Mutated params \\n : {mutated_params}')\n",
    "mutated_output = forward_without_rng.apply(x=sample_x, params=mutated_params)\n",
    "print(f'Output with mutated params \\n {mutated_output}')"
   ]
  },
  {
   "cell_type": "code",
   "execution_count": 7,
   "metadata": {},
   "outputs": [
    {
     "name": "stdout",
     "output_type": "stream",
     "text": [
      "Initial params:\n",
      "{'~': {'multiplier': Array([1.], dtype=float32)}}\n",
      "Initial state:\n",
      "{'~': {'counter': Array(1, dtype=int32)}}\n",
      "##########\n",
      "After 1 iterations:\n",
      "Output: [[6.]]\n",
      "State: {'~': {'counter': Array(2, dtype=int32)}}\n",
      "##########\n",
      "After 2 iterations:\n",
      "Output: [[7.]]\n",
      "State: {'~': {'counter': Array(3, dtype=int32)}}\n",
      "##########\n",
      "After 3 iterations:\n",
      "Output: [[8.]]\n",
      "State: {'~': {'counter': Array(4, dtype=int32)}}\n",
      "##########\n"
     ]
    }
   ],
   "source": [
    "def stateful_f(x):\n",
    "  counter = hk.get_state(\"counter\", shape=[], dtype=jnp.int32, init=jnp.ones)\n",
    "  multiplier = hk.get_parameter('multiplier', shape=[1,], dtype=x.dtype, init=jnp.ones)\n",
    "  hk.set_state(\"counter\", counter + 1)\n",
    "  output = x + multiplier * counter\n",
    "  return output\n",
    "\n",
    "stateful_forward = hk.without_apply_rng(hk.transform_with_state(stateful_f))\n",
    "sample_x = jnp.array([[5., ]])\n",
    "params, state = stateful_forward.init(x=sample_x, rng=rng_key)\n",
    "print(f'Initial params:\\n{params}\\nInitial state:\\n{state}')\n",
    "print('##########')\n",
    "for i in range(3):\n",
    "  output, state = stateful_forward.apply(params, state, x=sample_x)\n",
    "  print(f'After {i+1} iterations:\\nOutput: {output}\\nState: {state}')\n",
    "  print('##########')"
   ]
  },
  {
   "cell_type": "code",
   "execution_count": 8,
   "metadata": {},
   "outputs": [
    {
     "data": {
      "text/plain": [
       "{'custom_linear/~/hk_internal_linear/~/linear_0': {'w': Array([[ 1.51595   , -0.23353337]], dtype=float32),\n",
       "  'b': Array([0., 0.], dtype=float32)},\n",
       " 'custom_linear/~/hk_internal_linear/~/linear_1': {'w': Array([[-0.22075887, -0.27375957,  0.5931483 ],\n",
       "         [ 0.7818068 ,  0.72626334, -0.6860752 ]], dtype=float32),\n",
       "  'b': Array([0., 0., 0.], dtype=float32)},\n",
       " 'custom_linear/~/old_linear': {'w': Array([[ 0.28584382,  0.31626168],\n",
       "         [ 0.2335775 , -0.4827032 ],\n",
       "         [-0.14647584, -0.7185701 ]], dtype=float32),\n",
       "  'b': Array([1., 1.], dtype=float32)}}"
      ]
     },
     "execution_count": 8,
     "metadata": {},
     "output_type": "execute_result"
    }
   ],
   "source": [
    "# See: https://dm-haiku.readthedocs.io/en/latest/api.html#common-modules\n",
    "\n",
    "class MyModuleCustom(hk.Module):\n",
    "    def __init__(self, output_size=2, name='custom_linear'):\n",
    "        super().__init__(name=name)\n",
    "        self._internal_linear_1 = hk.nets.MLP(output_sizes=[2, 3], name='hk_internal_linear')\n",
    "        self._internal_linear_2 = MyLinear1(output_size=output_size, name='old_linear')\n",
    "\n",
    "    def __call__(self, x):\n",
    "        return self._internal_linear_2(self._internal_linear_1(x))\n",
    "\n",
    "def _custom_forward_fn(x):\n",
    "    module = MyModuleCustom()\n",
    "    return module(x)\n",
    "\n",
    "custom_forward_without_rng = hk.without_apply_rng(hk.transform(_custom_forward_fn))\n",
    "params = custom_forward_without_rng.init(rng=rng_key, x=sample_x)\n",
    "params"
   ]
  },
  {
   "cell_type": "code",
   "execution_count": 9,
   "metadata": {},
   "outputs": [
    {
     "name": "stdout",
     "output_type": "stream",
     "text": [
      "INIT:\n",
      "Bernoullis are  : (Array(True, dtype=bool), Array(False, dtype=bool))\n",
      "APPLY:\n",
      "Bernoullis are  : (Array(True, dtype=bool), Array(False, dtype=bool))\n"
     ]
    }
   ],
   "source": [
    "class HkRandom2(hk.Module):\n",
    "  def __init__(self, rate=0.5):\n",
    "    super().__init__()\n",
    "    self.rate = rate\n",
    "\n",
    "  def __call__(self, x):\n",
    "    key1 = hk.next_rng_key()\n",
    "    return jax.random.bernoulli(key1, 1.0 - self.rate, shape=x.shape)\n",
    "\n",
    "\n",
    "class HkRandomNest(hk.Module):\n",
    "  def __init__(self, rate=0.5):\n",
    "    super().__init__()\n",
    "    self.rate = rate\n",
    "    self._another_random_module = HkRandom2()\n",
    "\n",
    "  def __call__(self, x):\n",
    "    key2 = hk.next_rng_key()\n",
    "    p1 = self._another_random_module(x)\n",
    "    p2 = jax.random.bernoulli(key2, 1.0 - self.rate, shape=x.shape)\n",
    "    print(f'Bernoullis are  : {p1, p2}')\n",
    "\n",
    "# Note that the modules that are stochastic cannot be wrapped with hk.without_apply_rng()\n",
    "forward = hk.transform(lambda x: HkRandomNest()(x))\n",
    "\n",
    "x = jnp.array(1.)\n",
    "print(\"INIT:\")\n",
    "params = forward.init(rng_key, x=x)\n",
    "print(\"APPLY:\")\n",
    "prediction = forward.apply(params, x=x, rng=rng_key)"
   ]
  },
  {
   "cell_type": "code",
   "execution_count": 10,
   "metadata": {},
   "outputs": [
    {
     "name": "stdout",
     "output_type": "stream",
     "text": [
      "Bernoullis are  : (Array(True, dtype=bool), Array(False, dtype=bool))\n",
      "Bernoullis are  : (Array(True, dtype=bool), Array(False, dtype=bool))\n",
      "Bernoullis are  : (Array(True, dtype=bool), Array(False, dtype=bool))\n"
     ]
    }
   ],
   "source": [
    "for _ in range(3):\n",
    "  forward.apply(params, x=x, rng=rng_key)"
   ]
  },
  {
   "cell_type": "code",
   "execution_count": 11,
   "metadata": {},
   "outputs": [
    {
     "name": "stdout",
     "output_type": "stream",
     "text": [
      "Bernoullis are  : (Array(False, dtype=bool), Array(False, dtype=bool))\n",
      "Bernoullis are  : (Array(True, dtype=bool), Array(False, dtype=bool))\n",
      "Bernoullis are  : (Array(False, dtype=bool), Array(False, dtype=bool))\n"
     ]
    }
   ],
   "source": [
    "for _ in range(3):\n",
    "  rng_key, apply_rng_key = jax.random.split(rng_key)    #This is the key part to generating new rng_keys\n",
    "  forward.apply(params, x=x, rng=apply_rng_key)"
   ]
  },
  {
   "cell_type": "code",
   "execution_count": 12,
   "metadata": {},
   "outputs": [
    {
     "name": "stdout",
     "output_type": "stream",
     "text": [
      "Bernoullis are  : (Array(False, dtype=bool), Array(True, dtype=bool))\n",
      "Bernoullis are  : (Array(False, dtype=bool), Array(False, dtype=bool))\n",
      "Bernoullis are  : (Array(False, dtype=bool), Array(True, dtype=bool))\n"
     ]
    }
   ],
   "source": [
    "rng_sequence = hk.PRNGSequence(rng_key) #Same principle (i think) but as an itterable\n",
    "for _ in range(3):\n",
    "  forward.apply(params, x=x, rng=next(rng_sequence))"
   ]
  },
  {
   "cell_type": "markdown",
   "metadata": {},
   "source": [
    "Custom simplified haiku \"equivalent\""
   ]
  },
  {
   "cell_type": "code",
   "execution_count": 13,
   "metadata": {},
   "outputs": [],
   "source": [
    "def my_stateless_apply(params, x):\n",
    "  return params['w'] * x"
   ]
  },
  {
   "cell_type": "code",
   "execution_count": 14,
   "metadata": {},
   "outputs": [],
   "source": [
    "# Global state which holds the parameters for the transformed function.\n",
    "# get_param uses this to know where to get params from.\n",
    "current_params = []\n",
    "\n",
    "def transform(f):\n",
    "\n",
    "  def apply_f(params, *args, **kwargs):\n",
    "    current_params.append(params)\n",
    "    outs = f(*args, **kwargs)\n",
    "    current_params.pop()\n",
    "    return outs\n",
    "\n",
    "  return apply_f\n",
    "\n",
    "\n",
    "def get_param(identifier):\n",
    "  return current_params[-1][identifier]"
   ]
  },
  {
   "cell_type": "code",
   "execution_count": 15,
   "metadata": {},
   "outputs": [
    {
     "data": {
      "text/plain": [
       "25"
      ]
     },
     "execution_count": 15,
     "metadata": {},
     "output_type": "execute_result"
    }
   ],
   "source": [
    "params = dict(w=5)\n",
    "my_stateless_apply(params, 5)"
   ]
  },
  {
   "cell_type": "code",
   "execution_count": 16,
   "metadata": {},
   "outputs": [
    {
     "data": {
      "text/plain": [
       "25"
      ]
     },
     "execution_count": 16,
     "metadata": {},
     "output_type": "execute_result"
    }
   ],
   "source": [
    "class MyModule:\n",
    "  def apply(self, x):\n",
    "    return get_param('w') * x\n",
    "\n",
    "transform(MyModule().apply)(params, 5)"
   ]
  },
  {
   "cell_type": "code",
   "execution_count": 17,
   "metadata": {},
   "outputs": [
    {
     "data": {
      "text/plain": [
       "Array([[4., 4., 4., 4., 4.],\n",
       "       [4., 4., 4., 4., 4.],\n",
       "       [4., 4., 4., 4., 4.],\n",
       "       [4., 4., 4., 4., 4.],\n",
       "       [4., 4., 4., 4., 4.],\n",
       "       [4., 4., 4., 4., 4.],\n",
       "       [4., 4., 4., 4., 4.],\n",
       "       [4., 4., 4., 4., 4.],\n",
       "       [4., 4., 4., 4., 4.],\n",
       "       [4., 4., 4., 4., 4.]], dtype=float32)"
      ]
     },
     "execution_count": 17,
     "metadata": {},
     "output_type": "execute_result"
    }
   ],
   "source": [
    "def linear(x):\n",
    "  return x @ get_param('w') + get_param('b')\n",
    "\n",
    "params = dict(w=jnp.ones((3, 5)), b=jnp.ones((5,)))\n",
    "apply = transform(linear)\n",
    "\n",
    "jax.jit(apply)(params, jnp.ones((10, 3)))"
   ]
  },
  {
   "cell_type": "code",
   "execution_count": 18,
   "metadata": {},
   "outputs": [],
   "source": [
    "from typing import NamedTuple, Dict, Callable\n",
    "\n",
    "# Since we're tracking more than just the current params,\n",
    "# we introduce the concept of a frame as the object that holds\n",
    "# state during a transformed execution.\n",
    "frame_stack = []\n",
    "\n",
    "class Frame(NamedTuple):\n",
    "  \"\"\"Tracks what's going on during a call of a transformed function.\"\"\"\n",
    "  params: Dict[str, jax.Array]\n",
    "  is_initialising: bool = False\n",
    "\n",
    "def current_frame():\n",
    "  return frame_stack[-1]\n",
    "\n",
    "\n",
    "class Transformed(NamedTuple):\n",
    "  init: Callable\n",
    "  apply: Callable\n",
    "\n",
    "\n",
    "def transform(f) -> Transformed:\n",
    "\n",
    "  def init_f(*args, **kwargs):\n",
    "    frame_stack.append(Frame({}, is_initialising=True))\n",
    "    f(*args, **kwargs)\n",
    "    frame = frame_stack.pop()\n",
    "    return frame.params\n",
    "\n",
    "  def apply_f(params, *args, **kwargs):\n",
    "    frame_stack.append(Frame(params))\n",
    "    outs = f(*args, **kwargs)\n",
    "    frame_stack.pop()\n",
    "    return outs\n",
    "\n",
    "  return Transformed(init_f, apply_f)\n",
    "\n",
    "def get_param(identifier, shape):\n",
    "  if current_frame().is_initialising:\n",
    "    current_frame().params[identifier] = np.random.normal(size=shape)\n",
    "\n",
    "  return current_frame().params[identifier]"
   ]
  },
  {
   "cell_type": "code",
   "execution_count": 19,
   "metadata": {},
   "outputs": [
    {
     "data": {
      "text/plain": [
       "{'b': (4,), 'w': (3, 4)}"
      ]
     },
     "execution_count": 19,
     "metadata": {},
     "output_type": "execute_result"
    }
   ],
   "source": [
    "# Make printing parameters a little more readable\n",
    "def parameter_shapes(params):\n",
    "  return jax.tree_util.tree_map(lambda p: p.shape, params)\n",
    "\n",
    "\n",
    "class Linear:\n",
    "\n",
    "  def __init__(self, width):\n",
    "    self._width = width\n",
    "\n",
    "  def __call__(self, x):\n",
    "    w = get_param('w', shape=(x.shape[-1], self._width))\n",
    "    b = get_param('b', shape=(self._width,))\n",
    "    return x @ w + b\n",
    "\n",
    "init, apply = transform(Linear(4))\n",
    "\n",
    "data = jnp.ones((2, 3))\n",
    "\n",
    "params = init(data)\n",
    "parameter_shapes(params)"
   ]
  },
  {
   "cell_type": "code",
   "execution_count": 20,
   "metadata": {},
   "outputs": [
    {
     "data": {
      "text/plain": [
       "Array([[-1.5025477,  1.1004083,  0.4648604, -1.1698687],\n",
       "       [-1.5025477,  1.1004083,  0.4648604, -1.1698687]], dtype=float32)"
      ]
     },
     "execution_count": 20,
     "metadata": {},
     "output_type": "execute_result"
    }
   ],
   "source": [
    "apply(params, data)"
   ]
  },
  {
   "cell_type": "code",
   "execution_count": 21,
   "metadata": {},
   "outputs": [],
   "source": [
    "import dataclasses\n",
    "import collections\n",
    "\n",
    "@dataclasses.dataclass\n",
    "class Frame:\n",
    "  \"\"\"Tracks what's going on during a call of a transformed function.\"\"\"\n",
    "  params: Dict[str, jax.Array]\n",
    "  is_initialising: bool = False\n",
    "\n",
    "  # Keeps track of how many modules of each class have been created so far.\n",
    "  # Used to assign new modules unique names.\n",
    "  module_counts: Dict[str, int] = dataclasses.field(\n",
    "      default_factory=lambda: collections.defaultdict(lambda: 0))\n",
    "\n",
    "  # Keeps track of the entire path to the current module method call.\n",
    "  # Module methods, when called, will add themselves to this stack.\n",
    "  # Used to give each parameter a unique name corresponding to the\n",
    "  # method scope it is in.\n",
    "  call_stack: list = dataclasses.field(default_factory=list)\n",
    "\n",
    "  def create_param_path(self, identifier) -> str:\n",
    "    \"\"\"Creates a unique path for this param.\"\"\"\n",
    "    return '/'.join(['~'] + self.call_stack + [identifier])\n",
    "\n",
    "  def create_unique_module_name(self, module_name: str) -> str:\n",
    "    \"\"\"Assigns a unique name to the module by appending its number to its name.\"\"\"\n",
    "    number = self.module_counts[module_name]\n",
    "    self.module_counts[module_name] += 1\n",
    "    return f\"{module_name}_{number}\"\n",
    "\n",
    "frame_stack = []\n",
    "\n",
    "def current_frame():\n",
    "  return frame_stack[-1]\n",
    "\n",
    "\n",
    "class Module:\n",
    "  def __init__(self):\n",
    "    # Assign a unique (for the current `transform` call)\n",
    "    # name to this instance of the module.\n",
    "    self._unique_name = current_frame().create_unique_module_name(\n",
    "        self.__class__.__name__)\n",
    "\n",
    "\n",
    "def module_method(f):\n",
    "  \"\"\"A decorator for Module methods.\"\"\"\n",
    "  # In the real Haiku, this doesn't face the user but is applied by a metaclass.\n",
    "\n",
    "  def wrapped(self, *args, **kwargs):\n",
    "    \"\"\"A version of f that lets the frame know it's being called.\"\"\"\n",
    "    # Self is the instance to which this method is attached.\n",
    "    module_name = self._unique_name\n",
    "    call_stack = current_frame().call_stack\n",
    "    call_stack.append(module_name)\n",
    "    call_stack.append(f.__name__)\n",
    "    outs = f(self, *args, **kwargs)\n",
    "    assert call_stack.pop() == f.__name__\n",
    "    assert call_stack.pop() == module_name\n",
    "    return outs\n",
    "\n",
    "  return wrapped\n",
    "\n",
    "\n",
    "def get_param(identifier, shape):\n",
    "  frame = current_frame()\n",
    "  param_path = frame.create_param_path(identifier)\n",
    "\n",
    "  if frame.is_initialising:\n",
    "    frame.params[param_path] = np.random.normal(size=shape)\n",
    "\n",
    "  return frame.params[param_path]\n",
    "\n",
    "\n",
    "class Linear(Module):\n",
    "\n",
    "  def __init__(self, width):\n",
    "    super().__init__()\n",
    "    self._width = width\n",
    "\n",
    "  @module_method  # Again, this decorator is behind-the-scenes in real Haiku.\n",
    "  def __call__(self, x):\n",
    "    w = get_param('w', shape=(x.shape[-1], self._width))\n",
    "    b = get_param('b', shape=(self._width,))\n",
    "    return x @ w + b"
   ]
  },
  {
   "cell_type": "code",
   "execution_count": 22,
   "metadata": {},
   "outputs": [
    {
     "data": {
      "text/plain": [
       "{'~/Linear_0/__call__/b': (4,), '~/Linear_0/__call__/w': (3, 4)}"
      ]
     },
     "execution_count": 22,
     "metadata": {},
     "output_type": "execute_result"
    }
   ],
   "source": [
    "init, apply = transform(lambda x: Linear(4)(x))\n",
    "\n",
    "params = init(data)\n",
    "parameter_shapes(params)"
   ]
  },
  {
   "cell_type": "code",
   "execution_count": 23,
   "metadata": {},
   "outputs": [
    {
     "data": {
      "text/plain": [
       "Array([[-0.9325123 ,  0.2730388 ,  2.0943596 , -0.33316752],\n",
       "       [-0.9325123 ,  0.2730388 ,  2.0943596 , -0.33316752]],      dtype=float32)"
      ]
     },
     "execution_count": 23,
     "metadata": {},
     "output_type": "execute_result"
    }
   ],
   "source": [
    "apply(params, data)"
   ]
  },
  {
   "cell_type": "code",
   "execution_count": 24,
   "metadata": {},
   "outputs": [],
   "source": [
    "class MLP(Module):\n",
    "\n",
    "  def __init__(self, widths):\n",
    "    super().__init__()\n",
    "    self._widths = widths\n",
    "\n",
    "  @module_method\n",
    "  def __call__(self, x):\n",
    "    for w in self._widths:\n",
    "      out = Linear(w)(x)\n",
    "      x = jax.nn.sigmoid(out)\n",
    "    return out"
   ]
  },
  {
   "cell_type": "code",
   "execution_count": 25,
   "metadata": {},
   "outputs": [
    {
     "data": {
      "text/plain": [
       "{'~/MLP_0/__call__/Linear_0/__call__/b': (3,),\n",
       " '~/MLP_0/__call__/Linear_0/__call__/w': (3, 3),\n",
       " '~/MLP_0/__call__/Linear_1/__call__/b': (5,),\n",
       " '~/MLP_0/__call__/Linear_1/__call__/w': (3, 5)}"
      ]
     },
     "execution_count": 25,
     "metadata": {},
     "output_type": "execute_result"
    }
   ],
   "source": [
    "init, apply = transform(lambda x: MLP([3, 5])(x))\n",
    "parameter_shapes(init(data))"
   ]
  },
  {
   "cell_type": "code",
   "execution_count": 26,
   "metadata": {},
   "outputs": [
    {
     "data": {
      "text/plain": [
       "{'~/ParameterReuseTest_0/__call__/Linear_0/__call__/b': (3,),\n",
       " '~/ParameterReuseTest_0/__call__/Linear_0/__call__/w': (3, 3)}"
      ]
     },
     "execution_count": 26,
     "metadata": {},
     "output_type": "execute_result"
    }
   ],
   "source": [
    "class ParameterReuseTest(Module):\n",
    "\n",
    "  @module_method\n",
    "  def __call__(self, x):\n",
    "    f = Linear(x.shape[-1])\n",
    "\n",
    "    x = f(x)\n",
    "    x = jax.nn.relu(x)\n",
    "    return f(x)\n",
    "\n",
    "init, forward = transform(lambda x: ParameterReuseTest()(x))\n",
    "parameter_shapes(init(data))"
   ]
  },
  {
   "cell_type": "code",
   "execution_count": 27,
   "metadata": {},
   "outputs": [],
   "source": [
    "import matplotlib.pyplot as plt"
   ]
  },
  {
   "cell_type": "code",
   "execution_count": 28,
   "metadata": {},
   "outputs": [
    {
     "data": {
      "text/plain": [
       "{'~/MLP_0/__call__/Linear_0/__call__/b': (128,),\n",
       " '~/MLP_0/__call__/Linear_0/__call__/w': (1, 128),\n",
       " '~/MLP_0/__call__/Linear_1/__call__/b': (128,),\n",
       " '~/MLP_0/__call__/Linear_1/__call__/w': (128, 128),\n",
       " '~/MLP_0/__call__/Linear_2/__call__/b': (1,),\n",
       " '~/MLP_0/__call__/Linear_2/__call__/w': (128, 1)}"
      ]
     },
     "execution_count": 28,
     "metadata": {},
     "output_type": "execute_result"
    }
   ],
   "source": [
    "# Data: a quadratic curve.\n",
    "xs = np.linspace(-2., 2., num=128)[:, None]  # Generate array of shape (128, 1).\n",
    "ys = xs ** 2\n",
    "\n",
    "# Model\n",
    "def mlp(x):\n",
    "  return MLP([128, 128, 1])(x)\n",
    "\n",
    "init, forward = transform(mlp)\n",
    "params = init(xs)\n",
    "parameter_shapes(params)"
   ]
  },
  {
   "cell_type": "code",
   "execution_count": 29,
   "metadata": {},
   "outputs": [],
   "source": [
    "# Loss function and update function\n",
    "def loss_fn(params, x, y):\n",
    "  return jnp.mean((forward(params, x) - y) ** 2)\n",
    "\n",
    "LEARNING_RATE = 0.003\n",
    "\n",
    "@jax.jit\n",
    "def update(params, x, y):\n",
    "  grads = jax.grad(loss_fn)(params, x, y)\n",
    "  return jax.tree_util.tree_map(\n",
    "      lambda p, g: p - LEARNING_RATE * g, params, grads\n",
    "  )"
   ]
  },
  {
   "cell_type": "code",
   "execution_count": 30,
   "metadata": {},
   "outputs": [
    {
     "data": {
      "image/png": "[encoded data removed]",
      "text/plain": [
       "<Figure size 640x480 with 1 Axes>"
      ]
     },
     "metadata": {},
     "output_type": "display_data"
    }
   ],
   "source": [
    "plt.scatter(xs, ys, label='Data')\n",
    "plt.scatter(xs, forward(params, xs), label='Model prediction')\n",
    "plt.legend()\n",
    "plt.show()"
   ]
  },
  {
   "cell_type": "code",
   "execution_count": 31,
   "metadata": {},
   "outputs": [],
   "source": [
    "for _ in range(5000):\n",
    "  params = update(params, xs, ys)"
   ]
  },
  {
   "cell_type": "code",
   "execution_count": 32,
   "metadata": {},
   "outputs": [
    {
     "data": {
      "image/png": "[encoded data removed]",
      "text/plain": [
       "<Figure size 640x480 with 1 Axes>"
      ]
     },
     "metadata": {},
     "output_type": "display_data"
    }
   ],
   "source": [
    "plt.scatter(xs, ys, label='Data')\n",
    "plt.scatter(xs, forward(params, xs), label='Model prediction')\n",
    "plt.legend()\n",
    "plt.show()"
   ]
  },
  {
   "cell_type": "markdown",
   "metadata": {},
   "source": [
    "Training a subset of parameters"
   ]
  },
  {
   "cell_type": "code",
   "execution_count": 33,
   "metadata": {},
   "outputs": [],
   "source": [
    "import haiku as hk\n",
    "import jax\n",
    "import jax.numpy as jnp\n",
    "import numpy as np"
   ]
  },
  {
   "cell_type": "code",
   "execution_count": 34,
   "metadata": {},
   "outputs": [
    {
     "name": "stderr",
     "output_type": "stream",
     "text": [
      "c:\\Users\\00tho\\anaconda3\\envs\\RASP\\Lib\\site-packages\\haiku\\_src\\initializers.py:127: UserWarning: Explicitly requested dtype float64  is not available, and will be truncated to dtype float32. To enable more dtypes, set the jax_enable_x64 configuration option or the JAX_ENABLE_X64 shell environment variable. See https://github.com/google/jax#current-gotchas for more.\n",
      "  unscaled = jax.random.truncated_normal(\n",
      "c:\\Users\\00tho\\anaconda3\\envs\\RASP\\Lib\\site-packages\\haiku\\_src\\base.py:658: UserWarning: Explicitly requested dtype float64 requested in zeros is not available, and will be truncated to dtype float32. To enable more dtypes, set the jax_enable_x64 configuration option or the JAX_ENABLE_X64 shell environment variable. See https://github.com/google/jax#current-gotchas for more.\n",
      "  param = init(shape, dtype)\n"
     ]
    },
    {
     "name": "stdout",
     "output_type": "stream",
     "text": [
      "{'mlp/~/linear_0': {'b': (300,), 'w': (1, 300)}, 'mlp/~/linear_1': {'b': (100,), 'w': (300, 100)}, 'mlp/~/linear_2': {'b': (10,), 'w': (100, 10)}}\n",
      "before training\n",
      "[0.] -> 0\n",
      "[1.] -> 3\n",
      "[2.] -> 3\n",
      "[3.] -> 3\n",
      "[4.] -> 3\n",
      "[5.] -> 3\n",
      "[6.] -> 3\n",
      "[7.] -> 3\n",
      "[8.] -> 3\n",
      "[9.] -> 3\n"
     ]
    }
   ],
   "source": [
    "num_classes = 10\n",
    "\n",
    "def f(x):\n",
    "  return hk.nets.MLP([300, 100, num_classes])(x)\n",
    "\n",
    "f = hk.transform(f)\n",
    "\n",
    "def test(params, num_classes=num_classes):\n",
    "  x = np.arange(num_classes).reshape([num_classes, 1]).astype(np.float32)\n",
    "  y = jnp.argmax(f.apply(params, None, x), axis=-1)\n",
    "  for x, y in zip(x, y):\n",
    "    print(x, \"->\", y)\n",
    "\n",
    "rng = jax.random.PRNGKey(42)\n",
    "x = np.zeros([num_classes, 1])\n",
    "params = f.init(rng, x)\n",
    "\n",
    "print(parameter_shapes(params))\n",
    "print(\"before training\")\n",
    "test(params)"
   ]
  },
  {
   "cell_type": "code",
   "execution_count": 35,
   "metadata": {},
   "outputs": [
    {
     "name": "stdout",
     "output_type": "stream",
     "text": [
      "x := [[3.0], [0.0], [6.0], [4.0]] y := [3 0 6 4]\n",
      "x := [[3.0], [9.0], [1.0], [4.0]] y := [3 9 1 4]\n",
      "x := [[1.0], [5.0], [4.0], [9.0]] y := [1 5 4 9]\n",
      "x := [[1.0], [2.0], [7.0], [4.0]] y := [1 2 7 4]\n",
      "x := [[8.0], [9.0], [3.0], [4.0]] y := [8 9 3 4]\n"
     ]
    }
   ],
   "source": [
    "def dataset(*, batch_size, num_records):\n",
    "  for _ in range(num_records):\n",
    "    y = np.arange(num_classes)\n",
    "    y = np.random.permutation(y)[:batch_size]\n",
    "    x = y.reshape([batch_size, 1]).astype(np.float32)\n",
    "    yield x, y\n",
    "\n",
    "for x, y in dataset(batch_size=4, num_records=5):\n",
    "  print(\"x :=\", x.tolist(), \"y :=\", y)"
   ]
  },
  {
   "cell_type": "code",
   "execution_count": 36,
   "metadata": {},
   "outputs": [
    {
     "name": "stdout",
     "output_type": "stream",
     "text": [
      "trainable: ['mlp/~/linear_0', 'mlp/~/linear_2']\n",
      "non_trainable: ['mlp/~/linear_1']\n",
      "trainable: ['mlp/~/linear_0', 'mlp/~/linear_1', 'mlp/~/linear_2']\n"
     ]
    }
   ],
   "source": [
    "# Partition our params into trainable and non trainable explicitly.\n",
    "trainable_params, non_trainable_params = hk.data_structures.partition(\n",
    "    lambda m, n, p: m != \"mlp/~/linear_1\", params)\n",
    "\n",
    "print(\"trainable:\", list(trainable_params))\n",
    "print(\"non_trainable:\", list(non_trainable_params))\n",
    "trainable_params = params\n",
    "print(\"trainable:\", list(trainable_params))"
   ]
  },
  {
   "cell_type": "code",
   "execution_count": 37,
   "metadata": {},
   "outputs": [],
   "source": [
    "def loss_fn(trainable_params, non_trainable_params, images, labels):\n",
    "  # NOTE: We need to combine trainable and non trainable before calling apply.\n",
    "  params = hk.data_structures.merge(trainable_params, non_trainable_params)\n",
    "\n",
    "  # NOTE: From here on this is a standard softmax cross entropy loss.\n",
    "  logits = f.apply(params, None, images)\n",
    "  labels = jax.nn.one_hot(labels, logits.shape[-1])\n",
    "  return -jnp.sum(labels * jax.nn.log_softmax(logits)) / labels.shape[0]\n",
    "\n",
    "def sgd_step(params, grads, *, lr):\n",
    "  return jax.tree_util.tree_map(lambda p, g: p - g * lr, params, grads)\n",
    "\n",
    "def train_step(trainable_params, non_trainable_params, x, y):\n",
    "  # NOTE: We will only compute gradients wrt `trainable_params`.\n",
    "  trainable_params_grads = jax.grad(loss_fn)(trainable_params,\n",
    "                                             non_trainable_params, x, y)\n",
    "\n",
    "  # NOTE: We are only updating `trainable_params`.\n",
    "  trainable_params = sgd_step(trainable_params, trainable_params_grads, lr=0.1)\n",
    "  return trainable_params\n",
    "\n",
    "train_step = jax.jit(train_step)\n",
    "\n",
    "for x, y in dataset(batch_size=num_classes, num_records=10000):\n",
    "  # NOTE: In our training loop only our trainable parameters are updated.\n",
    "  trainable_params = train_step(trainable_params, non_trainable_params, x, y)"
   ]
  },
  {
   "cell_type": "code",
   "execution_count": 38,
   "metadata": {},
   "outputs": [
    {
     "name": "stdout",
     "output_type": "stream",
     "text": [
      "after training\n",
      "[0.] -> 0\n",
      "[1.] -> 1\n",
      "[2.] -> 2\n",
      "[3.] -> 3\n",
      "[4.] -> 4\n",
      "[5.] -> 5\n",
      "[6.] -> 6\n",
      "[7.] -> 7\n",
      "[8.] -> 8\n",
      "[9.] -> 9\n"
     ]
    }
   ],
   "source": [
    "# Merge params again for inference.\n",
    "params = hk.data_structures.merge(trainable_params, non_trainable_params)\n",
    "\n",
    "print(\"after training\")\n",
    "test(params)"
   ]
  },
  {
   "cell_type": "code",
   "execution_count": 39,
   "metadata": {},
   "outputs": [
    {
     "name": "stdout",
     "output_type": "stream",
     "text": [
      "[0.] -> 0\n",
      "[1.] -> 1\n",
      "[2.] -> 2\n",
      "[3.] -> 3\n",
      "[4.] -> 4\n",
      "[5.] -> 5\n",
      "[6.] -> 6\n",
      "[7.] -> 7\n",
      "[8.] -> 8\n",
      "[9.] -> 9\n",
      "[10.] -> 9\n",
      "[11.] -> 9\n",
      "[12.] -> 9\n",
      "[13.] -> 9\n",
      "[14.] -> 9\n",
      "[15.] -> 9\n",
      "[16.] -> 9\n",
      "[17.] -> 9\n",
      "[18.] -> 9\n",
      "[19.] -> 9\n"
     ]
    }
   ],
   "source": [
    "test(params, num_classes=num_classes+10)"
   ]
  }
 ],
 "metadata": {
  "kernelspec": {
   "display_name": "RASP",
   "language": "python",
   "name": "python3"
  },
  "language_info": {
   "codemirror_mode": {
    "name": "ipython",
    "version": 3
   },
   "file_extension": ".py",
   "mimetype": "text/x-python",
   "name": "python",
   "nbconvert_exporter": "python",
   "pygments_lexer": "ipython3",
   "version": "3.12.2"
  }
 },
 "nbformat": 4,
 "nbformat_minor": 2
}

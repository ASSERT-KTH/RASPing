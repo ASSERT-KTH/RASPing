{
 "cells": [
  {
   "cell_type": "code",
   "execution_count": null,
   "metadata": {},
   "outputs": [],
   "source": [
    "import sys\n",
    "import os\n",
    "\n",
    "# TODO: this is a hack, change this for editable install\n",
    "module_path = os.path.abspath(os.path.join('../..'))\n",
    "if module_path not in sys.path:\n",
    "    sys.path.append(module_path)\n",
    "\n",
    "from src.functions import *\n",
    "\n",
    "from src.loss import cross_entropy_loss"
   ]
  },
  {
   "cell_type": "code",
   "execution_count": 5,
   "metadata": {},
   "outputs": [],
   "source": [
    "def test_n_samples_function(model_name: str, n_samples, max_len: int = 10, n_epochs: int = 50000, batch_size: int = 256, learning_rate: float = 1e-04, output_dir: str = None):\n",
    "    model = generateModel(model_name, max_len)\n",
    "    model.setRandomWeights()\n",
    "    X, Y = generateAndEncodeData(model_name, max_len, n_samples, removeDuplicates=True)\n",
    "\n",
    "    X_train = X[:int(0.85*len(X))]\n",
    "    Y_train = Y[:int(0.85*len(Y))]\n",
    "    X_val = X[int(0.85*len(X)):]\n",
    "    Y_val = Y[int(0.85*len(Y)):]\n",
    "\n",
    "    return model.train(X_train,Y_train, n_epochs, batch_size, learning_rate, False, X_val, Y_val, 0, 10, loss_fn=cross_entropy_loss, output_dir=output_dir)"
   ]
  },
  {
   "cell_type": "code",
   "execution_count": null,
   "metadata": {},
   "outputs": [
    {
     "name": "stdout",
     "output_type": "stream",
     "text": [
      "Testing reverse...\n",
      "Testing reverse with 5000 samples...\n"
     ]
    }
   ],
   "source": [
    "from concurrent.futures import ThreadPoolExecutor, as_completed\n",
    "\n",
    "def run_test(model_name, n_samples):\n",
    "    print(f\"Testing {model_name} with {n_samples} samples...\")\n",
    "    metrics, validation = test_n_samples_function(model_name, n_samples, output_dir=f\"saved_data/{model_name}/{n_samples}/\")\n",
    "    return model_name, n_samples, metrics, validation\n",
    "\n",
    "max_workers = 3\n",
    "with ThreadPoolExecutor(max_workers=max_workers) as executor:\n",
    "    futures = []\n",
    "    for model_name in getAcceptedNamesAndInput().keys():\n",
    "        print(f\"Testing {model_name}...\")\n",
    "        for n_samples in [5000, 10000, 25000, 50000, 100000]:\n",
    "            future = executor.submit(run_test, model_name, n_samples)\n",
    "            futures.append(future)\n",
    "            break\n",
    "        break\n",
    "\n",
    "    for future in as_completed(futures):\n",
    "        model_name, n_samples, metrics, validation = future.result()\n",
    "        print(f\"Completed {model_name} with {n_samples} samples\")"
   ]
  },
  {
   "cell_type": "code",
   "execution_count": null,
   "metadata": {},
   "outputs": [],
   "source": []
  }
 ],
 "metadata": {
  "kernelspec": {
   "display_name": ".venv",
   "language": "python",
   "name": "python3"
  },
  "language_info": {
   "codemirror_mode": {
    "name": "ipython",
    "version": 3
   },
   "file_extension": ".py",
   "mimetype": "text/x-python",
   "name": "python",
   "nbconvert_exporter": "python",
   "pygments_lexer": "ipython3",
   "version": "3.12.7"
  }
 },
 "nbformat": 4,
 "nbformat_minor": 2
}

{
 "cells": [
  {
   "cell_type": "code",
   "execution_count": null,
   "metadata": {},
   "outputs": [],
   "source": [
    "from tracr.rasp import rasp\n",
    "from tracr.compiler import compiling\n",
    "from tracr.compiler import lib\n",
    "\n",
    "import sys\n",
    "import os\n",
    "\n",
    "# TODO: this is a hack, change this for editable install\n",
    "module_path = os.path.abspath(os.path.join('../..'))\n",
    "if module_path not in sys.path:\n",
    "    sys.path.append(module_path)\n",
    "\n",
    "from src.model import Model\n",
    "from src.functions import *\n",
    "\n",
    "from src.loss import cross_entropy_loss, cross_entropy_loss_smoothed_accuracy, cross_entropy_loss_with_perfect_sequence"
   ]
  },
  {
   "cell_type": "code",
   "execution_count": null,
   "metadata": {},
   "outputs": [],
   "source": [
    "def test_loss_function(model_name: str, loss_fn, max_len: int = 10, n_samples: int = 5000, n_epochs: int = 50000, batch_size: int = 256, learning_rate: float = 1e-04, output_dir: str = None):\n",
    "    model = generateModel(model_name, max_len)\n",
    "    X, Y = generateAndEncodeData(model_name, max_len, n_samples, removeDuplicates=True)\n",
    "\n",
    "    X_train = X[:int(0.85*len(X))]\n",
    "    Y_train = Y[:int(0.85*len(Y))]\n",
    "    X_val = X[int(0.85*len(X)):]\n",
    "    Y_val = Y[int(0.85*len(Y)):]\n",
    "\n",
    "    return model.train(X_train,Y_train, n_epochs, batch_size, learning_rate, False, X_val, Y_val, 0, 10, loss_fn=loss_fn, output_dir=output_dir)"
   ]
  },
  {
   "cell_type": "code",
   "execution_count": null,
   "metadata": {
    "scrolled": true
   },
   "outputs": [],
   "source": [
    "import threading\n",
    "from concurrent.futures import ThreadPoolExecutor, as_completed\n",
    "\n",
    "def run_test(model_name, loss_fn_name, loss_fn):\n",
    "    print(f\"Testing {model_name} with {loss_fn_name}...\")\n",
    "    metrics, validation = test_loss_function(model_name, loss_fn, output_dir=f\"saved_data/{model_name}/{loss_fn_name}/\")\n",
    "    return model_name, loss_fn_name, metrics, validation\n",
    "\n",
    "max_workers = 3\n",
    "with ThreadPoolExecutor(max_workers=max_workers) as executor:\n",
    "    futures = []\n",
    "    for model_name in getAcceptedNamesAndInput().keys():\n",
    "        print(f\"Testing {model_name}...\")\n",
    "        for loss_fn_name, loss_fn in {\n",
    "            \"cross_entropy_loss\": cross_entropy_loss,\n",
    "            \"cross_entropy_loss_smoothed_accuracy\": cross_entropy_loss_smoothed_accuracy,\n",
    "            \"cross_entropy_loss_with_perfect_sequence\": cross_entropy_loss_with_perfect_sequence\n",
    "        }.items():\n",
    "            future = executor.submit(run_test, model_name, loss_fn_name, loss_fn)\n",
    "            futures.append(future)\n",
    "    \n",
    "    for future in as_completed(futures):\n",
    "        model_name, loss_fn_name, metrics, validation = future.result()\n",
    "        print(f\"Completed {model_name} with {loss_fn_name}\")"
   ]
  },
  {
   "cell_type": "code",
   "execution_count": null,
   "metadata": {},
   "outputs": [],
   "source": [
    "def load_loss_function_results(model_name: str, loss_fn_name: str):\n",
    "    metrics = np.load(f\"saved_data/{model_name}/{loss_fn_name}/metrics.npy\", allow_pickle=True)\n",
    "    validation = np.load(f\"saved_data/{model_name}/{loss_fn_name}/validations.npy\", allow_pickle=True)\n",
    "    return metrics, validation\n",
    "\n",
    "def plot_metrics(metrics):\n",
    "    plt.plot([m[\"step\"] for m in metrics], [m[\"loss\"] for m in metrics])\n",
    "    plt.xlabel(\"Step\")\n",
    "    plt.ylabel(\"Loss\")\n",
    "    plt.title(\"Training Loss\")\n",
    "    plt.show()\n",
    "\n",
    "def plot_validation(validations):\n",
    "    plt.plot(np.linspace(0, 50000, len(validations)), [m for m in validations])\n",
    "    plt.xlabel(\"Epochs\")\n",
    "    plt.ylabel(\"Accuracy\")\n",
    "    plt.title(\"Validation Accuracy\")\n",
    "    plt.show()\n",
    "\n",
    "def plot_loss_function_results(model_name: str, loss_fn_name: str):\n",
    "    metrics, validation = load_loss_function_results(model_name, loss_fn_name)\n",
    "    plot_metrics(metrics)\n",
    "    plot_validation(validation)"
   ]
  },
  {
   "cell_type": "code",
   "execution_count": null,
   "metadata": {},
   "outputs": [],
   "source": [
    "for model_name in getAcceptedNamesAndInput().keys():\n",
    "    for loss_fn_name, loss_fn in {\n",
    "        \"cross_entropy_loss\": cross_entropy_loss,\n",
    "        \"cross_entropy_loss_smoothed_accuracy\": cross_entropy_loss_smoothed_accuracy,\n",
    "        \"cross_entropy_loss_with_perfect_sequence\": cross_entropy_loss_with_perfect_sequence\n",
    "    }.items():\n",
    "        print(f\"Plotting {model_name} with {loss_fn_name}...\")\n",
    "        plot_loss_function_results(model_name, loss_fn_name)"
   ]
  },
  {
   "cell_type": "code",
   "execution_count": null,
   "metadata": {},
   "outputs": [],
   "source": []
  }
 ],
 "metadata": {
  "kernelspec": {
   "display_name": "Python 3 (ipykernel)",
   "language": "python",
   "name": "python3"
  },
  "language_info": {
   "codemirror_mode": {
    "name": "ipython",
    "version": 3
   },
   "file_extension": ".py",
   "mimetype": "text/x-python",
   "name": "python",
   "nbconvert_exporter": "python",
   "pygments_lexer": "ipython3",
   "version": "3.11.5"
  }
 },
 "nbformat": 4,
 "nbformat_minor": 4
}
